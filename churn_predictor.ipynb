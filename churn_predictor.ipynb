{
<<<<<<< HEAD
  "nbformat": 4,
  "nbformat_minor": 0,
  "metadata": {
    "colab": {
      "provenance": []
    },
    "kernelspec": {
      "name": "python3",
      "display_name": "Python 3"
    },
    "language_info": {
      "name": "python"
    }
  },
  "cells": [
    {
      "cell_type": "code",
      "execution_count": 63,
=======
  "cells": [
    {
      "cell_type": "code",
      "execution_count": 1,
>>>>>>> e3dfe9a (Initial push: Add churn_predictor.ipynb)
      "metadata": {
        "colab": {
          "base_uri": "https://localhost:8080/",
          "height": 206
        },
        "id": "LtkMRsKiEZW_",
        "outputId": "3f263912-7f1f-47ad-f062-db41b453409a"
      },
      "outputs": [
        {
<<<<<<< HEAD
          "output_type": "execute_result",
          "data": {
            "text/plain": [
              "   CustomerID    Industry  TenureMonths  LastLoginDaysAgo  SupportTickets  \\\n",
              "0        1001     Finance            20                30               1   \n",
              "1        1002   Education            48                39               3   \n",
              "2        1003  Healthcare            25                36               1   \n",
              "3        1004   Education            22                35               2   \n",
              "4        1005   Education            13                23               4   \n",
              "\n",
              "   AvgUsage  UsageDropPct  ContractEndsIn  Churned  \n",
              "0     98.42         24.81              20        0  \n",
              "1     67.23         58.54              18        1  \n",
              "2     39.51         51.25              21        0  \n",
              "3     36.95         33.28              10        0  \n",
              "4     44.62         60.73              15        0  "
            ],
            "text/html": [
              "\n",
              "  <div id=\"df-1a164f8b-aa41-455a-8788-20658aa9082a\" class=\"colab-df-container\">\n",
              "    <div>\n",
=======
          "data": {
            "text/html": [
              "<div>\n",
>>>>>>> e3dfe9a (Initial push: Add churn_predictor.ipynb)
              "<style scoped>\n",
              "    .dataframe tbody tr th:only-of-type {\n",
              "        vertical-align: middle;\n",
              "    }\n",
              "\n",
              "    .dataframe tbody tr th {\n",
              "        vertical-align: top;\n",
              "    }\n",
              "\n",
              "    .dataframe thead th {\n",
              "        text-align: right;\n",
              "    }\n",
              "</style>\n",
              "<table border=\"1\" class=\"dataframe\">\n",
              "  <thead>\n",
              "    <tr style=\"text-align: right;\">\n",
              "      <th></th>\n",
              "      <th>CustomerID</th>\n",
              "      <th>Industry</th>\n",
              "      <th>TenureMonths</th>\n",
              "      <th>LastLoginDaysAgo</th>\n",
              "      <th>SupportTickets</th>\n",
              "      <th>AvgUsage</th>\n",
              "      <th>UsageDropPct</th>\n",
              "      <th>ContractEndsIn</th>\n",
              "      <th>Churned</th>\n",
              "    </tr>\n",
              "  </thead>\n",
              "  <tbody>\n",
              "    <tr>\n",
              "      <th>0</th>\n",
              "      <td>1001</td>\n",
              "      <td>Finance</td>\n",
              "      <td>20</td>\n",
              "      <td>30</td>\n",
              "      <td>1</td>\n",
              "      <td>98.42</td>\n",
              "      <td>24.81</td>\n",
              "      <td>20</td>\n",
              "      <td>0</td>\n",
              "    </tr>\n",
              "    <tr>\n",
              "      <th>1</th>\n",
              "      <td>1002</td>\n",
              "      <td>Education</td>\n",
              "      <td>48</td>\n",
              "      <td>39</td>\n",
              "      <td>3</td>\n",
              "      <td>67.23</td>\n",
              "      <td>58.54</td>\n",
              "      <td>18</td>\n",
              "      <td>1</td>\n",
              "    </tr>\n",
              "    <tr>\n",
              "      <th>2</th>\n",
              "      <td>1003</td>\n",
              "      <td>Healthcare</td>\n",
              "      <td>25</td>\n",
              "      <td>36</td>\n",
              "      <td>1</td>\n",
              "      <td>39.51</td>\n",
              "      <td>51.25</td>\n",
              "      <td>21</td>\n",
              "      <td>0</td>\n",
              "    </tr>\n",
              "    <tr>\n",
              "      <th>3</th>\n",
              "      <td>1004</td>\n",
              "      <td>Education</td>\n",
              "      <td>22</td>\n",
              "      <td>35</td>\n",
              "      <td>2</td>\n",
              "      <td>36.95</td>\n",
              "      <td>33.28</td>\n",
              "      <td>10</td>\n",
              "      <td>0</td>\n",
              "    </tr>\n",
              "    <tr>\n",
              "      <th>4</th>\n",
              "      <td>1005</td>\n",
              "      <td>Education</td>\n",
              "      <td>13</td>\n",
              "      <td>23</td>\n",
              "      <td>4</td>\n",
              "      <td>44.62</td>\n",
              "      <td>60.73</td>\n",
              "      <td>15</td>\n",
              "      <td>0</td>\n",
              "    </tr>\n",
              "  </tbody>\n",
              "</table>\n",
<<<<<<< HEAD
              "</div>\n",
              "    <div class=\"colab-df-buttons\">\n",
              "\n",
              "  <div class=\"colab-df-container\">\n",
              "    <button class=\"colab-df-convert\" onclick=\"convertToInteractive('df-1a164f8b-aa41-455a-8788-20658aa9082a')\"\n",
              "            title=\"Convert this dataframe to an interactive table.\"\n",
              "            style=\"display:none;\">\n",
              "\n",
              "  <svg xmlns=\"http://www.w3.org/2000/svg\" height=\"24px\" viewBox=\"0 -960 960 960\">\n",
              "    <path d=\"M120-120v-720h720v720H120Zm60-500h600v-160H180v160Zm220 220h160v-160H400v160Zm0 220h160v-160H400v160ZM180-400h160v-160H180v160Zm440 0h160v-160H620v160ZM180-180h160v-160H180v160Zm440 0h160v-160H620v160Z\"/>\n",
              "  </svg>\n",
              "    </button>\n",
              "\n",
              "  <style>\n",
              "    .colab-df-container {\n",
              "      display:flex;\n",
              "      gap: 12px;\n",
              "    }\n",
              "\n",
              "    .colab-df-convert {\n",
              "      background-color: #E8F0FE;\n",
              "      border: none;\n",
              "      border-radius: 50%;\n",
              "      cursor: pointer;\n",
              "      display: none;\n",
              "      fill: #1967D2;\n",
              "      height: 32px;\n",
              "      padding: 0 0 0 0;\n",
              "      width: 32px;\n",
              "    }\n",
              "\n",
              "    .colab-df-convert:hover {\n",
              "      background-color: #E2EBFA;\n",
              "      box-shadow: 0px 1px 2px rgba(60, 64, 67, 0.3), 0px 1px 3px 1px rgba(60, 64, 67, 0.15);\n",
              "      fill: #174EA6;\n",
              "    }\n",
              "\n",
              "    .colab-df-buttons div {\n",
              "      margin-bottom: 4px;\n",
              "    }\n",
              "\n",
              "    [theme=dark] .colab-df-convert {\n",
              "      background-color: #3B4455;\n",
              "      fill: #D2E3FC;\n",
              "    }\n",
              "\n",
              "    [theme=dark] .colab-df-convert:hover {\n",
              "      background-color: #434B5C;\n",
              "      box-shadow: 0px 1px 3px 1px rgba(0, 0, 0, 0.15);\n",
              "      filter: drop-shadow(0px 1px 2px rgba(0, 0, 0, 0.3));\n",
              "      fill: #FFFFFF;\n",
              "    }\n",
              "  </style>\n",
              "\n",
              "    <script>\n",
              "      const buttonEl =\n",
              "        document.querySelector('#df-1a164f8b-aa41-455a-8788-20658aa9082a button.colab-df-convert');\n",
              "      buttonEl.style.display =\n",
              "        google.colab.kernel.accessAllowed ? 'block' : 'none';\n",
              "\n",
              "      async function convertToInteractive(key) {\n",
              "        const element = document.querySelector('#df-1a164f8b-aa41-455a-8788-20658aa9082a');\n",
              "        const dataTable =\n",
              "          await google.colab.kernel.invokeFunction('convertToInteractive',\n",
              "                                                    [key], {});\n",
              "        if (!dataTable) return;\n",
              "\n",
              "        const docLinkHtml = 'Like what you see? Visit the ' +\n",
              "          '<a target=\"_blank\" href=https://colab.research.google.com/notebooks/data_table.ipynb>data table notebook</a>'\n",
              "          + ' to learn more about interactive tables.';\n",
              "        element.innerHTML = '';\n",
              "        dataTable['output_type'] = 'display_data';\n",
              "        await google.colab.output.renderOutput(dataTable, element);\n",
              "        const docLink = document.createElement('div');\n",
              "        docLink.innerHTML = docLinkHtml;\n",
              "        element.appendChild(docLink);\n",
              "      }\n",
              "    </script>\n",
              "  </div>\n",
              "\n",
              "\n",
              "    <div id=\"df-fa451a4f-2f45-443a-9e60-2993419f52c9\">\n",
              "      <button class=\"colab-df-quickchart\" onclick=\"quickchart('df-fa451a4f-2f45-443a-9e60-2993419f52c9')\"\n",
              "                title=\"Suggest charts\"\n",
              "                style=\"display:none;\">\n",
              "\n",
              "<svg xmlns=\"http://www.w3.org/2000/svg\" height=\"24px\"viewBox=\"0 0 24 24\"\n",
              "     width=\"24px\">\n",
              "    <g>\n",
              "        <path d=\"M19 3H5c-1.1 0-2 .9-2 2v14c0 1.1.9 2 2 2h14c1.1 0 2-.9 2-2V5c0-1.1-.9-2-2-2zM9 17H7v-7h2v7zm4 0h-2V7h2v10zm4 0h-2v-4h2v4z\"/>\n",
              "    </g>\n",
              "</svg>\n",
              "      </button>\n",
              "\n",
              "<style>\n",
              "  .colab-df-quickchart {\n",
              "      --bg-color: #E8F0FE;\n",
              "      --fill-color: #1967D2;\n",
              "      --hover-bg-color: #E2EBFA;\n",
              "      --hover-fill-color: #174EA6;\n",
              "      --disabled-fill-color: #AAA;\n",
              "      --disabled-bg-color: #DDD;\n",
              "  }\n",
              "\n",
              "  [theme=dark] .colab-df-quickchart {\n",
              "      --bg-color: #3B4455;\n",
              "      --fill-color: #D2E3FC;\n",
              "      --hover-bg-color: #434B5C;\n",
              "      --hover-fill-color: #FFFFFF;\n",
              "      --disabled-bg-color: #3B4455;\n",
              "      --disabled-fill-color: #666;\n",
              "  }\n",
              "\n",
              "  .colab-df-quickchart {\n",
              "    background-color: var(--bg-color);\n",
              "    border: none;\n",
              "    border-radius: 50%;\n",
              "    cursor: pointer;\n",
              "    display: none;\n",
              "    fill: var(--fill-color);\n",
              "    height: 32px;\n",
              "    padding: 0;\n",
              "    width: 32px;\n",
              "  }\n",
              "\n",
              "  .colab-df-quickchart:hover {\n",
              "    background-color: var(--hover-bg-color);\n",
              "    box-shadow: 0 1px 2px rgba(60, 64, 67, 0.3), 0 1px 3px 1px rgba(60, 64, 67, 0.15);\n",
              "    fill: var(--button-hover-fill-color);\n",
              "  }\n",
              "\n",
              "  .colab-df-quickchart-complete:disabled,\n",
              "  .colab-df-quickchart-complete:disabled:hover {\n",
              "    background-color: var(--disabled-bg-color);\n",
              "    fill: var(--disabled-fill-color);\n",
              "    box-shadow: none;\n",
              "  }\n",
              "\n",
              "  .colab-df-spinner {\n",
              "    border: 2px solid var(--fill-color);\n",
              "    border-color: transparent;\n",
              "    border-bottom-color: var(--fill-color);\n",
              "    animation:\n",
              "      spin 1s steps(1) infinite;\n",
              "  }\n",
              "\n",
              "  @keyframes spin {\n",
              "    0% {\n",
              "      border-color: transparent;\n",
              "      border-bottom-color: var(--fill-color);\n",
              "      border-left-color: var(--fill-color);\n",
              "    }\n",
              "    20% {\n",
              "      border-color: transparent;\n",
              "      border-left-color: var(--fill-color);\n",
              "      border-top-color: var(--fill-color);\n",
              "    }\n",
              "    30% {\n",
              "      border-color: transparent;\n",
              "      border-left-color: var(--fill-color);\n",
              "      border-top-color: var(--fill-color);\n",
              "      border-right-color: var(--fill-color);\n",
              "    }\n",
              "    40% {\n",
              "      border-color: transparent;\n",
              "      border-right-color: var(--fill-color);\n",
              "      border-top-color: var(--fill-color);\n",
              "    }\n",
              "    60% {\n",
              "      border-color: transparent;\n",
              "      border-right-color: var(--fill-color);\n",
              "    }\n",
              "    80% {\n",
              "      border-color: transparent;\n",
              "      border-right-color: var(--fill-color);\n",
              "      border-bottom-color: var(--fill-color);\n",
              "    }\n",
              "    90% {\n",
              "      border-color: transparent;\n",
              "      border-bottom-color: var(--fill-color);\n",
              "    }\n",
              "  }\n",
              "</style>\n",
              "\n",
              "      <script>\n",
              "        async function quickchart(key) {\n",
              "          const quickchartButtonEl =\n",
              "            document.querySelector('#' + key + ' button');\n",
              "          quickchartButtonEl.disabled = true;  // To prevent multiple clicks.\n",
              "          quickchartButtonEl.classList.add('colab-df-spinner');\n",
              "          try {\n",
              "            const charts = await google.colab.kernel.invokeFunction(\n",
              "                'suggestCharts', [key], {});\n",
              "          } catch (error) {\n",
              "            console.error('Error during call to suggestCharts:', error);\n",
              "          }\n",
              "          quickchartButtonEl.classList.remove('colab-df-spinner');\n",
              "          quickchartButtonEl.classList.add('colab-df-quickchart-complete');\n",
              "        }\n",
              "        (() => {\n",
              "          let quickchartButtonEl =\n",
              "            document.querySelector('#df-fa451a4f-2f45-443a-9e60-2993419f52c9 button');\n",
              "          quickchartButtonEl.style.display =\n",
              "            google.colab.kernel.accessAllowed ? 'block' : 'none';\n",
              "        })();\n",
              "      </script>\n",
              "    </div>\n",
              "\n",
              "    </div>\n",
              "  </div>\n"
            ],
            "application/vnd.google.colaboratory.intrinsic+json": {
              "type": "dataframe",
              "variable_name": "df",
              "summary": "{\n  \"name\": \"df\",\n  \"rows\": 500,\n  \"fields\": [\n    {\n      \"column\": \"CustomerID\",\n      \"properties\": {\n        \"dtype\": \"number\",\n        \"std\": 144,\n        \"min\": 1001,\n        \"max\": 1500,\n        \"num_unique_values\": 500,\n        \"samples\": [\n          1362,\n          1074,\n          1375\n        ],\n        \"semantic_type\": \"\",\n        \"description\": \"\"\n      }\n    },\n    {\n      \"column\": \"Industry\",\n      \"properties\": {\n        \"dtype\": \"category\",\n        \"num_unique_values\": 5,\n        \"samples\": [\n          \"Education\",\n          \"Tech\",\n          \"Healthcare\"\n        ],\n        \"semantic_type\": \"\",\n        \"description\": \"\"\n      }\n    },\n    {\n      \"column\": \"TenureMonths\",\n      \"properties\": {\n        \"dtype\": \"number\",\n        \"std\": 17,\n        \"min\": 1,\n        \"max\": 59,\n        \"num_unique_values\": 59,\n        \"samples\": [\n          20,\n          59,\n          44\n        ],\n        \"semantic_type\": \"\",\n        \"description\": \"\"\n      }\n    },\n    {\n      \"column\": \"LastLoginDaysAgo\",\n      \"properties\": {\n        \"dtype\": \"number\",\n        \"std\": 17,\n        \"min\": 0,\n        \"max\": 59,\n        \"num_unique_values\": 60,\n        \"samples\": [\n          30,\n          5,\n          8\n        ],\n        \"semantic_type\": \"\",\n        \"description\": \"\"\n      }\n    },\n    {\n      \"column\": \"SupportTickets\",\n      \"properties\": {\n        \"dtype\": \"number\",\n        \"std\": 1,\n        \"min\": 0,\n        \"max\": 8,\n        \"num_unique_values\": 9,\n        \"samples\": [\n          5,\n          3,\n          0\n        ],\n        \"semantic_type\": \"\",\n        \"description\": \"\"\n      }\n    },\n    {\n      \"column\": \"AvgUsage\",\n      \"properties\": {\n        \"dtype\": \"number\",\n        \"std\": 20.40017823093975,\n        \"min\": 30.03,\n        \"max\": 99.98,\n        \"num_unique_values\": 482,\n        \"samples\": [\n          36.35,\n          71.33,\n          94.18\n        ],\n        \"semantic_type\": \"\",\n        \"description\": \"\"\n      }\n    },\n    {\n      \"column\": \"UsageDropPct\",\n      \"properties\": {\n        \"dtype\": \"number\",\n        \"std\": 22.149537935087395,\n        \"min\": 0.16,\n        \"max\": 79.96,\n        \"num_unique_values\": 482,\n        \"samples\": [\n          57.02,\n          74.69,\n          39.84\n        ],\n        \"semantic_type\": \"\",\n        \"description\": \"\"\n      }\n    },\n    {\n      \"column\": \"ContractEndsIn\",\n      \"properties\": {\n        \"dtype\": \"number\",\n        \"std\": 6,\n        \"min\": 0,\n        \"max\": 23,\n        \"num_unique_values\": 24,\n        \"samples\": [\n          23,\n          1,\n          20\n        ],\n        \"semantic_type\": \"\",\n        \"description\": \"\"\n      }\n    },\n    {\n      \"column\": \"Churned\",\n      \"properties\": {\n        \"dtype\": \"number\",\n        \"std\": 0,\n        \"min\": 0,\n        \"max\": 1,\n        \"num_unique_values\": 2,\n        \"samples\": [\n          1,\n          0\n        ],\n        \"semantic_type\": \"\",\n        \"description\": \"\"\n      }\n    }\n  ]\n}"
            }
          },
          "metadata": {},
          "execution_count": 63
        }
      ],
      "source": [
        "# We import the tools needed for data creation. pandas is for data tables, numpy helps with numbers and randomness.\n",
        "import pandas as pd\n",
        "import numpy as np\n",
        "import random\n",
        "import seaborn as sns\n",
        "import matplotlib.pyplot as plt\n",
        "\n",
        "# Set seed for reproducibility\n",
        "# This makes sure we get the same random values every time we run the notebook (useful for testing and sharing).\n",
        "np.random.seed(42)\n",
        "\n",
        "# Number of customers\n",
        "# We’ll create a dataset with 500 rows (each row = one customer).\n",
        "n_customers = 500\n",
        "\n",
        "# Simulate data\n",
        "# We simulate real CRM data using different techniques\n",
        "df = pd.DataFrame({\n",
        "    \"CustomerID\": range(1001, 1001 + n_customers),\n",
        "    \"Industry\": np.random.choice([\"Tech\", \"Retail\", \"Healthcare\", \"Finance\", \"Education\"], n_customers),\n",
        "    \"TenureMonths\": np.random.randint(1, 60, n_customers),\n",
        "    \"LastLoginDaysAgo\": np.random.randint(0, 60, n_customers),\n",
        "    \"SupportTickets\": np.random.poisson(2, n_customers),\n",
        "    \"AvgUsage\": np.round(np.random.uniform(30, 100, n_customers), 2),\n",
        "    \"UsageDropPct\": np.round(np.random.uniform(0, 80, n_customers), 2),\n",
        "    \"ContractEndsIn\": np.random.randint(0, 24, n_customers)\n",
        "})\n",
        "\n",
        "# Add churn with some logic\n",
        "# We add a new column Churned with a rule:\n",
        "df[\"Churned\"] = df.apply(\n",
        "    lambda row: 1 if (row[\"UsageDropPct\"] > 50 and row[\"LastLoginDaysAgo\"] > 30 and row[\"SupportTickets\"] >= 3) else 0,\n",
        "    axis=1\n",
        ")\n",
        "\n",
        "# Show sample\n",
=======
              "</div>"
            ],
            "text/plain": [
              "   CustomerID    Industry  TenureMonths  LastLoginDaysAgo  SupportTickets  \\\n",
              "0        1001     Finance            20                30               1   \n",
              "1        1002   Education            48                39               3   \n",
              "2        1003  Healthcare            25                36               1   \n",
              "3        1004   Education            22                35               2   \n",
              "4        1005   Education            13                23               4   \n",
              "\n",
              "   AvgUsage  UsageDropPct  ContractEndsIn  Churned  \n",
              "0     98.42         24.81              20        0  \n",
              "1     67.23         58.54              18        1  \n",
              "2     39.51         51.25              21        0  \n",
              "3     36.95         33.28              10        0  \n",
              "4     44.62         60.73              15        0  "
            ]
          },
          "execution_count": 1,
          "metadata": {},
          "output_type": "execute_result"
        }
      ],
      "source": [
        "# 📦 Import core libraries\n",
        "import pandas as pd\n",
        "import numpy as np\n",
        "import seaborn as sns\n",
        "import matplotlib.pyplot as plt\n",
        "\n",
        "# 🔧 Import helper functions from your utils folder\n",
        "from utils.churn_helpers import generate_customer_data, assign_retention_action\n",
        "\n",
        "# 🧪 Generate CRM dataset (500 rows, includes churn column)\n",
        "df = generate_customer_data()\n",
        "\n",
        "# 👀 Preview the dataset\n",
>>>>>>> e3dfe9a (Initial push: Add churn_predictor.ipynb)
        "df.head()\n"
      ]
    },
    {
      "cell_type": "code",
<<<<<<< HEAD
      "source": [
        "df.tail()"
      ],
=======
      "execution_count": 2,
>>>>>>> e3dfe9a (Initial push: Add churn_predictor.ipynb)
      "metadata": {
        "colab": {
          "base_uri": "https://localhost:8080/",
          "height": 206
        },
        "id": "6-YWApw_G0Fa",
        "outputId": "776cf518-0981-48ac-e425-5c19ce3de336"
      },
<<<<<<< HEAD
      "execution_count": 64,
      "outputs": [
        {
          "output_type": "execute_result",
          "data": {
            "text/plain": [
              "     CustomerID    Industry  TenureMonths  LastLoginDaysAgo  SupportTickets  \\\n",
              "495        1496        Tech            55                 5               1   \n",
              "496        1497  Healthcare             9                17               3   \n",
              "497        1498        Tech            55                20               4   \n",
              "498        1499        Tech             3                41               0   \n",
              "499        1500        Tech            51                35               2   \n",
              "\n",
              "     AvgUsage  UsageDropPct  ContractEndsIn  Churned  \n",
              "495     30.71         45.69              22        0  \n",
              "496     60.62         24.32              17        0  \n",
              "497     91.79         25.45              19        0  \n",
              "498     33.63         76.89              11        0  \n",
              "499     43.38         71.34              22        0  "
            ],
            "text/html": [
              "\n",
              "  <div id=\"df-67ba996e-443b-4fca-9895-e6945cf3a41d\" class=\"colab-df-container\">\n",
              "    <div>\n",
=======
      "outputs": [
        {
          "data": {
            "text/html": [
              "<div>\n",
>>>>>>> e3dfe9a (Initial push: Add churn_predictor.ipynb)
              "<style scoped>\n",
              "    .dataframe tbody tr th:only-of-type {\n",
              "        vertical-align: middle;\n",
              "    }\n",
              "\n",
              "    .dataframe tbody tr th {\n",
              "        vertical-align: top;\n",
              "    }\n",
              "\n",
              "    .dataframe thead th {\n",
              "        text-align: right;\n",
              "    }\n",
              "</style>\n",
              "<table border=\"1\" class=\"dataframe\">\n",
              "  <thead>\n",
              "    <tr style=\"text-align: right;\">\n",
              "      <th></th>\n",
              "      <th>CustomerID</th>\n",
              "      <th>Industry</th>\n",
              "      <th>TenureMonths</th>\n",
              "      <th>LastLoginDaysAgo</th>\n",
              "      <th>SupportTickets</th>\n",
              "      <th>AvgUsage</th>\n",
              "      <th>UsageDropPct</th>\n",
              "      <th>ContractEndsIn</th>\n",
              "      <th>Churned</th>\n",
              "    </tr>\n",
              "  </thead>\n",
              "  <tbody>\n",
              "    <tr>\n",
              "      <th>495</th>\n",
              "      <td>1496</td>\n",
              "      <td>Tech</td>\n",
              "      <td>55</td>\n",
              "      <td>5</td>\n",
              "      <td>1</td>\n",
              "      <td>30.71</td>\n",
              "      <td>45.69</td>\n",
              "      <td>22</td>\n",
              "      <td>0</td>\n",
              "    </tr>\n",
              "    <tr>\n",
              "      <th>496</th>\n",
              "      <td>1497</td>\n",
              "      <td>Healthcare</td>\n",
              "      <td>9</td>\n",
              "      <td>17</td>\n",
              "      <td>3</td>\n",
              "      <td>60.62</td>\n",
              "      <td>24.32</td>\n",
              "      <td>17</td>\n",
              "      <td>0</td>\n",
              "    </tr>\n",
              "    <tr>\n",
              "      <th>497</th>\n",
              "      <td>1498</td>\n",
              "      <td>Tech</td>\n",
              "      <td>55</td>\n",
              "      <td>20</td>\n",
              "      <td>4</td>\n",
              "      <td>91.79</td>\n",
              "      <td>25.45</td>\n",
              "      <td>19</td>\n",
              "      <td>0</td>\n",
              "    </tr>\n",
              "    <tr>\n",
              "      <th>498</th>\n",
              "      <td>1499</td>\n",
              "      <td>Tech</td>\n",
              "      <td>3</td>\n",
              "      <td>41</td>\n",
              "      <td>0</td>\n",
              "      <td>33.63</td>\n",
              "      <td>76.89</td>\n",
              "      <td>11</td>\n",
              "      <td>0</td>\n",
              "    </tr>\n",
              "    <tr>\n",
              "      <th>499</th>\n",
              "      <td>1500</td>\n",
              "      <td>Tech</td>\n",
              "      <td>51</td>\n",
              "      <td>35</td>\n",
              "      <td>2</td>\n",
              "      <td>43.38</td>\n",
              "      <td>71.34</td>\n",
              "      <td>22</td>\n",
              "      <td>0</td>\n",
              "    </tr>\n",
              "  </tbody>\n",
              "</table>\n",
<<<<<<< HEAD
              "</div>\n",
              "    <div class=\"colab-df-buttons\">\n",
              "\n",
              "  <div class=\"colab-df-container\">\n",
              "    <button class=\"colab-df-convert\" onclick=\"convertToInteractive('df-67ba996e-443b-4fca-9895-e6945cf3a41d')\"\n",
              "            title=\"Convert this dataframe to an interactive table.\"\n",
              "            style=\"display:none;\">\n",
              "\n",
              "  <svg xmlns=\"http://www.w3.org/2000/svg\" height=\"24px\" viewBox=\"0 -960 960 960\">\n",
              "    <path d=\"M120-120v-720h720v720H120Zm60-500h600v-160H180v160Zm220 220h160v-160H400v160Zm0 220h160v-160H400v160ZM180-400h160v-160H180v160Zm440 0h160v-160H620v160ZM180-180h160v-160H180v160Zm440 0h160v-160H620v160Z\"/>\n",
              "  </svg>\n",
              "    </button>\n",
              "\n",
              "  <style>\n",
              "    .colab-df-container {\n",
              "      display:flex;\n",
              "      gap: 12px;\n",
              "    }\n",
              "\n",
              "    .colab-df-convert {\n",
              "      background-color: #E8F0FE;\n",
              "      border: none;\n",
              "      border-radius: 50%;\n",
              "      cursor: pointer;\n",
              "      display: none;\n",
              "      fill: #1967D2;\n",
              "      height: 32px;\n",
              "      padding: 0 0 0 0;\n",
              "      width: 32px;\n",
              "    }\n",
              "\n",
              "    .colab-df-convert:hover {\n",
              "      background-color: #E2EBFA;\n",
              "      box-shadow: 0px 1px 2px rgba(60, 64, 67, 0.3), 0px 1px 3px 1px rgba(60, 64, 67, 0.15);\n",
              "      fill: #174EA6;\n",
              "    }\n",
              "\n",
              "    .colab-df-buttons div {\n",
              "      margin-bottom: 4px;\n",
              "    }\n",
              "\n",
              "    [theme=dark] .colab-df-convert {\n",
              "      background-color: #3B4455;\n",
              "      fill: #D2E3FC;\n",
              "    }\n",
              "\n",
              "    [theme=dark] .colab-df-convert:hover {\n",
              "      background-color: #434B5C;\n",
              "      box-shadow: 0px 1px 3px 1px rgba(0, 0, 0, 0.15);\n",
              "      filter: drop-shadow(0px 1px 2px rgba(0, 0, 0, 0.3));\n",
              "      fill: #FFFFFF;\n",
              "    }\n",
              "  </style>\n",
              "\n",
              "    <script>\n",
              "      const buttonEl =\n",
              "        document.querySelector('#df-67ba996e-443b-4fca-9895-e6945cf3a41d button.colab-df-convert');\n",
              "      buttonEl.style.display =\n",
              "        google.colab.kernel.accessAllowed ? 'block' : 'none';\n",
              "\n",
              "      async function convertToInteractive(key) {\n",
              "        const element = document.querySelector('#df-67ba996e-443b-4fca-9895-e6945cf3a41d');\n",
              "        const dataTable =\n",
              "          await google.colab.kernel.invokeFunction('convertToInteractive',\n",
              "                                                    [key], {});\n",
              "        if (!dataTable) return;\n",
              "\n",
              "        const docLinkHtml = 'Like what you see? Visit the ' +\n",
              "          '<a target=\"_blank\" href=https://colab.research.google.com/notebooks/data_table.ipynb>data table notebook</a>'\n",
              "          + ' to learn more about interactive tables.';\n",
              "        element.innerHTML = '';\n",
              "        dataTable['output_type'] = 'display_data';\n",
              "        await google.colab.output.renderOutput(dataTable, element);\n",
              "        const docLink = document.createElement('div');\n",
              "        docLink.innerHTML = docLinkHtml;\n",
              "        element.appendChild(docLink);\n",
              "      }\n",
              "    </script>\n",
              "  </div>\n",
              "\n",
              "\n",
              "    <div id=\"df-ee409bc4-20e0-4a30-9983-4e65c9562979\">\n",
              "      <button class=\"colab-df-quickchart\" onclick=\"quickchart('df-ee409bc4-20e0-4a30-9983-4e65c9562979')\"\n",
              "                title=\"Suggest charts\"\n",
              "                style=\"display:none;\">\n",
              "\n",
              "<svg xmlns=\"http://www.w3.org/2000/svg\" height=\"24px\"viewBox=\"0 0 24 24\"\n",
              "     width=\"24px\">\n",
              "    <g>\n",
              "        <path d=\"M19 3H5c-1.1 0-2 .9-2 2v14c0 1.1.9 2 2 2h14c1.1 0 2-.9 2-2V5c0-1.1-.9-2-2-2zM9 17H7v-7h2v7zm4 0h-2V7h2v10zm4 0h-2v-4h2v4z\"/>\n",
              "    </g>\n",
              "</svg>\n",
              "      </button>\n",
              "\n",
              "<style>\n",
              "  .colab-df-quickchart {\n",
              "      --bg-color: #E8F0FE;\n",
              "      --fill-color: #1967D2;\n",
              "      --hover-bg-color: #E2EBFA;\n",
              "      --hover-fill-color: #174EA6;\n",
              "      --disabled-fill-color: #AAA;\n",
              "      --disabled-bg-color: #DDD;\n",
              "  }\n",
              "\n",
              "  [theme=dark] .colab-df-quickchart {\n",
              "      --bg-color: #3B4455;\n",
              "      --fill-color: #D2E3FC;\n",
              "      --hover-bg-color: #434B5C;\n",
              "      --hover-fill-color: #FFFFFF;\n",
              "      --disabled-bg-color: #3B4455;\n",
              "      --disabled-fill-color: #666;\n",
              "  }\n",
              "\n",
              "  .colab-df-quickchart {\n",
              "    background-color: var(--bg-color);\n",
              "    border: none;\n",
              "    border-radius: 50%;\n",
              "    cursor: pointer;\n",
              "    display: none;\n",
              "    fill: var(--fill-color);\n",
              "    height: 32px;\n",
              "    padding: 0;\n",
              "    width: 32px;\n",
              "  }\n",
              "\n",
              "  .colab-df-quickchart:hover {\n",
              "    background-color: var(--hover-bg-color);\n",
              "    box-shadow: 0 1px 2px rgba(60, 64, 67, 0.3), 0 1px 3px 1px rgba(60, 64, 67, 0.15);\n",
              "    fill: var(--button-hover-fill-color);\n",
              "  }\n",
              "\n",
              "  .colab-df-quickchart-complete:disabled,\n",
              "  .colab-df-quickchart-complete:disabled:hover {\n",
              "    background-color: var(--disabled-bg-color);\n",
              "    fill: var(--disabled-fill-color);\n",
              "    box-shadow: none;\n",
              "  }\n",
              "\n",
              "  .colab-df-spinner {\n",
              "    border: 2px solid var(--fill-color);\n",
              "    border-color: transparent;\n",
              "    border-bottom-color: var(--fill-color);\n",
              "    animation:\n",
              "      spin 1s steps(1) infinite;\n",
              "  }\n",
              "\n",
              "  @keyframes spin {\n",
              "    0% {\n",
              "      border-color: transparent;\n",
              "      border-bottom-color: var(--fill-color);\n",
              "      border-left-color: var(--fill-color);\n",
              "    }\n",
              "    20% {\n",
              "      border-color: transparent;\n",
              "      border-left-color: var(--fill-color);\n",
              "      border-top-color: var(--fill-color);\n",
              "    }\n",
              "    30% {\n",
              "      border-color: transparent;\n",
              "      border-left-color: var(--fill-color);\n",
              "      border-top-color: var(--fill-color);\n",
              "      border-right-color: var(--fill-color);\n",
              "    }\n",
              "    40% {\n",
              "      border-color: transparent;\n",
              "      border-right-color: var(--fill-color);\n",
              "      border-top-color: var(--fill-color);\n",
              "    }\n",
              "    60% {\n",
              "      border-color: transparent;\n",
              "      border-right-color: var(--fill-color);\n",
              "    }\n",
              "    80% {\n",
              "      border-color: transparent;\n",
              "      border-right-color: var(--fill-color);\n",
              "      border-bottom-color: var(--fill-color);\n",
              "    }\n",
              "    90% {\n",
              "      border-color: transparent;\n",
              "      border-bottom-color: var(--fill-color);\n",
              "    }\n",
              "  }\n",
              "</style>\n",
              "\n",
              "      <script>\n",
              "        async function quickchart(key) {\n",
              "          const quickchartButtonEl =\n",
              "            document.querySelector('#' + key + ' button');\n",
              "          quickchartButtonEl.disabled = true;  // To prevent multiple clicks.\n",
              "          quickchartButtonEl.classList.add('colab-df-spinner');\n",
              "          try {\n",
              "            const charts = await google.colab.kernel.invokeFunction(\n",
              "                'suggestCharts', [key], {});\n",
              "          } catch (error) {\n",
              "            console.error('Error during call to suggestCharts:', error);\n",
              "          }\n",
              "          quickchartButtonEl.classList.remove('colab-df-spinner');\n",
              "          quickchartButtonEl.classList.add('colab-df-quickchart-complete');\n",
              "        }\n",
              "        (() => {\n",
              "          let quickchartButtonEl =\n",
              "            document.querySelector('#df-ee409bc4-20e0-4a30-9983-4e65c9562979 button');\n",
              "          quickchartButtonEl.style.display =\n",
              "            google.colab.kernel.accessAllowed ? 'block' : 'none';\n",
              "        })();\n",
              "      </script>\n",
              "    </div>\n",
              "\n",
              "    </div>\n",
              "  </div>\n"
            ],
            "application/vnd.google.colaboratory.intrinsic+json": {
              "type": "dataframe",
              "summary": "{\n  \"name\": \"df\",\n  \"rows\": 5,\n  \"fields\": [\n    {\n      \"column\": \"CustomerID\",\n      \"properties\": {\n        \"dtype\": \"number\",\n        \"std\": 1,\n        \"min\": 1496,\n        \"max\": 1500,\n        \"num_unique_values\": 5,\n        \"samples\": [\n          1497,\n          1500,\n          1498\n        ],\n        \"semantic_type\": \"\",\n        \"description\": \"\"\n      }\n    },\n    {\n      \"column\": \"Industry\",\n      \"properties\": {\n        \"dtype\": \"category\",\n        \"num_unique_values\": 2,\n        \"samples\": [\n          \"Healthcare\",\n          \"Tech\"\n        ],\n        \"semantic_type\": \"\",\n        \"description\": \"\"\n      }\n    },\n    {\n      \"column\": \"TenureMonths\",\n      \"properties\": {\n        \"dtype\": \"number\",\n        \"std\": 26,\n        \"min\": 3,\n        \"max\": 55,\n        \"num_unique_values\": 4,\n        \"samples\": [\n          9,\n          51\n        ],\n        \"semantic_type\": \"\",\n        \"description\": \"\"\n      }\n    },\n    {\n      \"column\": \"LastLoginDaysAgo\",\n      \"properties\": {\n        \"dtype\": \"number\",\n        \"std\": 14,\n        \"min\": 5,\n        \"max\": 41,\n        \"num_unique_values\": 5,\n        \"samples\": [\n          17,\n          35\n        ],\n        \"semantic_type\": \"\",\n        \"description\": \"\"\n      }\n    },\n    {\n      \"column\": \"SupportTickets\",\n      \"properties\": {\n        \"dtype\": \"number\",\n        \"std\": 1,\n        \"min\": 0,\n        \"max\": 4,\n        \"num_unique_values\": 5,\n        \"samples\": [\n          3,\n          2\n        ],\n        \"semantic_type\": \"\",\n        \"description\": \"\"\n      }\n    },\n    {\n      \"column\": \"AvgUsage\",\n      \"properties\": {\n        \"dtype\": \"number\",\n        \"std\": 25.112599029172586,\n        \"min\": 30.71,\n        \"max\": 91.79,\n        \"num_unique_values\": 5,\n        \"samples\": [\n          60.62,\n          43.38\n        ],\n        \"semantic_type\": \"\",\n        \"description\": \"\"\n      }\n    },\n    {\n      \"column\": \"UsageDropPct\",\n      \"properties\": {\n        \"dtype\": \"number\",\n        \"std\": 24.755027166214138,\n        \"min\": 24.32,\n        \"max\": 76.89,\n        \"num_unique_values\": 5,\n        \"samples\": [\n          24.32,\n          71.34\n        ],\n        \"semantic_type\": \"\",\n        \"description\": \"\"\n      }\n    },\n    {\n      \"column\": \"ContractEndsIn\",\n      \"properties\": {\n        \"dtype\": \"number\",\n        \"std\": 4,\n        \"min\": 11,\n        \"max\": 22,\n        \"num_unique_values\": 4,\n        \"samples\": [\n          17,\n          11\n        ],\n        \"semantic_type\": \"\",\n        \"description\": \"\"\n      }\n    },\n    {\n      \"column\": \"Churned\",\n      \"properties\": {\n        \"dtype\": \"number\",\n        \"std\": 0,\n        \"min\": 0,\n        \"max\": 0,\n        \"num_unique_values\": 1,\n        \"samples\": [\n          0\n        ],\n        \"semantic_type\": \"\",\n        \"description\": \"\"\n      }\n    }\n  ]\n}"
            }
          },
          "metadata": {},
          "execution_count": 64
        }
=======
              "</div>"
            ],
            "text/plain": [
              "     CustomerID    Industry  TenureMonths  LastLoginDaysAgo  SupportTickets  \\\n",
              "495        1496        Tech            55                 5               1   \n",
              "496        1497  Healthcare             9                17               3   \n",
              "497        1498        Tech            55                20               4   \n",
              "498        1499        Tech             3                41               0   \n",
              "499        1500        Tech            51                35               2   \n",
              "\n",
              "     AvgUsage  UsageDropPct  ContractEndsIn  Churned  \n",
              "495     30.71         45.69              22        0  \n",
              "496     60.62         24.32              17        0  \n",
              "497     91.79         25.45              19        0  \n",
              "498     33.63         76.89              11        0  \n",
              "499     43.38         71.34              22        0  "
            ]
          },
          "execution_count": 2,
          "metadata": {},
          "output_type": "execute_result"
        }
      ],
      "source": [
        "df.tail()"
>>>>>>> e3dfe9a (Initial push: Add churn_predictor.ipynb)
      ]
    },
    {
      "cell_type": "code",
<<<<<<< HEAD
      "source": [
        "df.info()"
      ],
=======
      "execution_count": 3,
>>>>>>> e3dfe9a (Initial push: Add churn_predictor.ipynb)
      "metadata": {
        "colab": {
          "base_uri": "https://localhost:8080/"
        },
        "id": "rIClS7C3EoOl",
        "outputId": "f6b33f6b-0777-4d16-ddc3-b8d28bb723a7"
      },
<<<<<<< HEAD
      "execution_count": 65,
      "outputs": [
        {
          "output_type": "stream",
          "name": "stdout",
=======
      "outputs": [
        {
          "name": "stdout",
          "output_type": "stream",
>>>>>>> e3dfe9a (Initial push: Add churn_predictor.ipynb)
          "text": [
            "<class 'pandas.core.frame.DataFrame'>\n",
            "RangeIndex: 500 entries, 0 to 499\n",
            "Data columns (total 9 columns):\n",
            " #   Column            Non-Null Count  Dtype  \n",
            "---  ------            --------------  -----  \n",
            " 0   CustomerID        500 non-null    int64  \n",
            " 1   Industry          500 non-null    object \n",
<<<<<<< HEAD
            " 2   TenureMonths      500 non-null    int64  \n",
            " 3   LastLoginDaysAgo  500 non-null    int64  \n",
            " 4   SupportTickets    500 non-null    int64  \n",
            " 5   AvgUsage          500 non-null    float64\n",
            " 6   UsageDropPct      500 non-null    float64\n",
            " 7   ContractEndsIn    500 non-null    int64  \n",
            " 8   Churned           500 non-null    int64  \n",
            "dtypes: float64(2), int64(6), object(1)\n",
            "memory usage: 35.3+ KB\n"
          ]
        }
=======
            " 2   TenureMonths      500 non-null    int32  \n",
            " 3   LastLoginDaysAgo  500 non-null    int32  \n",
            " 4   SupportTickets    500 non-null    int32  \n",
            " 5   AvgUsage          500 non-null    float64\n",
            " 6   UsageDropPct      500 non-null    float64\n",
            " 7   ContractEndsIn    500 non-null    int32  \n",
            " 8   Churned           500 non-null    int64  \n",
            "dtypes: float64(2), int32(4), int64(2), object(1)\n",
            "memory usage: 27.5+ KB\n"
          ]
        }
      ],
      "source": [
        "df.info()"
>>>>>>> e3dfe9a (Initial push: Add churn_predictor.ipynb)
      ]
    },
    {
      "cell_type": "code",
<<<<<<< HEAD
      "source": [
        "df.columns"
      ],
=======
      "execution_count": 4,
>>>>>>> e3dfe9a (Initial push: Add churn_predictor.ipynb)
      "metadata": {
        "colab": {
          "base_uri": "https://localhost:8080/"
        },
        "id": "OoywHwfCEqY_",
        "outputId": "7121a87e-2e6a-4183-b0ab-a80d522964c3"
      },
<<<<<<< HEAD
      "execution_count": 66,
      "outputs": [
        {
          "output_type": "execute_result",
=======
      "outputs": [
        {
>>>>>>> e3dfe9a (Initial push: Add churn_predictor.ipynb)
          "data": {
            "text/plain": [
              "Index(['CustomerID', 'Industry', 'TenureMonths', 'LastLoginDaysAgo',\n",
              "       'SupportTickets', 'AvgUsage', 'UsageDropPct', 'ContractEndsIn',\n",
              "       'Churned'],\n",
              "      dtype='object')"
            ]
          },
<<<<<<< HEAD
          "metadata": {},
          "execution_count": 66
        }
=======
          "execution_count": 4,
          "metadata": {},
          "output_type": "execute_result"
        }
      ],
      "source": [
        "df.columns"
>>>>>>> e3dfe9a (Initial push: Add churn_predictor.ipynb)
      ]
    },
    {
      "cell_type": "code",
<<<<<<< HEAD
      "source": [
        "df.shape"
      ],
=======
      "execution_count": 5,
>>>>>>> e3dfe9a (Initial push: Add churn_predictor.ipynb)
      "metadata": {
        "colab": {
          "base_uri": "https://localhost:8080/"
        },
        "id": "c6QiW48LEsM7",
        "outputId": "e394472a-3a2f-44ed-ba86-797498390fc3"
      },
<<<<<<< HEAD
      "execution_count": 67,
      "outputs": [
        {
          "output_type": "execute_result",
=======
      "outputs": [
        {
>>>>>>> e3dfe9a (Initial push: Add churn_predictor.ipynb)
          "data": {
            "text/plain": [
              "(500, 9)"
            ]
          },
<<<<<<< HEAD
          "metadata": {},
          "execution_count": 67
        }
=======
          "execution_count": 5,
          "metadata": {},
          "output_type": "execute_result"
        }
      ],
      "source": [
        "df.shape"
>>>>>>> e3dfe9a (Initial push: Add churn_predictor.ipynb)
      ]
    },
    {
      "cell_type": "code",
<<<<<<< HEAD
      "source": [
        "df.dtypes"
      ],
=======
      "execution_count": 6,
>>>>>>> e3dfe9a (Initial push: Add churn_predictor.ipynb)
      "metadata": {
        "colab": {
          "base_uri": "https://localhost:8080/",
          "height": 366
        },
        "id": "W2rnKLRuEvGG",
        "outputId": "a2a3254f-f854-47d4-99b1-2006777bd7a4"
      },
<<<<<<< HEAD
      "execution_count": 68,
      "outputs": [
        {
          "output_type": "execute_result",
=======
      "outputs": [
        {
>>>>>>> e3dfe9a (Initial push: Add churn_predictor.ipynb)
          "data": {
            "text/plain": [
              "CustomerID            int64\n",
              "Industry             object\n",
<<<<<<< HEAD
              "TenureMonths          int64\n",
              "LastLoginDaysAgo      int64\n",
              "SupportTickets        int64\n",
              "AvgUsage            float64\n",
              "UsageDropPct        float64\n",
              "ContractEndsIn        int64\n",
              "Churned               int64\n",
              "dtype: object"
            ],
            "text/html": [
              "<div>\n",
              "<style scoped>\n",
              "    .dataframe tbody tr th:only-of-type {\n",
              "        vertical-align: middle;\n",
              "    }\n",
              "\n",
              "    .dataframe tbody tr th {\n",
              "        vertical-align: top;\n",
              "    }\n",
              "\n",
              "    .dataframe thead th {\n",
              "        text-align: right;\n",
              "    }\n",
              "</style>\n",
              "<table border=\"1\" class=\"dataframe\">\n",
              "  <thead>\n",
              "    <tr style=\"text-align: right;\">\n",
              "      <th></th>\n",
              "      <th>0</th>\n",
              "    </tr>\n",
              "  </thead>\n",
              "  <tbody>\n",
              "    <tr>\n",
              "      <th>CustomerID</th>\n",
              "      <td>int64</td>\n",
              "    </tr>\n",
              "    <tr>\n",
              "      <th>Industry</th>\n",
              "      <td>object</td>\n",
              "    </tr>\n",
              "    <tr>\n",
              "      <th>TenureMonths</th>\n",
              "      <td>int64</td>\n",
              "    </tr>\n",
              "    <tr>\n",
              "      <th>LastLoginDaysAgo</th>\n",
              "      <td>int64</td>\n",
              "    </tr>\n",
              "    <tr>\n",
              "      <th>SupportTickets</th>\n",
              "      <td>int64</td>\n",
              "    </tr>\n",
              "    <tr>\n",
              "      <th>AvgUsage</th>\n",
              "      <td>float64</td>\n",
              "    </tr>\n",
              "    <tr>\n",
              "      <th>UsageDropPct</th>\n",
              "      <td>float64</td>\n",
              "    </tr>\n",
              "    <tr>\n",
              "      <th>ContractEndsIn</th>\n",
              "      <td>int64</td>\n",
              "    </tr>\n",
              "    <tr>\n",
              "      <th>Churned</th>\n",
              "      <td>int64</td>\n",
              "    </tr>\n",
              "  </tbody>\n",
              "</table>\n",
              "</div><br><label><b>dtype:</b> object</label>"
            ]
          },
          "metadata": {},
          "execution_count": 68
        }
=======
              "TenureMonths          int32\n",
              "LastLoginDaysAgo      int32\n",
              "SupportTickets        int32\n",
              "AvgUsage            float64\n",
              "UsageDropPct        float64\n",
              "ContractEndsIn        int32\n",
              "Churned               int64\n",
              "dtype: object"
            ]
          },
          "execution_count": 6,
          "metadata": {},
          "output_type": "execute_result"
        }
      ],
      "source": [
        "df.dtypes"
>>>>>>> e3dfe9a (Initial push: Add churn_predictor.ipynb)
      ]
    },
    {
      "cell_type": "code",
<<<<<<< HEAD
      "source": [
        "df.describe().T"
      ],
=======
      "execution_count": 7,
>>>>>>> e3dfe9a (Initial push: Add churn_predictor.ipynb)
      "metadata": {
        "colab": {
          "base_uri": "https://localhost:8080/",
          "height": 300
        },
        "id": "qYMlLiQXE36y",
        "outputId": "03e5b895-3dd7-45fd-c33f-36c38f5169ba"
      },
<<<<<<< HEAD
      "execution_count": 69,
      "outputs": [
        {
          "output_type": "execute_result",
          "data": {
            "text/plain": [
              "                  count        mean         std      min       25%       50%  \\\n",
              "CustomerID        500.0  1250.50000  144.481833  1001.00  1125.750  1250.500   \n",
              "TenureMonths      500.0    30.40000   17.396012     1.00    15.750    30.000   \n",
              "LastLoginDaysAgo  500.0    28.83800   17.209651     0.00    13.000    29.000   \n",
              "SupportTickets    500.0     1.94800    1.387496     0.00     1.000     2.000   \n",
              "AvgUsage          500.0    66.38164   20.400178    30.03    48.700    67.895   \n",
              "UsageDropPct      500.0    41.34894   22.149538     0.16    23.725    41.710   \n",
              "ContractEndsIn    500.0    12.46400    6.786222     0.00     7.000    13.000   \n",
              "Churned           500.0     0.07200    0.258747     0.00     0.000     0.000   \n",
              "\n",
              "                        75%      max  \n",
              "CustomerID        1375.2500  1500.00  \n",
              "TenureMonths        47.0000    59.00  \n",
              "LastLoginDaysAgo    44.0000    59.00  \n",
              "SupportTickets       3.0000     8.00  \n",
              "AvgUsage            84.1275    99.98  \n",
              "UsageDropPct        60.3100    79.96  \n",
              "ContractEndsIn      18.0000    23.00  \n",
              "Churned              0.0000     1.00  "
            ],
            "text/html": [
              "\n",
              "  <div id=\"df-13d90747-79bb-4762-87cb-73c839b68fb2\" class=\"colab-df-container\">\n",
              "    <div>\n",
=======
      "outputs": [
        {
          "data": {
            "text/html": [
              "<div>\n",
>>>>>>> e3dfe9a (Initial push: Add churn_predictor.ipynb)
              "<style scoped>\n",
              "    .dataframe tbody tr th:only-of-type {\n",
              "        vertical-align: middle;\n",
              "    }\n",
              "\n",
              "    .dataframe tbody tr th {\n",
              "        vertical-align: top;\n",
              "    }\n",
              "\n",
              "    .dataframe thead th {\n",
              "        text-align: right;\n",
              "    }\n",
              "</style>\n",
              "<table border=\"1\" class=\"dataframe\">\n",
              "  <thead>\n",
              "    <tr style=\"text-align: right;\">\n",
              "      <th></th>\n",
              "      <th>count</th>\n",
              "      <th>mean</th>\n",
              "      <th>std</th>\n",
              "      <th>min</th>\n",
              "      <th>25%</th>\n",
              "      <th>50%</th>\n",
              "      <th>75%</th>\n",
              "      <th>max</th>\n",
              "    </tr>\n",
              "  </thead>\n",
              "  <tbody>\n",
              "    <tr>\n",
              "      <th>CustomerID</th>\n",
              "      <td>500.0</td>\n",
              "      <td>1250.50000</td>\n",
              "      <td>144.481833</td>\n",
              "      <td>1001.00</td>\n",
              "      <td>1125.750</td>\n",
              "      <td>1250.500</td>\n",
              "      <td>1375.2500</td>\n",
              "      <td>1500.00</td>\n",
              "    </tr>\n",
              "    <tr>\n",
              "      <th>TenureMonths</th>\n",
              "      <td>500.0</td>\n",
              "      <td>30.40000</td>\n",
              "      <td>17.396012</td>\n",
              "      <td>1.00</td>\n",
              "      <td>15.750</td>\n",
              "      <td>30.000</td>\n",
              "      <td>47.0000</td>\n",
              "      <td>59.00</td>\n",
              "    </tr>\n",
              "    <tr>\n",
              "      <th>LastLoginDaysAgo</th>\n",
              "      <td>500.0</td>\n",
              "      <td>28.83800</td>\n",
              "      <td>17.209651</td>\n",
              "      <td>0.00</td>\n",
              "      <td>13.000</td>\n",
              "      <td>29.000</td>\n",
              "      <td>44.0000</td>\n",
              "      <td>59.00</td>\n",
              "    </tr>\n",
              "    <tr>\n",
              "      <th>SupportTickets</th>\n",
              "      <td>500.0</td>\n",
              "      <td>1.94800</td>\n",
              "      <td>1.387496</td>\n",
              "      <td>0.00</td>\n",
              "      <td>1.000</td>\n",
              "      <td>2.000</td>\n",
              "      <td>3.0000</td>\n",
              "      <td>8.00</td>\n",
              "    </tr>\n",
              "    <tr>\n",
              "      <th>AvgUsage</th>\n",
              "      <td>500.0</td>\n",
              "      <td>66.38164</td>\n",
              "      <td>20.400178</td>\n",
              "      <td>30.03</td>\n",
              "      <td>48.700</td>\n",
              "      <td>67.895</td>\n",
              "      <td>84.1275</td>\n",
              "      <td>99.98</td>\n",
              "    </tr>\n",
              "    <tr>\n",
              "      <th>UsageDropPct</th>\n",
              "      <td>500.0</td>\n",
              "      <td>41.34894</td>\n",
              "      <td>22.149538</td>\n",
              "      <td>0.16</td>\n",
              "      <td>23.725</td>\n",
              "      <td>41.710</td>\n",
              "      <td>60.3100</td>\n",
              "      <td>79.96</td>\n",
              "    </tr>\n",
              "    <tr>\n",
              "      <th>ContractEndsIn</th>\n",
              "      <td>500.0</td>\n",
              "      <td>12.46400</td>\n",
              "      <td>6.786222</td>\n",
              "      <td>0.00</td>\n",
              "      <td>7.000</td>\n",
              "      <td>13.000</td>\n",
              "      <td>18.0000</td>\n",
              "      <td>23.00</td>\n",
              "    </tr>\n",
              "    <tr>\n",
              "      <th>Churned</th>\n",
              "      <td>500.0</td>\n",
              "      <td>0.07200</td>\n",
              "      <td>0.258747</td>\n",
              "      <td>0.00</td>\n",
              "      <td>0.000</td>\n",
              "      <td>0.000</td>\n",
              "      <td>0.0000</td>\n",
              "      <td>1.00</td>\n",
              "    </tr>\n",
              "  </tbody>\n",
              "</table>\n",
<<<<<<< HEAD
              "</div>\n",
              "    <div class=\"colab-df-buttons\">\n",
              "\n",
              "  <div class=\"colab-df-container\">\n",
              "    <button class=\"colab-df-convert\" onclick=\"convertToInteractive('df-13d90747-79bb-4762-87cb-73c839b68fb2')\"\n",
              "            title=\"Convert this dataframe to an interactive table.\"\n",
              "            style=\"display:none;\">\n",
              "\n",
              "  <svg xmlns=\"http://www.w3.org/2000/svg\" height=\"24px\" viewBox=\"0 -960 960 960\">\n",
              "    <path d=\"M120-120v-720h720v720H120Zm60-500h600v-160H180v160Zm220 220h160v-160H400v160Zm0 220h160v-160H400v160ZM180-400h160v-160H180v160Zm440 0h160v-160H620v160ZM180-180h160v-160H180v160Zm440 0h160v-160H620v160Z\"/>\n",
              "  </svg>\n",
              "    </button>\n",
              "\n",
              "  <style>\n",
              "    .colab-df-container {\n",
              "      display:flex;\n",
              "      gap: 12px;\n",
              "    }\n",
              "\n",
              "    .colab-df-convert {\n",
              "      background-color: #E8F0FE;\n",
              "      border: none;\n",
              "      border-radius: 50%;\n",
              "      cursor: pointer;\n",
              "      display: none;\n",
              "      fill: #1967D2;\n",
              "      height: 32px;\n",
              "      padding: 0 0 0 0;\n",
              "      width: 32px;\n",
              "    }\n",
              "\n",
              "    .colab-df-convert:hover {\n",
              "      background-color: #E2EBFA;\n",
              "      box-shadow: 0px 1px 2px rgba(60, 64, 67, 0.3), 0px 1px 3px 1px rgba(60, 64, 67, 0.15);\n",
              "      fill: #174EA6;\n",
              "    }\n",
              "\n",
              "    .colab-df-buttons div {\n",
              "      margin-bottom: 4px;\n",
              "    }\n",
              "\n",
              "    [theme=dark] .colab-df-convert {\n",
              "      background-color: #3B4455;\n",
              "      fill: #D2E3FC;\n",
              "    }\n",
              "\n",
              "    [theme=dark] .colab-df-convert:hover {\n",
              "      background-color: #434B5C;\n",
              "      box-shadow: 0px 1px 3px 1px rgba(0, 0, 0, 0.15);\n",
              "      filter: drop-shadow(0px 1px 2px rgba(0, 0, 0, 0.3));\n",
              "      fill: #FFFFFF;\n",
              "    }\n",
              "  </style>\n",
              "\n",
              "    <script>\n",
              "      const buttonEl =\n",
              "        document.querySelector('#df-13d90747-79bb-4762-87cb-73c839b68fb2 button.colab-df-convert');\n",
              "      buttonEl.style.display =\n",
              "        google.colab.kernel.accessAllowed ? 'block' : 'none';\n",
              "\n",
              "      async function convertToInteractive(key) {\n",
              "        const element = document.querySelector('#df-13d90747-79bb-4762-87cb-73c839b68fb2');\n",
              "        const dataTable =\n",
              "          await google.colab.kernel.invokeFunction('convertToInteractive',\n",
              "                                                    [key], {});\n",
              "        if (!dataTable) return;\n",
              "\n",
              "        const docLinkHtml = 'Like what you see? Visit the ' +\n",
              "          '<a target=\"_blank\" href=https://colab.research.google.com/notebooks/data_table.ipynb>data table notebook</a>'\n",
              "          + ' to learn more about interactive tables.';\n",
              "        element.innerHTML = '';\n",
              "        dataTable['output_type'] = 'display_data';\n",
              "        await google.colab.output.renderOutput(dataTable, element);\n",
              "        const docLink = document.createElement('div');\n",
              "        docLink.innerHTML = docLinkHtml;\n",
              "        element.appendChild(docLink);\n",
              "      }\n",
              "    </script>\n",
              "  </div>\n",
              "\n",
              "\n",
              "    <div id=\"df-483f222b-e124-4ee5-8159-c225a38e6e2e\">\n",
              "      <button class=\"colab-df-quickchart\" onclick=\"quickchart('df-483f222b-e124-4ee5-8159-c225a38e6e2e')\"\n",
              "                title=\"Suggest charts\"\n",
              "                style=\"display:none;\">\n",
              "\n",
              "<svg xmlns=\"http://www.w3.org/2000/svg\" height=\"24px\"viewBox=\"0 0 24 24\"\n",
              "     width=\"24px\">\n",
              "    <g>\n",
              "        <path d=\"M19 3H5c-1.1 0-2 .9-2 2v14c0 1.1.9 2 2 2h14c1.1 0 2-.9 2-2V5c0-1.1-.9-2-2-2zM9 17H7v-7h2v7zm4 0h-2V7h2v10zm4 0h-2v-4h2v4z\"/>\n",
              "    </g>\n",
              "</svg>\n",
              "      </button>\n",
              "\n",
              "<style>\n",
              "  .colab-df-quickchart {\n",
              "      --bg-color: #E8F0FE;\n",
              "      --fill-color: #1967D2;\n",
              "      --hover-bg-color: #E2EBFA;\n",
              "      --hover-fill-color: #174EA6;\n",
              "      --disabled-fill-color: #AAA;\n",
              "      --disabled-bg-color: #DDD;\n",
              "  }\n",
              "\n",
              "  [theme=dark] .colab-df-quickchart {\n",
              "      --bg-color: #3B4455;\n",
              "      --fill-color: #D2E3FC;\n",
              "      --hover-bg-color: #434B5C;\n",
              "      --hover-fill-color: #FFFFFF;\n",
              "      --disabled-bg-color: #3B4455;\n",
              "      --disabled-fill-color: #666;\n",
              "  }\n",
              "\n",
              "  .colab-df-quickchart {\n",
              "    background-color: var(--bg-color);\n",
              "    border: none;\n",
              "    border-radius: 50%;\n",
              "    cursor: pointer;\n",
              "    display: none;\n",
              "    fill: var(--fill-color);\n",
              "    height: 32px;\n",
              "    padding: 0;\n",
              "    width: 32px;\n",
              "  }\n",
              "\n",
              "  .colab-df-quickchart:hover {\n",
              "    background-color: var(--hover-bg-color);\n",
              "    box-shadow: 0 1px 2px rgba(60, 64, 67, 0.3), 0 1px 3px 1px rgba(60, 64, 67, 0.15);\n",
              "    fill: var(--button-hover-fill-color);\n",
              "  }\n",
              "\n",
              "  .colab-df-quickchart-complete:disabled,\n",
              "  .colab-df-quickchart-complete:disabled:hover {\n",
              "    background-color: var(--disabled-bg-color);\n",
              "    fill: var(--disabled-fill-color);\n",
              "    box-shadow: none;\n",
              "  }\n",
              "\n",
              "  .colab-df-spinner {\n",
              "    border: 2px solid var(--fill-color);\n",
              "    border-color: transparent;\n",
              "    border-bottom-color: var(--fill-color);\n",
              "    animation:\n",
              "      spin 1s steps(1) infinite;\n",
              "  }\n",
              "\n",
              "  @keyframes spin {\n",
              "    0% {\n",
              "      border-color: transparent;\n",
              "      border-bottom-color: var(--fill-color);\n",
              "      border-left-color: var(--fill-color);\n",
              "    }\n",
              "    20% {\n",
              "      border-color: transparent;\n",
              "      border-left-color: var(--fill-color);\n",
              "      border-top-color: var(--fill-color);\n",
              "    }\n",
              "    30% {\n",
              "      border-color: transparent;\n",
              "      border-left-color: var(--fill-color);\n",
              "      border-top-color: var(--fill-color);\n",
              "      border-right-color: var(--fill-color);\n",
              "    }\n",
              "    40% {\n",
              "      border-color: transparent;\n",
              "      border-right-color: var(--fill-color);\n",
              "      border-top-color: var(--fill-color);\n",
              "    }\n",
              "    60% {\n",
              "      border-color: transparent;\n",
              "      border-right-color: var(--fill-color);\n",
              "    }\n",
              "    80% {\n",
              "      border-color: transparent;\n",
              "      border-right-color: var(--fill-color);\n",
              "      border-bottom-color: var(--fill-color);\n",
              "    }\n",
              "    90% {\n",
              "      border-color: transparent;\n",
              "      border-bottom-color: var(--fill-color);\n",
              "    }\n",
              "  }\n",
              "</style>\n",
              "\n",
              "      <script>\n",
              "        async function quickchart(key) {\n",
              "          const quickchartButtonEl =\n",
              "            document.querySelector('#' + key + ' button');\n",
              "          quickchartButtonEl.disabled = true;  // To prevent multiple clicks.\n",
              "          quickchartButtonEl.classList.add('colab-df-spinner');\n",
              "          try {\n",
              "            const charts = await google.colab.kernel.invokeFunction(\n",
              "                'suggestCharts', [key], {});\n",
              "          } catch (error) {\n",
              "            console.error('Error during call to suggestCharts:', error);\n",
              "          }\n",
              "          quickchartButtonEl.classList.remove('colab-df-spinner');\n",
              "          quickchartButtonEl.classList.add('colab-df-quickchart-complete');\n",
              "        }\n",
              "        (() => {\n",
              "          let quickchartButtonEl =\n",
              "            document.querySelector('#df-483f222b-e124-4ee5-8159-c225a38e6e2e button');\n",
              "          quickchartButtonEl.style.display =\n",
              "            google.colab.kernel.accessAllowed ? 'block' : 'none';\n",
              "        })();\n",
              "      </script>\n",
              "    </div>\n",
              "\n",
              "    </div>\n",
              "  </div>\n"
            ],
            "application/vnd.google.colaboratory.intrinsic+json": {
              "type": "dataframe",
              "summary": "{\n  \"name\": \"df\",\n  \"rows\": 8,\n  \"fields\": [\n    {\n      \"column\": \"count\",\n      \"properties\": {\n        \"dtype\": \"number\",\n        \"std\": 0.0,\n        \"min\": 500.0,\n        \"max\": 500.0,\n        \"num_unique_values\": 1,\n        \"samples\": [\n          500.0\n        ],\n        \"semantic_type\": \"\",\n        \"description\": \"\"\n      }\n    },\n    {\n      \"column\": \"mean\",\n      \"properties\": {\n        \"dtype\": \"number\",\n        \"std\": 433.502417932807,\n        \"min\": 0.072,\n        \"max\": 1250.5,\n        \"num_unique_values\": 8,\n        \"samples\": [\n          30.4\n        ],\n        \"semantic_type\": \"\",\n        \"description\": \"\"\n      }\n    },\n    {\n      \"column\": \"std\",\n      \"properties\": {\n        \"dtype\": \"number\",\n        \"std\": 47.527586681852064,\n        \"min\": 0.2587467870324173,\n        \"max\": 144.4818327679989,\n        \"num_unique_values\": 8,\n        \"samples\": [\n          17.396012258128867\n        ],\n        \"semantic_type\": \"\",\n        \"description\": \"\"\n      }\n    },\n    {\n      \"column\": \"min\",\n      \"properties\": {\n        \"dtype\": \"number\",\n        \"std\": 352.4864337789672,\n        \"min\": 0.0,\n        \"max\": 1001.0,\n        \"num_unique_values\": 5,\n        \"samples\": [\n          1.0\n        ],\n        \"semantic_type\": \"\",\n        \"description\": \"\"\n      }\n    },\n    {\n      \"column\": \"25%\",\n      \"properties\": {\n        \"dtype\": \"number\",\n        \"std\": 392.8076085188115,\n        \"min\": 0.0,\n        \"max\": 1125.75,\n        \"num_unique_values\": 8,\n        \"samples\": [\n          15.75\n        ],\n        \"semantic_type\": \"\",\n        \"description\": \"\"\n      }\n    },\n    {\n      \"column\": \"50%\",\n      \"properties\": {\n        \"dtype\": \"number\",\n        \"std\": 433.41361987414604,\n        \"min\": 0.0,\n        \"max\": 1250.5,\n        \"num_unique_values\": 8,\n        \"samples\": [\n          30.0\n        ],\n        \"semantic_type\": \"\",\n        \"description\": \"\"\n      }\n    },\n    {\n      \"column\": \"75%\",\n      \"properties\": {\n        \"dtype\": \"number\",\n        \"std\": 474.1465690584383,\n        \"min\": 0.0,\n        \"max\": 1375.25,\n        \"num_unique_values\": 8,\n        \"samples\": [\n          47.0\n        ],\n        \"semantic_type\": \"\",\n        \"description\": \"\"\n      }\n    },\n    {\n      \"column\": \"max\",\n      \"properties\": {\n        \"dtype\": \"number\",\n        \"std\": 514.8315329933528,\n        \"min\": 1.0,\n        \"max\": 1500.0,\n        \"num_unique_values\": 7,\n        \"samples\": [\n          1500.0\n        ],\n        \"semantic_type\": \"\",\n        \"description\": \"\"\n      }\n    }\n  ]\n}"
            }
          },
          "metadata": {},
          "execution_count": 69
        }
=======
              "</div>"
            ],
            "text/plain": [
              "                  count        mean         std      min       25%       50%  \\\n",
              "CustomerID        500.0  1250.50000  144.481833  1001.00  1125.750  1250.500   \n",
              "TenureMonths      500.0    30.40000   17.396012     1.00    15.750    30.000   \n",
              "LastLoginDaysAgo  500.0    28.83800   17.209651     0.00    13.000    29.000   \n",
              "SupportTickets    500.0     1.94800    1.387496     0.00     1.000     2.000   \n",
              "AvgUsage          500.0    66.38164   20.400178    30.03    48.700    67.895   \n",
              "UsageDropPct      500.0    41.34894   22.149538     0.16    23.725    41.710   \n",
              "ContractEndsIn    500.0    12.46400    6.786222     0.00     7.000    13.000   \n",
              "Churned           500.0     0.07200    0.258747     0.00     0.000     0.000   \n",
              "\n",
              "                        75%      max  \n",
              "CustomerID        1375.2500  1500.00  \n",
              "TenureMonths        47.0000    59.00  \n",
              "LastLoginDaysAgo    44.0000    59.00  \n",
              "SupportTickets       3.0000     8.00  \n",
              "AvgUsage            84.1275    99.98  \n",
              "UsageDropPct        60.3100    79.96  \n",
              "ContractEndsIn      18.0000    23.00  \n",
              "Churned              0.0000     1.00  "
            ]
          },
          "execution_count": 7,
          "metadata": {},
          "output_type": "execute_result"
        }
      ],
      "source": [
        "df.describe().T"
>>>>>>> e3dfe9a (Initial push: Add churn_predictor.ipynb)
      ]
    },
    {
      "cell_type": "code",
<<<<<<< HEAD
      "source": [
        "# Check for missing values\n",
        "# Shows how many missing values exist per column.\n",
        "df.isnull().sum()\n"
      ],
=======
      "execution_count": 8,
>>>>>>> e3dfe9a (Initial push: Add churn_predictor.ipynb)
      "metadata": {
        "colab": {
          "base_uri": "https://localhost:8080/",
          "height": 366
        },
        "id": "QxA18rdDIkih",
        "outputId": "070a28d4-0c06-47a9-8c16-7df47225f93f"
      },
<<<<<<< HEAD
      "execution_count": 70,
      "outputs": [
        {
          "output_type": "execute_result",
=======
      "outputs": [
        {
>>>>>>> e3dfe9a (Initial push: Add churn_predictor.ipynb)
          "data": {
            "text/plain": [
              "CustomerID          0\n",
              "Industry            0\n",
              "TenureMonths        0\n",
              "LastLoginDaysAgo    0\n",
              "SupportTickets      0\n",
              "AvgUsage            0\n",
              "UsageDropPct        0\n",
              "ContractEndsIn      0\n",
              "Churned             0\n",
              "dtype: int64"
<<<<<<< HEAD
            ],
            "text/html": [
              "<div>\n",
              "<style scoped>\n",
              "    .dataframe tbody tr th:only-of-type {\n",
              "        vertical-align: middle;\n",
              "    }\n",
              "\n",
              "    .dataframe tbody tr th {\n",
              "        vertical-align: top;\n",
              "    }\n",
              "\n",
              "    .dataframe thead th {\n",
              "        text-align: right;\n",
              "    }\n",
              "</style>\n",
              "<table border=\"1\" class=\"dataframe\">\n",
              "  <thead>\n",
              "    <tr style=\"text-align: right;\">\n",
              "      <th></th>\n",
              "      <th>0</th>\n",
              "    </tr>\n",
              "  </thead>\n",
              "  <tbody>\n",
              "    <tr>\n",
              "      <th>CustomerID</th>\n",
              "      <td>0</td>\n",
              "    </tr>\n",
              "    <tr>\n",
              "      <th>Industry</th>\n",
              "      <td>0</td>\n",
              "    </tr>\n",
              "    <tr>\n",
              "      <th>TenureMonths</th>\n",
              "      <td>0</td>\n",
              "    </tr>\n",
              "    <tr>\n",
              "      <th>LastLoginDaysAgo</th>\n",
              "      <td>0</td>\n",
              "    </tr>\n",
              "    <tr>\n",
              "      <th>SupportTickets</th>\n",
              "      <td>0</td>\n",
              "    </tr>\n",
              "    <tr>\n",
              "      <th>AvgUsage</th>\n",
              "      <td>0</td>\n",
              "    </tr>\n",
              "    <tr>\n",
              "      <th>UsageDropPct</th>\n",
              "      <td>0</td>\n",
              "    </tr>\n",
              "    <tr>\n",
              "      <th>ContractEndsIn</th>\n",
              "      <td>0</td>\n",
              "    </tr>\n",
              "    <tr>\n",
              "      <th>Churned</th>\n",
              "      <td>0</td>\n",
              "    </tr>\n",
              "  </tbody>\n",
              "</table>\n",
              "</div><br><label><b>dtype:</b> int64</label>"
            ]
          },
          "metadata": {},
          "execution_count": 70
        }
=======
            ]
          },
          "execution_count": 8,
          "metadata": {},
          "output_type": "execute_result"
        }
      ],
      "source": [
        "# Check for missing values\n",
        "# Shows how many missing values exist per column.\n",
        "df.isnull().sum()\n"
>>>>>>> e3dfe9a (Initial push: Add churn_predictor.ipynb)
      ]
    },
    {
      "cell_type": "code",
<<<<<<< HEAD
      "source": [
        "# Check for duplicate rows*\n",
        "# This tells you how many duplicate entries there are.\n",
        "df.duplicated().sum()\n"
      ],
=======
      "execution_count": 9,
>>>>>>> e3dfe9a (Initial push: Add churn_predictor.ipynb)
      "metadata": {
        "colab": {
          "base_uri": "https://localhost:8080/"
        },
        "id": "b5K5DdQYI9iv",
        "outputId": "092cefa1-2da9-4afc-daea-6c12f84e10df"
      },
<<<<<<< HEAD
      "execution_count": 71,
      "outputs": [
        {
          "output_type": "execute_result",
=======
      "outputs": [
        {
>>>>>>> e3dfe9a (Initial push: Add churn_predictor.ipynb)
          "data": {
            "text/plain": [
              "np.int64(0)"
            ]
          },
<<<<<<< HEAD
          "metadata": {},
          "execution_count": 71
        }
=======
          "execution_count": 9,
          "metadata": {},
          "output_type": "execute_result"
        }
      ],
      "source": [
        "# Check for duplicate rows*\n",
        "# This tells you how many duplicate entries there are.\n",
        "df.duplicated().sum()\n"
>>>>>>> e3dfe9a (Initial push: Add churn_predictor.ipynb)
      ]
    },
    {
      "cell_type": "code",
<<<<<<< HEAD
      "source": [],
      "metadata": {
        "id": "PaTqf8ufTVag"
      },
      "execution_count": 71,
      "outputs": []
    },
    {
      "cell_type": "code",
=======
      "execution_count": null,
      "metadata": {
        "id": "PaTqf8ufTVag"
      },
      "outputs": [],
      "source": []
    },
    {
      "cell_type": "code",
      "execution_count": 10,
      "metadata": {
        "colab": {
          "base_uri": "https://localhost:8080/",
          "height": 419
        },
        "id": "isn0-bPMHNld",
        "outputId": "683f5a46-ff26-45de-e4e0-6ec38abc22d4"
      },
      "outputs": [
        {
          "data": {
            "image/png": "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",
            "text/plain": [
              "<Figure size 600x400 with 1 Axes>"
            ]
          },
          "metadata": {},
          "output_type": "display_data"
        }
      ],
>>>>>>> e3dfe9a (Initial push: Add churn_predictor.ipynb)
      "source": [
        "# How many customers churned vs. stayed\n",
        "# This shows whether your dataset is balanced or not (e.g., 80% stayed vs 20% churned). A balanced dataset is better for training models.\n",
        "\n",
        "plt.figure(figsize=(6, 4))\n",
        "sns.countplot(x=\"Churned\", data=df, hue=\"Churned\", palette=\"pastel\", legend=False)\n",
        "plt.title(\"Churn Distribution\")\n",
        "plt.xlabel(\"Churned (0 = No, 1 = Yes)\")\n",
        "plt.ylabel(\"Customer Count\")\n",
        "plt.show()\n",
        "\n"
<<<<<<< HEAD
      ],
=======
      ]
    },
    {
      "cell_type": "code",
      "execution_count": 11,
>>>>>>> e3dfe9a (Initial push: Add churn_predictor.ipynb)
      "metadata": {
        "colab": {
          "base_uri": "https://localhost:8080/",
          "height": 419
        },
<<<<<<< HEAD
        "id": "isn0-bPMHNld",
        "outputId": "683f5a46-ff26-45de-e4e0-6ec38abc22d4"
      },
      "execution_count": 72,
      "outputs": [
        {
          "output_type": "display_data",
          "data": {
            "text/plain": [
              "<Figure size 600x400 with 1 Axes>"
            ],
            "image/png": "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\n"
          },
          "metadata": {}
        }
      ]
    },
    {
      "cell_type": "code",
=======
        "id": "ipizlThWHoMk",
        "outputId": "80ebe01c-6d5f-4d2c-acec-4f7602be9a29"
      },
      "outputs": [
        {
          "data": {
            "image/png": "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",
            "text/plain": [
              "<Figure size 600x400 with 1 Axes>"
            ]
          },
          "metadata": {},
          "output_type": "display_data"
        }
      ],
>>>>>>> e3dfe9a (Initial push: Add churn_predictor.ipynb)
      "source": [
        "# A – Average Tenure vs Churn\n",
        "# We explore patterns behind churn\n",
        "plt.figure(figsize=(6, 4))\n",
        "sns.barplot(x=\"Churned\", y=\"TenureMonths\", data=df, hue=\"Churned\", palette=\"muted\", legend=False)\n",
        "plt.title(\"Average Tenure by Churn\")\n",
        "plt.xlabel(\"Churned\")\n",
        "plt.ylabel(\"Avg Tenure (months)\")\n",
        "plt.show()\n",
        "\n"
<<<<<<< HEAD
      ],
=======
      ]
    },
    {
      "cell_type": "code",
      "execution_count": 12,
>>>>>>> e3dfe9a (Initial push: Add churn_predictor.ipynb)
      "metadata": {
        "colab": {
          "base_uri": "https://localhost:8080/",
          "height": 419
        },
<<<<<<< HEAD
        "id": "ipizlThWHoMk",
        "outputId": "80ebe01c-6d5f-4d2c-acec-4f7602be9a29"
      },
      "execution_count": 73,
      "outputs": [
        {
          "output_type": "display_data",
          "data": {
            "text/plain": [
              "<Figure size 600x400 with 1 Axes>"
            ],
            "image/png": "iVBORw0KGgoAAAANSUhEUgAAAh0AAAGSCAYAAABHbnN3AAAAOnRFWHRTb2Z0d2FyZQBNYXRwbG90bGliIHZlcnNpb24zLjEwLjAsIGh0dHBzOi8vbWF0cGxvdGxpYi5vcmcvlHJYcgAAAAlwSFlzAAAPYQAAD2EBqD+naQAAQz5JREFUeJzt3XdYFNf+BvB3wAVBmijBAgSQiA0Eo4IaSxCjFMXoxRo1zRJBE6MmJDcaMRqNmscGGkXsvSReEMQYNNhivRqjYkEQESOWRLqywP7+8LI/Nwu6OyyzlPfzPD5xZs6c+e7GYV/OnJkVFAqFAkRERERVzEDfBRAREVHdwNBBREREkmDoICIiIkkwdBAREZEkGDqIiIhIEgwdREREJAmGDiIiIpIEQwcRERFJgqGDiIiIJMHQQUT0Aj/++CNcXV3xxx9/6LsUpVOnTsHV1RUJCQn6LoVIK/X0XQBRdbRlyxbMnj0b7u7u2LVrl77LqRaWL1+OiIiIl7br3LkzNm3aJEFFtdOpU6ewadMmnD9/HtnZ2TA3N0f79u0xaNAgvPXWW/ouj6hSGDqIyhEbG4vmzZvj4sWLSE9Px6uvvqrvkvSuT58+cHBwUC4XFBRg1qxZ6NOnD/r06aNc37hxY32UVyssW7YMkZGRcHR0xNChQ9GsWTM8fvwYSUlJmDRpEhYtWoT+/fvru0wi0Rg6iP4hIyMD58+fR0REBGbOnInY2FiEhoZKWkNpaSnkcjmMjY0lPe6LtGrVCq1atVIu//XXX5g1axZcXV0RFBSkx8oqVlBQAFNTU32XoZGEhARERkaib9+++P777yGTyZTbPvzwQxw9ehTFxcWS1vT06VPIZDIYGPBKPOkG/yUR/UNsbCwsLS3Rs2dP9O3bF7GxscptcrkcnTt3xhdffKG2X15eHtzc3PDdd98p1xUVFWHZsmXo06cP2rVrh549e2LBggUoKipS2dfV1RWzZ89GTEwMAgIC4ObmhqNHjwIAoqOjMWzYMHh5ecHd3R2DBg0q91r+kydPMGfOHHh5ecHT0xMTJkxAVlYWXF1dsXz5cpW2WVlZ+OKLL9C1a1e0a9cOAQEB2L17d6XetzI3b97E5MmT0blzZ7i5uWHQoEFITExUaVM2T+LcuXOYN28evL294eHhgZCQEPz1119q780/6wcAHx8fhIWFqfV5+vRpzJo1C126dEHPnj2V25OSkjBixAh4eHjA09MT48aNw40bNzR+XU+ePMHMmTPh5eWFDh064LPPPkN2drZy++effw4vLy/I5XK1fd9//3307dv3hf0vXboUVlZW+Pbbb1UCR5nu3bvjzTffVFlXWlqKlStXokePHnBzc8OYMWOQnp6u0uaf71OZUaNGYdSoUcrlsnkicXFxWLx4Mbp374727dsjLy8PYWFh8PT0RFZWFiZOnAhPT094e3vju+++Q0lJyQtfF9HzONJB9A+xsbHo06cPjIyMEBgYiG3btuHixYtwd3eHTCaDr68vDh48iPDwcBgZGSn3++WXX1BUVAR/f38Azz4QPvroI5w7dw5DhgxBixYtcP36dWzYsAG3bt3CihUrVI578uRJ7N+/HyNHjkTDhg3RvHlzAMDGjRvh4+OD/v37Qy6XIy4uDh9//DFWrVqFXr16KfcPCwvD/v37ERQUhPbt2+PMmTMYN26c2ut7+PAhhgwZAkEQMHLkSFhbW+PIkSP497//jby8PLz77rui37sbN25g+PDhsLW1xdixY2Fqaor9+/cjJCQEy5cvV7kMAwBz5syBhYUFQkNDkZmZiQ0bNmD27NlYsmSJ6BrCw8NhbW2NkJAQFBQUAAD27t2LsLAwvPHGG5g2bRoKCwuxbds2jBgxAj/99BPs7Oxe2u/s2bOVtaalpWHbtm24e/cuNm3aBEEQEBQUhL179+LYsWMq4eDBgwc4efIkQkJCKuz71q1bSE1NxeDBg2FmZqbxa42KioIgCHj//feRl5eHNWvWYNq0aZWah7RixQrIZDJ88MEHKCoqUgagkpISfPDBB3B3d8dnn32G3377DWvXroW9vT1GjBgh+nhUtzB0ED3n0qVLSE1NxYwZMwAAr7/+Opo0aYLY2Fi4u7sDAPz9/bFnzx4cP35c5cMlPj4e9vb2cHNzA/AsvJw4cQKbNm1Cx44dle1ee+01fP311/jvf/+LDh06KNenpaUhNjYWLi4uKjUdOHAA9evXVy6PHDkSgwYNwrp165Sh4/Lly9i/fz/GjBmDL7/8Utnuiy++wNWrV1X6W7x4MUpKShAbG4uGDRsCAIYPH45PP/0UERERGDZsmMrxtDF37lw0bdoUe/bsUQayESNGYPjw4Vi0aJFa6LCyssLatWshCAKAZ0Ft06ZNyM3Nhbm5uagaLC0tsX79ehgaGgIA8vPzMXfuXAQHB+Obb75Rtnv77bfRr18/rFq1SmV9RWQyGdavX6/8EG7WrBkWLlyIQ4cOoXfv3vD29kaTJk0QExOj8u8iLi4OpaWlGDBgQIV937x5EwDQsmVLrV7r06dPsXfvXuV7bWFhgblz5+L69eta9/V8n3v27FH7N/D06VP4+fkpw9Pw4cPx9ttvY/fu3QwdpDFeXiF6TmxsLBo3bgwvLy8AgCAI8Pf3R3x8vHIY2dvbGw0bNkR8fLxyv+zsbJw4cUI5ygE8u0bfokULODs746+//lL+8fb2BvBsOPt5nTp1UgscAFR++GdnZyM3Nxevv/46rly5olxfdinmnz/833nnHZVlhUKBn3/+GT4+PlAoFCp1vfHGG8jNzcXly5c1f8Oe8/jxY5w8eRJ+fn7Iy8tT9vv333/jjTfewK1bt5CVlaWyT9mIS5mOHTuipKQEmZmZomoo67MscADAiRMnkJOTg4CAAJXXa2BggPbt26v9f6jI0KFDVS57DB8+HPXq1UNSUhIAwMDAAP3798ehQ4eQl5enbBcTEwNPT0/Y29tX2HdZ+wYNGmj1WgcNGqQy2lYWbjMyMrTq53kDBw6sMHQOHz5cZfn111/HnTt3RB+L6h6OdBD9T0lJCeLi4uDl5aXyg9Td3R1r167Fb7/9hjfeeAP16tXDW2+9hX379qGoqAhGRkb4+eefIZfLVUJHeno6bt68iS5dupR7vEePHqksVzTEf/jwYaxcuRLJyckqc0Ge/7C+e/cuDAwM1Pr45103f/31F3JycrBjxw7s2LGj3OP9c06Fpm7fvg2FQoGlS5di6dKl5bZ59OgRbG1tlcvNmjVT2W5hYQEAyMnJEVUDoP4+3rp1CwAwZsyYcttrejnjn+9lgwYNYGNjoxKQBg4ciKioKPzyyy8YOHAgUlNTcfnyZYSHh7+w77Ia8vPzNaqljBTvXxljY2NYW1urrLO0tFSZ10L0MgwdRP9z8uRJPHjwAHFxcYiLi1PbHhsbizfeeAMAEBAQgB07duDIkSPw9fVFQkICnJ2dVe7uKC0tRcuWLcuddAoATZo0UVku77fLs2fP4qOPPkKnTp3w9ddfw8bGBjKZDHv27MG+ffu0fo2lpaUAgAEDBuDtt98ut42rq6vW/T7f9/vvv4/u3buX2+b5W24BVHhXhEKheOnxKprA+M87fsr6WrBgAWxsbNTaPz8qUlkuLi5o27YtYmJiMHDgQMTExEAmk8HPz++F+zk7OwMArl+/rtXxKvv+lffaKxrl0OX7RHUXQwfR/8TGxqJRo0aYOXOm2raDBw8qJ4/Wr18fnTp1go2NDeLj49GhQwecPHkSEyZMUNnHwcEBV69eRZcuXVRGJbRx4MABGBsbIzo6WmUYfc+ePSrtmjVrhtLSUty5cweOjo7K9f+8k8Ha2hoNGjRAaWkpunbtKqqmipRdPpDJZDrt29LSUu0396KiIjx48ECruho1alSputLT05WXxoBnoxIPHjxAjx49VNoNHDgQ8+fPx/3797Fv3z706tULlpaWL+zbyckJTk5OSExMRH5+vtaXWV6kvPcPeDY69qJLPkRVgXM6iPDsdsiff/4ZvXr1Qr9+/dT+jBw5Evn5+Th06BCAZ79h9uvXD4cPH0ZMTAyKi4tVLq0AgJ+fH7KysrBz585yj1d2Z8WLGBoaQhAEld/q79y5o3YLatkIzNatW1XWb968Wa2/vn374sCBA+X+Vi320grw7EO9c+fO2LFjB+7fv6+zvu3t7XH27FmVdTt37tT4Vs3u3bvDzMwMq1atKvd2Vk3r2rFjh8r+27ZtQ3FxsVroCAwMhCAImDt3LjIyMl44gfR5kydPxuPHj/HVV1+V+zyOY8eO4fDhwxr19Tx7e3v8/vvvKpfmDh8+jD///FPrvogqiyMdRAAOHTqE/Px8+Pj4lLvdw8MD1tbWiImJUYYLPz8/bNq0CcuWLUPLli3RokULlX2CgoKwf/9+fP311zh16hQ6dOiAkpISpKamIiEhAWvWrFHe6VKRnj17Yt26dfjwww8RGBiIR48eYevWrXBwcMC1a9eU7dq1a4e+fftiw4YNePz4sfKW2bL5DM+PtEydOhWnTp3CkCFDEBwcDBcXF2RnZ+Py5cv47bffcPr0aTFvIQDg66+/xogRI9C/f38MGTIE9vb2ePjwIS5cuIB79+4hJiZG6z6Dg4Px9ddfY9KkSejatSuuXr2KY8eOKe+8eRkzMzPMmjULn332GQYNGgR/f39YW1vj7t27SEpKQocOHcod3fonuVyOd999F35+fkhLS8PWrVvx+uuvo3fv3irtrK2t0b17dyQkJMDCwkLltuYX8ff3x7Vr1/DDDz/gypUrCAwMVD6R9OjRo/jtt9/w/fffa9TX84KDg3HgwAF8+OGH8PPzw+3btxEbG6t2qYtICgwdRHh2h4GxsTG6detW7nYDAwP06tULsbGx+Pvvv9GwYUN06NABTZs2xZ9//qk2ylG2T2RkJNavX4///Oc/OHjwIExMTGBnZ4dRo0bBycnppXV16dIFc+fORVRUFL799lvY2dlh2rRpyMzMVAkdAPDdd9+hcePGiIuLw8GDB9G1a1csXrwY/fr1U7k007hxY+zatQuRkZE4ePAgtm3bBisrK7i4uGDatGlavnOqXFxcsGfPHkREROCnn37C48ePYW1tjTZt2rzwORUvMmTIENy5cwe7d+/G0aNH8frrr2PdunVaPU+kf//+eOWVV7B69WpER0ejqKgItra26NixIwYNGqRRH2VPp122bBnkcjkCAgLw1VdflXvpLCgoCIcPH4afn5/Ke/8yU6ZMgbe3NzZt2oRt27YhOzsbFhYWaN++PVasWKEWcDTRvXt3hIWFYd26dfj222/Rrl07/PDDDyoPsSOSiqDQZMYREdVIycnJGDhwIBYuXKjxMD9V3i+//IKQkBBs2bJF5RktRHUd53QQ1RJPnjxRW7dhwwYYGBigU6dOeqio7tq1axfs7e3x+uuv67sUomqFl1eIaok1a9bg0qVL8Pb2hqGhIY4cOYIjR45g6NChaNq0qb7LqxPi4uJw7do1/Prrr/j3v/8t+q4lotqKl1eIaonjx48jIiICN2/eREFBAZo2bYqgoCBMmDAB9erx9wspuLq6wtTUFP7+/ggPD+f7TvQPDB1EREQkCc7pICIiIkkwdBAREZEkeMERwPnz56FQKFS+QZKIiIheTi6XQxAEeHp6vrQtQweefTkSp7YQERFpT5vPT4YOQDnC8bJHUhMREZGqP/74Q+O2nNNBREREkmDoICIiIkkwdBAREZEkGDqIiIhIEgwdREREJAmGDiIiIpIEQwcRERFJgqGDiIiIJFFtQ0d+fj569OgBV1dXtQeP7Nq1C3379oWbmxsGDBiAw4cP66lKIiIi0lS1DR0rVqxASUmJ2vq4uDjMmDEDfn5+iIqKgoeHB0JDQ3HhwgXpiyQiIiKNVcvQcfPmTWzduhWTJk1S27Zs2TIEBATgk08+gbe3N2bPng03NzdERkbqoVIiIiLSVLUMHXPmzMGwYcPg5OSksj4jIwO3bt2Cn5+fynp/f3/89ttvKCoqkrJMIiIi0kK1Cx0JCQm4fv06QkJC1LalpqYCgFoYadGiBeRyOTIyMiSpkYiIxIuMjESfPn04Ql0HVatvmS0sLMT8+fMxZcoUmJmZqW3Pzs4GAFhYWKisL1su2y6GQqFAQUGB6P2JiOjlnjx5gr1796K0tBR79+7F8OHDUb9+fX2XRZWgUCggCIJGbatV6Fi5ciUaNWqEwYMHS35suVyO5ORkyY9LRFSXFBYWorS0FABQWlqKK1euwMTERM9VUWUZGRlp1K7ahI7MzEysXbsWkZGRyM3NBQDlyENBQQHy8/NhaWkJAMjNzYWNjY1y35ycHABQbhdDJpPBxcVF9P5ERPRyeXl5KsstW7Ysd2Sbao6UlBSN21ab0HHnzh3I5XKMGzdObdvo0aPRvn17fP/99wCeze1wdnZWbk9NTYVMJoO9vb3o4wuCAFNTU9H7ExHRy5WNcpQxNTXlz94aTtNLK0A1Ch2tW7fGxo0bVdYlJydj3rx5CA8Ph5ubG+zt7eHo6IiEhAT4+voq28XHx6NLly4aD+8QERGR9KpN6LCwsICXl1e529q2bYu2bdsCACZNmoRp06bBwcEBXl5eiI+Px8WLF7F582YpyyUiIiItVZvQoanAwEAUFhYiKioKq1evhpOTEyIiIuDp6anv0oiIiOgFqnXo8PLywrVr19TWBwcHIzg4WA8VERERkVjV7uFgREREVDsxdBAREZEkGDqIiIhIEgwdREREJAmGDiIiIpIEQwcRERFJgqGDiIiIJMHQQURERJJg6CAiIiJJMHQQERGRJBg6iIiISBIMHURERCQJhg4iIiKSBEMHERERSYKhg4iIiCTB0EFERESSYOggIiIiSTB0EBERkSQYOoiIiEgSDB1EREQkCYYOIiIikgRDBxEREUmCoYOIiIgkwdBBREREkqin7wKel5SUhKioKKSkpCAvLw+2trbw9fVFaGgozM3NAQBhYWH46aef1PaNiopCjx49pC6ZiIiINFStQsfjx4/h7u6OUaNGwcrKCjdu3MDy5ctx48YNrF27VtnO3t4eixYtUtm3RYsWUpdLREREWqhWoSMoKEhl2cvLC0ZGRpgxYwaysrJga2sLAKhfvz48PDz0UCERERGJVe3ndFhZWQEA5HK5fgshIiKiSqlWIx1lSkpKUFxcjJSUFERGRsLHxwd2dnbK7enp6Xj99dfx9OlTtGzZEhMnToSvr2+ljqlQKFBQUFDZ0omoBhIEQd8l1BmFhYVqy4aGhnqqpu5RKBRV0qem51C1DB1vvvkmsrKyAADdu3fH999/r9zWunVruLm5wcXFBbm5udi2bRtCQkKwdOlS9OvXT/Qx5XI5kpOTK107EdUsMpkMbdu2gaFhtfxxWOuUlJSoLJuYmMDExERP1dQtJSXFuHz5SpVcOTAyMtKonaCoithTSVevXkVhYSFSUlKwcuVK2NnZYd26deWm4dLSUgwbNgx5eXmIj48Xdbw//vgDCoUCLi4ulS2diGoYQRBgYmKCP+NWoejRXX2XU+sVFBUjdNtJ5XLEcG+YGjHwVTWjRs3QNGA8CgsLdT7akZKSAkEQ4Obm9tK21fL/dKtWrQAAnp6ecHNzQ1BQEA4ePFjuSIaBgQHeeustLFy4EE+ePEH9+vVFHVMQBJiamlaqbiKquYoe3cXT++n6LqPWeyovVV1+kAFDWbWfXlhrVMWokjaXJ6v9/2lXV1fIZDLcvn1b36UQERFRJVT70PH7779DLperTCR9XmlpKRISEvDaa6+JHuUgIiKiqletLq+EhoaiXbt2cHV1Rf369XH16lVER0fD1dUVvr6+yMzMRFhYGAICAvDqq68iOzsb27Ztw6VLl7B8+XJ9l09EREQvUK1Ch7u7O+Lj47F69WooFAo0b94cwcHB+OCDD2BkZIQGDRrAzMwMK1euxKNHjyCTydCuXTtERUWhe/fu+i6fiIiIXqBahY5x48Zh3LhxFW63srLCypUrJayIiIiIdKXaz+kgIiKi2oGhg4iIiCTB0EFERESSYOggIiIiSTB0EBERkSQYOoiIiEgSDB1EREQkCYYOIiIikgRDBxEREUmCoYOIiIgkIeox6FevXsW5c+dw8+ZN/P333xAEAQ0bNoSzszM6dOiA1q1b67pOIiIiquE0Dh2PHj3C1q1bsXfvXty9excKhQIymQyWlpZQKBTIycmBXC6HIAho2rQp3n77bQwfPhyNGzeuyvqJiIiohtAodCxcuBBbt25FgwYN0K9fP3Tt2hVt27aFra2tSrusrCxcvnwZx48fx86dO7F27Vq88847mDp1apUUT0RERDWHRqHj7NmzWLhwIXr37g1BECpsZ2trC1tbW/j4+OCrr75CYmIi1qxZo7NiiYiIqObSKHTs2LFD644FQYCvry98fX213peIiIhqH969QkRERJIQFTru3r2Ls2fPqqy7evUqPvvsM3zyySf45ZdfdFIckRiRkZHo06cPIiMj9V0KERE9R1TomDNnDiIiIpTLDx8+xOjRo3Hw4EGcPXsWkyZNws8//6yzIok09eTJE+zduxelpaXYu3cvnjx5ou+SiIjof0SFjosXL6Jr167K5bIf7v/5z39w5MgRdOnSBWvXrtVZkUSaKi4uRmlpKQCgtLQUxcXFeq6IiIjKiAod2dnZaNSokXL5119/RadOneDg4AADAwP06dMHqampOiuSiIiIaj5RocPa2hp3794FAOTk5ODChQvo3r27cntJSQl/wyQiIiIVoh6D3rVrV2zatAlmZmY4deoUFAoFevfurdyekpKCpk2b6qxIIiIiqvlEhY6pU6ciLS0N3333HWQyGT777DPY29sDAIqKirB//370799fp4USERFRzSYqdDRu3Bjbt29Hbm4ujI2NYWRkpNxWWlqKDRs2oEmTJlr3m5SUhKioKKSkpCAvLw+2trbw9fVFaGgozM3Nle0OHTqEJUuWIC0tDc2aNcO4ceMwePBgMS+FiIiIJCIqdJR5PgiUqV+/Plq1aiWqv8ePH8Pd3R2jRo2ClZUVbty4geXLl+PGjRvKu2HOnj2L0NBQ/Otf/8KXX36JkydP4t///rfye2GIiIioehIdOkpKSnDs2DFkZGQgOzsbCoVCZbsgCAgJCdGqz6CgIJVlLy8vGBkZYcaMGcjKyoKtrS1WrlwJd3d3zJ49GwDg7e2NjIwMLFu2jKGDiIioGhMVOv744w9MnjwZ9+7dUwsbZcSEjvJYWVkBAORyOYqKinDq1ClMmzZNpY2/vz/27duHO3fuwM7OrtLHJCIiIt0TFTrCw8Px5MkTREZGomPHjrCwsNBpUWW33KakpCAyMhI+Pj6ws7NDSkoK5HI5nJ2dVdq3aNECAJCamsrQQUREVE2JCh3Xrl3DlClT4OPjo+t6AABvvvkmsrKyAADdu3fH999/D+DZQ8kAqIWcsuWy7WIoFAoUFBSI3v9FBEGokn5JXWFhodqyoaGhnqqpeyoa+azOBEGAiYmJvssgkkRhYaHOz1OFQqHx55yo0NGkSZMq/eGyevVqFBYWIiUlBStXrsSECROwbt26Kjse8OzyTXJyss77lclkaNOmLerV4wefFEpKSlSWTUxM+IEikeLiEly5chlyuVzfpWjFxMQEbdq00XcZdUY9A0AAoABgIDxbJumkpaWp/XKmC8/fxfoiokLH2LFjER0djaFDh8LMzExMFy9UdveLp6cn3NzcEBQUhIMHD8LFxQUAkJubq9I+JycHAGBpaSn6mDKZTNm/LgmCgHr1DBG5+woyH1TNSAr9v+Ii1ZNpdvR51DNi6KhqzW1MEfKvNnjttddq3GgHRyKlZWRogF6vmiHpdh56OpjByJCpQ0pOTk46P0dTUlI0bqtR6ChvlKFBgwbo06cPAgIC0KRJE7UhbEEQ8O6772pcSEVcXV0hk8lw+/Zt+Pj4QCaTITU1VeWx62Xf8/LPuR7aEAQBpqamla63IpkPCnDrz7wq65+eKS1W/VbZ21n5MKhXUkFr0jWOKpEmhrRpiCFtGuq7jDqpKs5RbYK7RqHju+++q3Db5s2bKyxCF6Hj999/h1wuh52dHYyMjODl5YUDBw5gzJgxyjbx8fFo0aIFJ5ESERFVYxqFjsTExKquAwAQGhqKdu3awdXVFfXr18fVq1cRHR0NV1dX+Pr6AgA++ugjjB49GrNmzYKfnx9OnTqFffv2YfHixZLUSEREROJoFDqaN29e1XUAANzd3REfH4/Vq1dDoVCgefPmCA4OxgcffKCcpNKxY0csX74cS5Yswe7du9GsWTPMmTMHfn5+ktRIRERE4oiaSNq6dWssWLCgwi91i4+Px9SpU7W+G2TcuHEYN27cS9v17t1b5VttiYiIqPoTNW34ZTNfS0pKOCOciIiIVIi+V6miUJGXl4djx46hYUPOTCYiIqL/p/HllYiICERGRgJ4FjimT5+O6dOnl9tWoVBg1KhRuqmQiIiIagWNQ4ebmxtGjBgBhUKBrVu3olu3bnB0dFRpU/Y44bZt2+Ktt97Sda1ERERUg2kcOnr27ImePXsCePbs9mHDhqF9+/ZVVhgRERHVLqLuXpk3b56u6yDSCUEwxP9/s4Pwv2UiIqoORIUO4NkdKseOHUNGRgays7PV7mgRBAEhISGVLpBIG4KhDKZNO6HgzzMwbdoJgqFM3yUREdH/iAodf/zxByZPnox79+5VePssQwfpi7lzX5g799V3GURE9A+iQkd4eDiePHmCyMhIdOzYERYWFrqui4iIiGoZUaHj2rVrmDJlCnx8fHRdDxEREdVSoh4O1qRJk5c+lZSIiIjoeaJCx9ixY7Fz507k5eXpuh4iIiKqpURdXsnPz0eDBg3Qp08fBAQEoEmTJjA0VL01URAEvPvuu7qokYiIiGoBUaHju+++U/598+bN5bZh6CAiIqLniQodiYmJuq6DiIiIajlRoaN58+a6roOIiIhqOdFPJAWAgoICnDlzBpmZmQCehZFOnTrB1NRUJ8URERFR7SE6dGzatAlLlixBQUGByu2zDRo0wJQpU/DOO+/opEAiIiKqHUSFjr1792Lu3Lnw8PDA6NGj4ezsDABITU3Fpk2bMHfuXJiZmWHgwIG6rJWIiIhqMFGhY926dejUqRPWr1+vcqtsq1at0LdvX7z77rtYt24dQwcREREpiXo4WFpaGvr166f2bA4AMDQ0RL9+/ZCWllbp4oiIiKj2EBU6zM3NcefOnQq337lzB2ZmZqKLIiIiotpHVOjo2bMnNm/ejLi4OLVt8fHx2LJlC958881KF0dERES1h6g5HdOmTcOFCxcwbdo0zJ8/H46OjgCAW7du4eHDh3B2dsbUqVN1WScRERHVcKJCh7W1NX766Sds374dR44cwd27dwEALVu2xNixYzF06FAYGxtr3e/+/fsRExODy5cvIycnB6+++ipGjRqFwYMHQxAEAMCoUaNw+vRptX3j4+PRokULMS+HiIiIJCD6OR3GxsYYM2YMxowZo7Ni1q9fj+bNmyMsLAwNGzbEiRMnMGPGDNy7dw+hoaHKdh06dMDnn3+usq+dnZ3O6iAiIiLdq9QTSXVt5cqVsLa2Vi536dIFjx8/xrp16zBx4kQYGDybgmJhYQEPDw89VUlERERiiA4dZ8+exZ49e3Dnzh1kZ2erPJUUePYtszExMVr1+XzgKNO6dWvs3LkTBQUFvCOGiIioBhP9cLAFCxbA2NgYTk5OsLS01HVdSufOnYOtra1K4Dh9+jQ8PDxQUlKC9u3b4+OPP0anTp2qrAYiIiKqPFGhIzo6Gh06dMAPP/wAc3NzXdekdPbsWcTHx6vM3+jUqROCgoLg6OiI+/fvIzo6Gu+99x42bdoET09P0cdSKBQoKCjQRdkqBEGAiYmJzvslqo4KCwvVRj2rO56jVJdUxTmqUCiUN3u8jKjQUVhYiP79+1dp4Lh37x6mTJkCLy8vjB49Wrl+8uTJKu169eqFwMBArFixAlFRUaKPJ5fLkZycLHr/ipiYmKBNmzY675eoOkpLS0NhYaG+y9AKz1GqS6rqHDUyMtKonajQ4eXlhevXr4vZVSM5OTkYO3YsrKyssHz5cuUE0vKYmpqiZ8+eOHDgQKWOKZPJ4OLiUqk+yqNp+iOqDZycnGrkSAdRXVEV52hKSorGbUWFjhkzZuD9999HdHQ0Bg8eDCsrKzHdlOvJkycYP348cnNzsWPHjiodTXmeIAgwNTWV5FhEtRUvUxBVb1VxjmoT3EWFjqZNm2Lo0KFYsGABFi1aBGNjY7XRCEEQcO7cOa36LS4uxieffILU1FRs2bIFtra2L92noKAAv/76K9zc3LQ6FhEREUlLVOhYunQpfvjhB9ja2qJdu3Y6G40IDw/H4cOHERYWhry8PFy4cEG5rU2bNrh48SLWrFmDPn36oHnz5rh//z7WrVuHBw8eYOnSpTqpgYiIiKqGqNCxfft29OzZEytWrHjhfAttHT9+HAAwf/58tW2JiYmwsbGBXC7H4sWL8fjxY5iYmMDT0xPh4eFwd3fXWR1ERESke6JCh1wuR69evXQaOADg0KFDL20THR2t02MSERGRNESlhl69euHs2bO6roWIiIhqMVGhIzQ0FDdv3sSsWbNw6dIl/PXXX3j8+LHaHyIiIqIyoi6v9OvXDwCQnJyMHTt2VNiuKh62RURERDWTqNAREhLCB+oQERGRVkSFjkmTJum6DiIiIqrldHv7CREREVEFNAodq1atQn5+vtad5+XlYdWqVVrvR0RERLWPRqFj37596NWrF2bNmoVTp06hpKSkwrZyuRwnTpzAjBkz0KtXL+zbt09nxRIREVHNpdGcjpiYGMTGxmLt2rXYvn07jIyM8Nprr8HOzg6WlpZQKBTIzs7GnTt3cOPGDRQXF6Nly5aYMWMGBgwYUNWvgYiIiGoAjUKHIAgYMGAABgwYgCtXruCXX37BhQsX8Pvvvyufx2FlZQVnZ2eMHTsWvXv3Rtu2bauybiIiIqphtL57pU2bNmjTpk1V1EJERES1GO9eISIiIkkwdBAREZEkGDqIiIhIEgwdREREJAmGDiIiIpIEQwcRERFJQtQXvpXJysrCmTNn8OjRI/Tt2xdNmjRBSUkJcnNzYW5uDkNDQ13VSURERDWcqNChUCgwf/58bNmyBcXFxRAEAS1btkSTJk1QUFAAHx8fTJ48Ge+++66OyyUiIqKaStTllTVr1mDjxo14//33sW7dOigUCuU2c3NzvPXWW/j55591ViQRERHVfKJCx65duzBw4EB8+umnaNWqldp2V1dX3Lp1q7K1ERERUS0iKnT8+eef8PT0rHC7iYkJ8vLyRBdFREREtY+o0NGoUSP8+eefFW6/fPkymjZtKrooIiIiqn1EhY4+ffpg+/btyMjIUK4TBAEAcOzYMfz000/o16+f1v3u378fH330EXr06AEPDw8EBQVh9+7dKnNGgGeXd/r27Qs3NzcMGDAAhw8fFvMyiIiISEKi7l6ZPHkyTp06haCgIHTs2BGCICAqKgpLly7FhQsX0Lp1a0yYMEHrftevX4/mzZsjLCwMDRs2xIkTJzBjxgzcu3cPoaGhAIC4uDjMmDEDEyZMgLe3N+Lj4xEaGootW7bAw8NDzMshIiIiCYgKHebm5ti5cyfWrl2LAwcOwNjYGGfOnIGDgwNCQkLw4Ycfon79+lr3u3LlSlhbWyuXu3TpgsePH2PdunWYOHEiDAwMsGzZMgQEBOCTTz4BAHh7e+P69euIjIxEVFSUmJdDREREEtA6dDx9+hQ7duxA69atMXHiREycOFFnxTwfOMq0bt0aO3fuREFBAf7++2/cunUL06dPV2nj7++PBQsWoKioCEZGRjqrh4iIiHRH6zkdxsbGWLRoEdLS0qqiHjXnzp2Dra0tzMzMkJqaCgBwcnJSadOiRQvI5XKVOSZERERUvYi6vPLaa68hMzNT17WoOXv2LOLj4/H5558DALKzswEAFhYWKu3Klsu2i6FQKFBQUCB6/4oIggATExOd90tUHRUWFqpN/K7ueI5SXVIV56hCoVDeTPIyokLHlClTMHXqVHh5eaFr165iunipe/fuYcqUKfDy8sLo0aOr5BjPk8vlSE5O1nm/JiYmaNOmjc77JaqO0tLSUFhYqO8ytMJzlOqSqjpHNZ3aICp0bN68GVZWVvjggw9gZ2cHOzs7GBsbq7QRBAErV64U0z1ycnIwduxYWFlZYfny5TAweHYVyNLSEgCQm5sLGxsblfbPbxdDJpPBxcVF9P4V0TT9EdUGTk5ONXKkg6iuqIpzNCUlReO2okLH9evXAQBNmzZFSUkJ0tPT1dqIPZGfPHmC8ePHIzc3Fzt27IC5ublym7OzMwAgNTVV+feyZZlMBnt7e1HHLKvX1NRU9P5EBF6mIKrmquIc1ebzXlToOHTokJjdXqq4uBiffPIJUlNTsWXLFtja2qpst7e3h6OjIxISEuDr66tcHx8fjy5duvDOFSIiompMVOioKuHh4Th8+DDCwsKQl5eHCxcuKLe1adMGRkZGmDRpEqZNmwYHBwd4eXkhPj4eFy9exObNm/VXOBEREb2UqNBx9+5djdo1a9ZMq36PHz8OAJg/f77atsTERNjZ2SEwMBCFhYWIiorC6tWr4eTkhIiIiBd+AR0RERHpn6jQ4ePjo9E1HG3vBtH0sk1wcDCCg4O16puIiIj0S1To+Pbbb9VCR0lJCTIzM/Gf//wH1tbWGDlypE4KJCIiotpBVOgYNGhQhdvGjh2LIUOGIDc3V3RRREREVPuI+mr7FzE1NcWgQYOwfv16XXdNRERENZjOQwcAlJaW4uHDh1XRNREREdVQOr1lNi8vD2fOnEF0dDQfK0xEREQqRIWOVq1aVXj3ikKhQLNmzfD1119XqjAiIiKqXUSFjpCQkHJDh6WlJRwcHNCtWzfUq1etnjtGREREeiYqGUyaNEnXdRAREVEtVyUTSYmIiIj+SfQ1kJs3b2LPnj24c+cOsrOz1b4qVxAEbNiwodIFEhERUe0gKnTs3bsXX375JerVqwcnJydYWFiotflnCCEiIqK6TVToiIiIQOvWrREVFQVra2td10RERES1kKg5Hffv38fgwYMZOIiIiEhjokKHq6sr7t+/r+taiIiIqBYTFTrCwsKwe/du/Pe//9V1PURERFRLiZrTERUVBXNzc4wcORIuLi5o2rQpDAxU84sgCFi5cqVOiiQiIqKaT1TouH79OgCgadOmyM/PR0pKilqbih6TTkRERHWTqNBx6NAhXddBREREtRyfSEpERESSEP1E0pKSEiQkJODUqVN49OgRJk+eDFdXV+Tm5uK3335Dhw4d0LhxY13WSkRERDWYqNCRk5ODDz/8EBcvXoSpqSkKCwvxzjvvAABMTU0xZ84cDBw4EJ9++qlOiyUiIqKaS9TllUWLFuHGjRuIjo7GL7/8ovLIc0NDQ/Tt2xdJSUk6K5KIiIhqPlGhIzExEaNGjUK3bt3KvUvF0dERmZmZlS6OiIiIag9RoSM3Nxd2dnYVbi8uLkZJSYnoooiIiKj2ETWnw8HBAZcvX65w+/Hjx9GiRQut+01PT0d0dDR+//133LhxA87Ozti3b59Km1GjRuH06dNq+8bHx4s6JhEREUlD49Bx5swZtGjRAtbW1vjXv/6FRYsWwcvLC97e3gCePQysqKgIkZGROHr0KGbPnq11MTdu3EBSUhLat2+P0tJSlbkiz+vQoQM+//xzlXUvGnkhIiIi/dM4dIwePRoLFixA//79MWbMGKSkpODTTz+FhYUFAGDatGl4/PgxiouLMXToUAQHB2tdjI+PD3x9fQE8+36XS5culdvOwsICHh4eWvdPRERE+qNx6Hh+1EEQBOVtsQcOHEB6ejpKS0vh4OAAPz8/dOrUSVQx//z+FiIiIqo9RD8cDAA6duyIjh076qoWjZ0+fRoeHh4oKSlB+/bt8fHHH4sOOkRERCQNrUJHdfgSt06dOiEoKAiOjo64f/8+oqOj8d5772HTpk3w9PQU3a9CoUBBQYEOK31GEASYmJjovF+i6qiwsLDCuVjVFc9Rqkuq4hxVKBQa5wOtQsf06dMxffp0jdoKgoArV65o071GJk+erLLcq1cvBAYGYsWKFYiKihLdr1wuR3JycmXLU2NiYoI2bdrovF+i6igtLQ2FhYX6LkMrPEepLqmqc9TIyEijdlqFjq5du8LR0VFMPVXG1NQUPXv2xIEDByrVj0wmg4uLi46q+n/VYXSISCpOTk41cqSDqK6oinM0JSVF47ZahY6BAweif//+WhdUEwiCAFNTU32XQVSj8TIFUfVWFeeoNsG9xt8uUlBQgF9//RVubm76LoWIiIheoFJ3r+haYWGh8oviMjMzkZeXh4SEBABA586dkZqaijVr1qBPnz5o3rw57t+/j3Xr1uHBgwdYunSpPksnIiKil6hWoePRo0f4+OOPVdaVLW/cuBFNmjSBXC7H4sWL8fjxY5iYmMDT0xPh4eFwd3fXR8lERESkIY1Dx9WrV6uyDgDPHmV+7dq1F7aJjo6u8jqIiIhI92r8nA4iIiKqGRg6iIiISBIMHURERCQJhg4iIiKSBEMHERERSULULbNnzpx54XZBEGBkZIQmTZrglVdeEVUYERER1S6iQseoUaM0fuzpq6++ismTJ8Pf31/MoYiIiKiWEBU61qxZg0WLFqGoqAhDhgyBg4MDACA9PR27du1C/fr18dFHHyEzMxM7duzA1KlTYWBggH79+um0eCIiIqo5RIWOo0ePwtjYGDt37lT7OtsRI0Zg1KhRuHDhAqZPn47hw4dj8ODBiIqKYuggIiKqw0RNJI2NjUVgYKBa4AAAY2Nj9O/fH3v37lUuDxgwADdv3qxUoURERFSziQodhYWFePjwYYXbHzx4gIKCAuWyubk5DAx4owwREVFdJioJeHl5YePGjTh8+LDatkOHDmHjxo3w8vJSrktOTkbz5s3FV0lEREQ1nqg5HTNnzsTo0aMxceJE2Nrawt7eHgCQkZGBrKwsNGvWDDNmzAAAPH36FH/++SeCg4N1VzURERHVOKJCR7NmzRAbG4vt27fj2LFjyMzMBAC0aNECY8aMwdChQ2Fqagrg2ZyOqKgo3VVMRERENZKo0AEAJiYmeO+99/Dee+/psh4iIiKqpUTN6ViwYAGuXLmi61qIiIioFhMVOjZv3ozBgwfjrbfewpIlS3Dt2jVd10VERES1jKjQceLECcybNw+Ojo5Ys2YNBg4ciICAAERGRiI1NVXXNRIREVEtIGpOh5mZGQYOHIiBAwciJycHBw4cQEJCAlauXImIiAi0bNkSAQEBGDdunK7rJSIiohqq0k/ssrCwQHBwMKKjo3H06FF8/vnnuHPnDhYvXqyL+oiIiKiWEH33yvPkcjmOHDmC+Ph4HD58GAUFBWjatKkuuiYiIqJaQnToKC4uxvHjxxEfH4/ExETk5eXBxsYGgwYNgr+/Pzp06KDLOomIiKiGExU6vvzySyQmJiI7OxsNGzZEQEAAAgIC0KlTJwiCoOsaiYiIqBYQFToSExPh6+sLf39/eHt7w9DQUK1NdnY2LC0tteo3PT0d0dHR+P3333Hjxg04Oztj3759au127dqFNWvW4O7du3BycsKUKVPw5ptvinkpREREJBFRoeP48eOoV09916KiIiQmJiI2NhZHjx7FH3/8oVW/N27cQFJSEtq3b4/S0lIoFAq1NnFxcZgxYwYmTJgAb29vxMfHIzQ0FFu2bIGHh4eYl0NEREQSEBU6ng8cCoUCv/32G2JjY3Hw4EHk5eXB2toagYGBWvfr4+MDX19fAEBYWBguXbqk1mbZsmUICAjAJ598AgDw9vbG9evXERkZye94ISIiqsZETyS9dOkSYmNjERcXh4cPH0IQBPj7++Odd96Bh4eHqLkdBgYvvoM3IyMDt27dwvTp01XW+/v7Y8GCBSgqKoKRkZHWxyUiIqKqp1XoyMjIQExMDGJjY5Geng5bW1v0798f7u7umDJlCvr27QtPT8+qqlX5tFMnJyeV9S1atIBcLkdGRgZatGhRZccnIiIi8TQOHUOHDsXFixfRsGFD9O3bF3PmzEHHjh0BALdv366yAp+XnZ0N4NkDyZ5Xtly2XQyFQoGCggLxxVVAEASYmJjovF+i6qiwsLDcuVjVGc9Rqkuq4hxVKBQaX93QOHT8/vvvsLOzQ1hYGHr16lXuRNKaTC6XIzk5Wef9mpiYoE2bNjrvl6g6SktLQ2Fhob7L0ArPUapLquoc1XRqg8bJYcaMGdi3bx9CQ0NhaWmJvn37wt/fH15eXqKL1FbZLbi5ubmwsbFRrs/JyVHZLoZMJoOLi0vlCiwHn1tCdYmTk1ONHOkgqiuq4hxNSUnRuK3GoWPkyJEYOXIkMjIyEBsbi3379mHnzp1o3LgxvLy8IAhClZ+8zs7OAJ7N7Sj7e9myTCaDvb296L4FQYCpqWmlaySqy3iZgqh6q4pzVJvPfq2/8M3e3h4TJ05EfHw8du/ejYCAAJw+fRoKhQLh4eGYMWMGDh8+jKdPn2rbtUbHdnR0REJCgsr6+Ph4dOnShXeuEBERVWOVmpjRrl07tGvXDp9//jlOnjyJmJgYxMfHY9euXTAxMcH58+e16q+wsBBJSUkAgMzMTOTl5SkDRufOnWFtbY1JkyZh2rRpcHBwgJeXF+Lj43Hx4kVs3ry5Mi+FiIiIqphOZoMaGBiga9eu6Nq1K8LDw5VPJdXWo0eP8PHHH6usK1veuHEjvLy8EBgYiMLCQkRFRWH16tVwcnJCREREld6qS0RERJWn81tQjI2N4e/vD39/f633tbOzw7Vr117aLjg4GMHBwWLKIyIiIj3Rek4HERERkRgMHURERCQJhg4iIiKSBEMHERERSYKhg4iIiCTB0EFERESSYOggIiIiSTB0EBERkSQYOoiIiEgSDB1EREQkCYYOIiIikgRDBxEREUmCoYOIiIgkwdBBREREkmDoICIiIkkwdBAREZEkGDqIiIhIEgwdREREJAmGDiIiIpIEQwcRERFJgqGDiIiIJMHQQURERJJg6CAiIiJJMHQQERGRJGpc6Pjxxx/h6uqq9mfRokX6Lo2IiIheoJ6+CxBrzZo1MDc3Vy7b2trqsRoiIiJ6mRobOtq2bQtra2t9l0FEREQaqnGXV4iIiKhmqrGhIzAwEK1bt0bv3r2xatUqlJSU6LskIiIieoEad3nFxsYGkyZNQvv27SEIAg4dOoQlS5YgKysLM2fOFN2vQqFAQUGBDit9RhAEmJiY6LxfouqosLAQCoVC32Voheco1SVVcY4qFAoIgqBR2xoXOrp3747u3bsrl9944w0YGxtjw4YNmDBhAl555RVR/crlciQnJ+uqTCUTExO0adNG5/0SVUdpaWkoLCzUdxla4TlKdUlVnaNGRkYatatxoaM8fn5+WLt2LZKTk0WHDplMBhcXFx1XBo3TH1Ft4OTkVCNHOojqiqo4R1NSUjRuWytChy4IggBTU1N9l0FUo/EyBVH1VhXnqDbBvcZOJH1efHw8DA0NOURKRERUjdW4kY4PPvgAXl5ecHV1BQAkJiZi586dGD16NGxsbPRcHREREVWkxoUOJycn7NmzB/fu3UNpaSkcHR3x5ZdfYtSoUfoujYiIiF6gxoWOr776St8lEBERkQi1Yk4HERERVX8MHURERCQJhg4iIiKSBEMHERERSYKhg4iIiCTB0EFERESSYOggIiIiSTB0EBERkSQYOoiIiEgSDB1EREQkCYYOIiIikgRDBxEREUmCoYOIiIgkwdBBREREkmDoICIiIkkwdBAREZEkGDqIiIhIEgwdREREJAmGDiIiIpIEQwcRERFJgqGDiIiIJMHQQURERJJg6CAiIiJJ1MjQcfPmTbz33nvw8PBAt27dsGDBAhQVFem7LCIiInqBevouQFvZ2dkYM2YMHB0dsXz5cmRlZWH+/Pl48uQJZs6cqe/yiIiIqAI1LnRs374d+fn5iIiIgJWVFQCgpKQE4eHhGD9+PGxtbfVbIBEREZWrxl1eOXLkCLp06aIMHADg5+eH0tJSHD9+XH+FERER0QvVuNCRmpoKZ2dnlXUWFhawsbFBamqqnqoiIiKil6lxl1dycnJgYWGhtt7S0hLZ2dmi+pTL5VAoFLh48WJlyyuXIAgI8DRAibtZlfRPpG+Ghgb4448/oFAo9F2KKIIgoMS1LxSvFeu7FKIqUWBQDzlVdI7K5XIIgqBR2xoXOqpC2Zul6ZsmhkUDWZX1TVRdVOU5VNUMTc31XQJRlauKc1QQhNobOiwsLJCbm6u2Pjs7G5aWlqL69PT0rGxZRERE9BI1bk6Hs7Oz2tyN3NxcPHjwQG2uBxEREVUfNS509OjRAydOnEBOTo5yXUJCAgwMDNCtWzc9VkZEREQvIihq2Myv7OxsBAQEwMnJCePHj1c+HKx///58OBgREVE1VuNCB/DsMejffPMNzp8/jwYNGiAoKAhTpkyBkZGRvksjIiKiCtTI0EFEREQ1T42b00FEREQ1E0MHERERSYKhg4iIiCTB0EFERESSYOggIiIiSTB0EBERkSQYOoiIiEgSDB1Uq9y8eRPvvfcePDw80K1bNyxYsABFRUX6LouIAKSnp2PmzJkICgpCmzZtEBgYqO+SSGI17ltmiSqSnZ2NMWPGwNHREcuXL1c+Iv/Jkyd8RD5RNXDjxg0kJSWhffv2KC0tBZ9NWfcwdFCtsX37duTn5yMiIgJWVlYAgJKSEoSHh2P8+PGwtbXVb4FEdZyPjw98fX0BAGFhYbh06ZKeKyKp8fIK1RpHjhxBly5dlIEDAPz8/FBaWorjx4/rrzAiAgAYGPAjp67jvwCqNVJTU+Hs7KyyzsLCAjY2NkhNTdVTVUREVIahg2qNnJwcWFhYqK23tLREdna2HioiIqLnMXQQERGRJBg6qNawsLBAbm6u2vrs7GxYWlrqoSIiInoeQwfVGs7OzmpzN3Jzc/HgwQO1uR5ERCQ9hg6qNXr06IETJ04gJydHuS4hIQEGBgbo1q2bHisjIiKAz+mgWmTYsGHYtGkTQkJCMH78eGRlZWHBggUYNmwYn9FBVA0UFhYiKSkJAJCZmYm8vDwkJCQAADp37gxra2t9lkcSEBR8JBzVIjdv3sQ333yD8+fPo0GDBggKCsKUKVNgZGSk79KI6rw7d+6gd+/e5W7buHEjvLy8JK6IpMbQQURERJLgnA4iIiKSBEMHERERSYKhg4iIiCTB0EFERESSYOggIiIiSTB0EBERkSQYOoiIiEgSDB1EpDOurq6YPXu2vsvQubCwMPj4+Oi7DKIaj49BJyKN3L59G2vWrMHx48dx//59yGQytGzZEn5+fhg6dCjq16+v7xKJqJpj6CCil/r111/x8ccfw8jICEFBQWjZsiXkcjnOnTuHhQsXIiUlBd98842+yySiao6hg4heKCMjA1OmTEGzZs2wYcMGvPLKK8ptI0eORHp6On799VfJ6iktLYVcLoexsbFkxyQi3eCcDiJ6oTVr1qCgoABz585VCRxlXn31VYwZM0Zl3S+//ILAwEC0a9cOAQEBOHLkiMr2iuZILF++HK6urirryuaJxMTEICAgAG5ubjh69Ch+/PFHuLq64ty5c5g3bx68vb3h4eGBkJAQ/PXXX2p9JyUlYcSIEfDw8ICnpyfGjRuHGzduqLUrq93NzQ2BgYE4ePCgRu8TEb0cQwcRvdDhw4dhb2+PDh06aNT+3LlzmDVrFvz9/TF9+nQ8ffoUkydPxt9//y26hpMnT2LevHnw8/PDl19+iebNmyu3zZkzB1evXkVoaCiGDx+Ow4cPq01m3bt3L8aPHw9TU1NMmzYNEydOREpKCkaMGIE7d+4o2x07dgyTJk2CIAiYOnUqevfujS+++AKXLl0SXTsR/T9eXiGiCuXl5SErK6vCryMvz82bNxEfHw8HBwcAgJeXF4KCghAXF4d33nlHVB1paWmIjY2Fi4uLcl1ycjIAwMrKCmvXroUgCACeXX7ZtGkTcnNzYW5ujvz8fMydOxfBwcEq807efvtt9OvXD6tWrVKuX7RoERo1aoStW7fC3NwcANC5c2e8//77KkGHiMThSAcRVSgvLw8A0KBBA4336dq1qzJwAECrVq1gZmaGjIwM0XV06tRJJXA8b8iQIcrAAQAdO3ZESUkJMjMzAQAnTpxATk4OAgIC8Ndffyn/GBgYoH379jh16hQA4P79+0hOTsbbb7+tDBwA0K1btwqPTUTa4UgHEVXIzMwMAJCfn6/xPk2bNlVbZ2lpiZycHNF12NnZVbitWbNmKssWFhYAoDzerVu3AEBt3kmZstd49+5dAM/mqPyTk5MTrly5ol3RRKSGoYOIKmRmZoZXXnml3AmXFTE0NCx3vUKhUP79+ZGJ55WUlJS7/kXPADEwKH/Atux4Zf9dsGABbGxsNK6XiHSPoYOIXujNN9/Ejh07cP78eXh6euqkTwsLi3JHPspGG3TJ3t4eANCoUSN07dq1wnZlIybp6elq29LS0nReF1FdxDkdRPRCH374IUxNTfHVV1/h4cOHattv376NDRs2aNWng4MDcnNzcfXqVeW6+/fvV8ntqd27d4eZmRlWrVoFuVyutr3s9tpXXnkFrVu3xk8//YTc3Fzl9uPHjyMlJUXndRHVRRzpIKIXcnBwwKJFizBlyhT4+/srn0haVFSE8+fPIyEhAYMGDdKqT39/fyxatAihoaEYNWoUnjx5gm3btsHJyQmXL1/Waf1mZmaYNWsWPvvsMwwaNAj+/v6wtrbG3bt3kZSUhA4dOmDmzJkAgE8//RTjx4/HiBEjMHjwYDx+/BibN2/Ga6+9hoKCAp3WRVQXMXQQ0Uv17t0bMTExiI6ORmJiIrZt2wYjIyO4uroiLCwMQ4YM0aq/hg0bIiIiAvPnz8fChQthZ2eHTz/9FOnp6ToPHQDQv39/vPLKK1i9ejWio6NRVFQEW1tbdOzYUSUw9ejRA0uXLsWSJUvw/fffw8HBAfPmzUNiYiJOnz6t87qI6hpB8fzsLiIiIqIqwjkdREREJAmGDiIiIpIEQwcRERFJgqGDiIiIJMHQQURERJJg6CAiIiJJMHQQERGRJBg6iIiISBIMHURERCQJhg4iIiKSBEMHERERSYKhg4iIiCTB0EFERESS+D9md4sDn5DZDwAAAABJRU5ErkJggg==\n"
          },
          "metadata": {}
        }
      ]
    },
    {
      "cell_type": "code",
=======
        "id": "1Qj7Y3zWH0vP",
        "outputId": "87342cf3-807b-4b6f-b2a5-c3a560b763a0"
      },
      "outputs": [
        {
          "data": {
            "image/png": "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",
            "text/plain": [
              "<Figure size 600x400 with 1 Axes>"
            ]
          },
          "metadata": {},
          "output_type": "display_data"
        }
      ],
>>>>>>> e3dfe9a (Initial push: Add churn_predictor.ipynb)
      "source": [
        "# B – Average Usage Drop vs Churn\n",
        "plt.figure(figsize=(6, 4))\n",
        "sns.barplot(x=\"Churned\", y=\"UsageDropPct\", data=df, hue=\"Churned\", palette=\"coolwarm\", legend=False)\n",
        "plt.title(\"Average Usage Drop by Churn\")\n",
        "plt.xlabel(\"Churned\")\n",
        "plt.ylabel(\"Usage Drop (%)\")\n",
        "plt.show()\n",
        "\n"
<<<<<<< HEAD
      ],
=======
      ]
    },
    {
      "cell_type": "code",
      "execution_count": 13,
>>>>>>> e3dfe9a (Initial push: Add churn_predictor.ipynb)
      "metadata": {
        "colab": {
          "base_uri": "https://localhost:8080/",
          "height": 419
        },
<<<<<<< HEAD
        "id": "1Qj7Y3zWH0vP",
        "outputId": "87342cf3-807b-4b6f-b2a5-c3a560b763a0"
      },
      "execution_count": 74,
      "outputs": [
        {
          "output_type": "display_data",
          "data": {
            "text/plain": [
              "<Figure size 600x400 with 1 Axes>"
            ],
            "image/png": "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\n"
          },
          "metadata": {}
        }
      ]
    },
    {
      "cell_type": "code",
=======
        "id": "YY22UM7lH8dT",
        "outputId": "882df181-0728-4076-8179-f9399b2c77f8"
      },
      "outputs": [
        {
          "data": {
            "image/png": "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",
            "text/plain": [
              "<Figure size 600x400 with 1 Axes>"
            ]
          },
          "metadata": {},
          "output_type": "display_data"
        }
      ],
>>>>>>> e3dfe9a (Initial push: Add churn_predictor.ipynb)
      "source": [
        "# C – Avg Last Login (in days) by Churn\n",
        "plt.figure(figsize=(6, 4))\n",
        "sns.barplot(x=\"Churned\", y=\"LastLoginDaysAgo\", data=df, hue=\"Churned\", palette=\"rocket\", legend=False)\n",
        "plt.title(\"Avg Last Login Days Ago by Churn\")\n",
        "plt.xlabel(\"Churned\")\n",
        "plt.ylabel(\"Days Since Last Login\")\n",
        "plt.show()\n",
        "\n"
<<<<<<< HEAD
      ],
      "metadata": {
        "colab": {
          "base_uri": "https://localhost:8080/",
          "height": 419
        },
        "id": "YY22UM7lH8dT",
        "outputId": "882df181-0728-4076-8179-f9399b2c77f8"
      },
      "execution_count": 75,
      "outputs": [
        {
          "output_type": "display_data",
          "data": {
            "text/plain": [
              "<Figure size 600x400 with 1 Axes>"
            ],
            "image/png": "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\n"
          },
          "metadata": {}
        }
=======
>>>>>>> e3dfe9a (Initial push: Add churn_predictor.ipynb)
      ]
    },
    {
      "cell_type": "code",
<<<<<<< HEAD
=======
      "execution_count": 14,
      "metadata": {
        "id": "qgj_YZXOKIro"
      },
      "outputs": [],
>>>>>>> e3dfe9a (Initial push: Add churn_predictor.ipynb)
      "source": [
        "# Select Features + Split Data\n",
        "# X is your input data (features), y is your target (churn yes/no).\n",
        "features = [\"TenureMonths\", \"LastLoginDaysAgo\", \"SupportTickets\", \"AvgUsage\", \"UsageDropPct\", \"ContractEndsIn\"]\n",
        "X = df[features]\n",
        "y = df[\"Churned\"]\n"
<<<<<<< HEAD
      ],
      "metadata": {
        "id": "qgj_YZXOKIro"
      },
      "execution_count": 76,
      "outputs": []
    },
    {
      "cell_type": "code",
=======
      ]
    },
    {
      "cell_type": "code",
      "execution_count": 15,
      "metadata": {
        "id": "3lsbpNoDKS4J"
      },
      "outputs": [],
>>>>>>> e3dfe9a (Initial push: Add churn_predictor.ipynb)
      "source": [
        "# Split Data into Train & Test Sets\n",
        "# This ensures we train the model on one part and test it on new data.\n",
        "from sklearn.model_selection import train_test_split\n",
        "\n",
        "# 80% training, 20% testing\n",
        "X_train, X_test, y_train, y_test = train_test_split(X, y, test_size=0.2, random_state=42)\n"
<<<<<<< HEAD
      ],
      "metadata": {
        "id": "3lsbpNoDKS4J"
      },
      "execution_count": 77,
      "outputs": []
    },
    {
      "cell_type": "code",
      "source": [
        "# Train a Logistic Regression Model\n",
        "# Logistic Regression is simple, easy to interpret, and works well for binary outcomes like churn.\n",
        "from sklearn.linear_model import LogisticRegression\n",
        "\n",
        "# Create and train the model\n",
        "model = LogisticRegression()\n",
        "model.fit(X_train, y_train)\n"
      ],
=======
      ]
    },
    {
      "cell_type": "code",
      "execution_count": 16,
>>>>>>> e3dfe9a (Initial push: Add churn_predictor.ipynb)
      "metadata": {
        "colab": {
          "base_uri": "https://localhost:8080/",
          "height": 80
        },
        "id": "8vMQze5tKes2",
        "outputId": "8934b494-5fde-4079-cbc4-9248e9576320"
      },
<<<<<<< HEAD
      "execution_count": 78,
      "outputs": [
        {
          "output_type": "execute_result",
          "data": {
            "text/plain": [
              "LogisticRegression()"
            ],
            "text/html": [
              "<style>#sk-container-id-4 {\n",
=======
      "outputs": [
        {
          "data": {
            "text/html": [
              "<style>#sk-container-id-1 {\n",
>>>>>>> e3dfe9a (Initial push: Add churn_predictor.ipynb)
              "  /* Definition of color scheme common for light and dark mode */\n",
              "  --sklearn-color-text: #000;\n",
              "  --sklearn-color-text-muted: #666;\n",
              "  --sklearn-color-line: gray;\n",
              "  /* Definition of color scheme for unfitted estimators */\n",
              "  --sklearn-color-unfitted-level-0: #fff5e6;\n",
              "  --sklearn-color-unfitted-level-1: #f6e4d2;\n",
              "  --sklearn-color-unfitted-level-2: #ffe0b3;\n",
              "  --sklearn-color-unfitted-level-3: chocolate;\n",
              "  /* Definition of color scheme for fitted estimators */\n",
              "  --sklearn-color-fitted-level-0: #f0f8ff;\n",
              "  --sklearn-color-fitted-level-1: #d4ebff;\n",
              "  --sklearn-color-fitted-level-2: #b3dbfd;\n",
              "  --sklearn-color-fitted-level-3: cornflowerblue;\n",
              "\n",
              "  /* Specific color for light theme */\n",
              "  --sklearn-color-text-on-default-background: var(--sg-text-color, var(--theme-code-foreground, var(--jp-content-font-color1, black)));\n",
              "  --sklearn-color-background: var(--sg-background-color, var(--theme-background, var(--jp-layout-color0, white)));\n",
              "  --sklearn-color-border-box: var(--sg-text-color, var(--theme-code-foreground, var(--jp-content-font-color1, black)));\n",
              "  --sklearn-color-icon: #696969;\n",
              "\n",
              "  @media (prefers-color-scheme: dark) {\n",
              "    /* Redefinition of color scheme for dark theme */\n",
              "    --sklearn-color-text-on-default-background: var(--sg-text-color, var(--theme-code-foreground, var(--jp-content-font-color1, white)));\n",
              "    --sklearn-color-background: var(--sg-background-color, var(--theme-background, var(--jp-layout-color0, #111)));\n",
              "    --sklearn-color-border-box: var(--sg-text-color, var(--theme-code-foreground, var(--jp-content-font-color1, white)));\n",
              "    --sklearn-color-icon: #878787;\n",
              "  }\n",
              "}\n",
              "\n",
<<<<<<< HEAD
              "#sk-container-id-4 {\n",
              "  color: var(--sklearn-color-text);\n",
              "}\n",
              "\n",
              "#sk-container-id-4 pre {\n",
              "  padding: 0;\n",
              "}\n",
              "\n",
              "#sk-container-id-4 input.sk-hidden--visually {\n",
=======
              "#sk-container-id-1 {\n",
              "  color: var(--sklearn-color-text);\n",
              "}\n",
              "\n",
              "#sk-container-id-1 pre {\n",
              "  padding: 0;\n",
              "}\n",
              "\n",
              "#sk-container-id-1 input.sk-hidden--visually {\n",
>>>>>>> e3dfe9a (Initial push: Add churn_predictor.ipynb)
              "  border: 0;\n",
              "  clip: rect(1px 1px 1px 1px);\n",
              "  clip: rect(1px, 1px, 1px, 1px);\n",
              "  height: 1px;\n",
              "  margin: -1px;\n",
              "  overflow: hidden;\n",
              "  padding: 0;\n",
              "  position: absolute;\n",
              "  width: 1px;\n",
              "}\n",
              "\n",
<<<<<<< HEAD
              "#sk-container-id-4 div.sk-dashed-wrapped {\n",
=======
              "#sk-container-id-1 div.sk-dashed-wrapped {\n",
>>>>>>> e3dfe9a (Initial push: Add churn_predictor.ipynb)
              "  border: 1px dashed var(--sklearn-color-line);\n",
              "  margin: 0 0.4em 0.5em 0.4em;\n",
              "  box-sizing: border-box;\n",
              "  padding-bottom: 0.4em;\n",
              "  background-color: var(--sklearn-color-background);\n",
              "}\n",
              "\n",
<<<<<<< HEAD
              "#sk-container-id-4 div.sk-container {\n",
=======
              "#sk-container-id-1 div.sk-container {\n",
>>>>>>> e3dfe9a (Initial push: Add churn_predictor.ipynb)
              "  /* jupyter's `normalize.less` sets `[hidden] { display: none; }`\n",
              "     but bootstrap.min.css set `[hidden] { display: none !important; }`\n",
              "     so we also need the `!important` here to be able to override the\n",
              "     default hidden behavior on the sphinx rendered scikit-learn.org.\n",
              "     See: https://github.com/scikit-learn/scikit-learn/issues/21755 */\n",
              "  display: inline-block !important;\n",
              "  position: relative;\n",
              "}\n",
              "\n",
<<<<<<< HEAD
              "#sk-container-id-4 div.sk-text-repr-fallback {\n",
=======
              "#sk-container-id-1 div.sk-text-repr-fallback {\n",
>>>>>>> e3dfe9a (Initial push: Add churn_predictor.ipynb)
              "  display: none;\n",
              "}\n",
              "\n",
              "div.sk-parallel-item,\n",
              "div.sk-serial,\n",
              "div.sk-item {\n",
              "  /* draw centered vertical line to link estimators */\n",
              "  background-image: linear-gradient(var(--sklearn-color-text-on-default-background), var(--sklearn-color-text-on-default-background));\n",
              "  background-size: 2px 100%;\n",
              "  background-repeat: no-repeat;\n",
              "  background-position: center center;\n",
              "}\n",
              "\n",
              "/* Parallel-specific style estimator block */\n",
              "\n",
<<<<<<< HEAD
              "#sk-container-id-4 div.sk-parallel-item::after {\n",
=======
              "#sk-container-id-1 div.sk-parallel-item::after {\n",
>>>>>>> e3dfe9a (Initial push: Add churn_predictor.ipynb)
              "  content: \"\";\n",
              "  width: 100%;\n",
              "  border-bottom: 2px solid var(--sklearn-color-text-on-default-background);\n",
              "  flex-grow: 1;\n",
              "}\n",
              "\n",
<<<<<<< HEAD
              "#sk-container-id-4 div.sk-parallel {\n",
=======
              "#sk-container-id-1 div.sk-parallel {\n",
>>>>>>> e3dfe9a (Initial push: Add churn_predictor.ipynb)
              "  display: flex;\n",
              "  align-items: stretch;\n",
              "  justify-content: center;\n",
              "  background-color: var(--sklearn-color-background);\n",
              "  position: relative;\n",
              "}\n",
              "\n",
<<<<<<< HEAD
              "#sk-container-id-4 div.sk-parallel-item {\n",
=======
              "#sk-container-id-1 div.sk-parallel-item {\n",
>>>>>>> e3dfe9a (Initial push: Add churn_predictor.ipynb)
              "  display: flex;\n",
              "  flex-direction: column;\n",
              "}\n",
              "\n",
<<<<<<< HEAD
              "#sk-container-id-4 div.sk-parallel-item:first-child::after {\n",
=======
              "#sk-container-id-1 div.sk-parallel-item:first-child::after {\n",
>>>>>>> e3dfe9a (Initial push: Add churn_predictor.ipynb)
              "  align-self: flex-end;\n",
              "  width: 50%;\n",
              "}\n",
              "\n",
<<<<<<< HEAD
              "#sk-container-id-4 div.sk-parallel-item:last-child::after {\n",
=======
              "#sk-container-id-1 div.sk-parallel-item:last-child::after {\n",
>>>>>>> e3dfe9a (Initial push: Add churn_predictor.ipynb)
              "  align-self: flex-start;\n",
              "  width: 50%;\n",
              "}\n",
              "\n",
<<<<<<< HEAD
              "#sk-container-id-4 div.sk-parallel-item:only-child::after {\n",
=======
              "#sk-container-id-1 div.sk-parallel-item:only-child::after {\n",
>>>>>>> e3dfe9a (Initial push: Add churn_predictor.ipynb)
              "  width: 0;\n",
              "}\n",
              "\n",
              "/* Serial-specific style estimator block */\n",
              "\n",
<<<<<<< HEAD
              "#sk-container-id-4 div.sk-serial {\n",
=======
              "#sk-container-id-1 div.sk-serial {\n",
>>>>>>> e3dfe9a (Initial push: Add churn_predictor.ipynb)
              "  display: flex;\n",
              "  flex-direction: column;\n",
              "  align-items: center;\n",
              "  background-color: var(--sklearn-color-background);\n",
              "  padding-right: 1em;\n",
              "  padding-left: 1em;\n",
              "}\n",
              "\n",
              "\n",
              "/* Toggleable style: style used for estimator/Pipeline/ColumnTransformer box that is\n",
              "clickable and can be expanded/collapsed.\n",
              "- Pipeline and ColumnTransformer use this feature and define the default style\n",
              "- Estimators will overwrite some part of the style using the `sk-estimator` class\n",
              "*/\n",
              "\n",
              "/* Pipeline and ColumnTransformer style (default) */\n",
              "\n",
<<<<<<< HEAD
              "#sk-container-id-4 div.sk-toggleable {\n",
=======
              "#sk-container-id-1 div.sk-toggleable {\n",
>>>>>>> e3dfe9a (Initial push: Add churn_predictor.ipynb)
              "  /* Default theme specific background. It is overwritten whether we have a\n",
              "  specific estimator or a Pipeline/ColumnTransformer */\n",
              "  background-color: var(--sklearn-color-background);\n",
              "}\n",
              "\n",
              "/* Toggleable label */\n",
<<<<<<< HEAD
              "#sk-container-id-4 label.sk-toggleable__label {\n",
=======
              "#sk-container-id-1 label.sk-toggleable__label {\n",
>>>>>>> e3dfe9a (Initial push: Add churn_predictor.ipynb)
              "  cursor: pointer;\n",
              "  display: flex;\n",
              "  width: 100%;\n",
              "  margin-bottom: 0;\n",
              "  padding: 0.5em;\n",
              "  box-sizing: border-box;\n",
              "  text-align: center;\n",
              "  align-items: start;\n",
              "  justify-content: space-between;\n",
              "  gap: 0.5em;\n",
              "}\n",
              "\n",
<<<<<<< HEAD
              "#sk-container-id-4 label.sk-toggleable__label .caption {\n",
=======
              "#sk-container-id-1 label.sk-toggleable__label .caption {\n",
>>>>>>> e3dfe9a (Initial push: Add churn_predictor.ipynb)
              "  font-size: 0.6rem;\n",
              "  font-weight: lighter;\n",
              "  color: var(--sklearn-color-text-muted);\n",
              "}\n",
              "\n",
<<<<<<< HEAD
              "#sk-container-id-4 label.sk-toggleable__label-arrow:before {\n",
=======
              "#sk-container-id-1 label.sk-toggleable__label-arrow:before {\n",
>>>>>>> e3dfe9a (Initial push: Add churn_predictor.ipynb)
              "  /* Arrow on the left of the label */\n",
              "  content: \"▸\";\n",
              "  float: left;\n",
              "  margin-right: 0.25em;\n",
              "  color: var(--sklearn-color-icon);\n",
              "}\n",
              "\n",
<<<<<<< HEAD
              "#sk-container-id-4 label.sk-toggleable__label-arrow:hover:before {\n",
=======
              "#sk-container-id-1 label.sk-toggleable__label-arrow:hover:before {\n",
>>>>>>> e3dfe9a (Initial push: Add churn_predictor.ipynb)
              "  color: var(--sklearn-color-text);\n",
              "}\n",
              "\n",
              "/* Toggleable content - dropdown */\n",
              "\n",
<<<<<<< HEAD
              "#sk-container-id-4 div.sk-toggleable__content {\n",
=======
              "#sk-container-id-1 div.sk-toggleable__content {\n",
>>>>>>> e3dfe9a (Initial push: Add churn_predictor.ipynb)
              "  max-height: 0;\n",
              "  max-width: 0;\n",
              "  overflow: hidden;\n",
              "  text-align: left;\n",
              "  /* unfitted */\n",
              "  background-color: var(--sklearn-color-unfitted-level-0);\n",
              "}\n",
              "\n",
<<<<<<< HEAD
              "#sk-container-id-4 div.sk-toggleable__content.fitted {\n",
=======
              "#sk-container-id-1 div.sk-toggleable__content.fitted {\n",
>>>>>>> e3dfe9a (Initial push: Add churn_predictor.ipynb)
              "  /* fitted */\n",
              "  background-color: var(--sklearn-color-fitted-level-0);\n",
              "}\n",
              "\n",
<<<<<<< HEAD
              "#sk-container-id-4 div.sk-toggleable__content pre {\n",
=======
              "#sk-container-id-1 div.sk-toggleable__content pre {\n",
>>>>>>> e3dfe9a (Initial push: Add churn_predictor.ipynb)
              "  margin: 0.2em;\n",
              "  border-radius: 0.25em;\n",
              "  color: var(--sklearn-color-text);\n",
              "  /* unfitted */\n",
              "  background-color: var(--sklearn-color-unfitted-level-0);\n",
              "}\n",
              "\n",
<<<<<<< HEAD
              "#sk-container-id-4 div.sk-toggleable__content.fitted pre {\n",
=======
              "#sk-container-id-1 div.sk-toggleable__content.fitted pre {\n",
>>>>>>> e3dfe9a (Initial push: Add churn_predictor.ipynb)
              "  /* unfitted */\n",
              "  background-color: var(--sklearn-color-fitted-level-0);\n",
              "}\n",
              "\n",
<<<<<<< HEAD
              "#sk-container-id-4 input.sk-toggleable__control:checked~div.sk-toggleable__content {\n",
=======
              "#sk-container-id-1 input.sk-toggleable__control:checked~div.sk-toggleable__content {\n",
>>>>>>> e3dfe9a (Initial push: Add churn_predictor.ipynb)
              "  /* Expand drop-down */\n",
              "  max-height: 200px;\n",
              "  max-width: 100%;\n",
              "  overflow: auto;\n",
              "}\n",
              "\n",
<<<<<<< HEAD
              "#sk-container-id-4 input.sk-toggleable__control:checked~label.sk-toggleable__label-arrow:before {\n",
=======
              "#sk-container-id-1 input.sk-toggleable__control:checked~label.sk-toggleable__label-arrow:before {\n",
>>>>>>> e3dfe9a (Initial push: Add churn_predictor.ipynb)
              "  content: \"▾\";\n",
              "}\n",
              "\n",
              "/* Pipeline/ColumnTransformer-specific style */\n",
              "\n",
<<<<<<< HEAD
              "#sk-container-id-4 div.sk-label input.sk-toggleable__control:checked~label.sk-toggleable__label {\n",
=======
              "#sk-container-id-1 div.sk-label input.sk-toggleable__control:checked~label.sk-toggleable__label {\n",
>>>>>>> e3dfe9a (Initial push: Add churn_predictor.ipynb)
              "  color: var(--sklearn-color-text);\n",
              "  background-color: var(--sklearn-color-unfitted-level-2);\n",
              "}\n",
              "\n",
<<<<<<< HEAD
              "#sk-container-id-4 div.sk-label.fitted input.sk-toggleable__control:checked~label.sk-toggleable__label {\n",
=======
              "#sk-container-id-1 div.sk-label.fitted input.sk-toggleable__control:checked~label.sk-toggleable__label {\n",
>>>>>>> e3dfe9a (Initial push: Add churn_predictor.ipynb)
              "  background-color: var(--sklearn-color-fitted-level-2);\n",
              "}\n",
              "\n",
              "/* Estimator-specific style */\n",
              "\n",
              "/* Colorize estimator box */\n",
<<<<<<< HEAD
              "#sk-container-id-4 div.sk-estimator input.sk-toggleable__control:checked~label.sk-toggleable__label {\n",
=======
              "#sk-container-id-1 div.sk-estimator input.sk-toggleable__control:checked~label.sk-toggleable__label {\n",
>>>>>>> e3dfe9a (Initial push: Add churn_predictor.ipynb)
              "  /* unfitted */\n",
              "  background-color: var(--sklearn-color-unfitted-level-2);\n",
              "}\n",
              "\n",
<<<<<<< HEAD
              "#sk-container-id-4 div.sk-estimator.fitted input.sk-toggleable__control:checked~label.sk-toggleable__label {\n",
=======
              "#sk-container-id-1 div.sk-estimator.fitted input.sk-toggleable__control:checked~label.sk-toggleable__label {\n",
>>>>>>> e3dfe9a (Initial push: Add churn_predictor.ipynb)
              "  /* fitted */\n",
              "  background-color: var(--sklearn-color-fitted-level-2);\n",
              "}\n",
              "\n",
<<<<<<< HEAD
              "#sk-container-id-4 div.sk-label label.sk-toggleable__label,\n",
              "#sk-container-id-4 div.sk-label label {\n",
=======
              "#sk-container-id-1 div.sk-label label.sk-toggleable__label,\n",
              "#sk-container-id-1 div.sk-label label {\n",
>>>>>>> e3dfe9a (Initial push: Add churn_predictor.ipynb)
              "  /* The background is the default theme color */\n",
              "  color: var(--sklearn-color-text-on-default-background);\n",
              "}\n",
              "\n",
              "/* On hover, darken the color of the background */\n",
<<<<<<< HEAD
              "#sk-container-id-4 div.sk-label:hover label.sk-toggleable__label {\n",
=======
              "#sk-container-id-1 div.sk-label:hover label.sk-toggleable__label {\n",
>>>>>>> e3dfe9a (Initial push: Add churn_predictor.ipynb)
              "  color: var(--sklearn-color-text);\n",
              "  background-color: var(--sklearn-color-unfitted-level-2);\n",
              "}\n",
              "\n",
              "/* Label box, darken color on hover, fitted */\n",
<<<<<<< HEAD
              "#sk-container-id-4 div.sk-label.fitted:hover label.sk-toggleable__label.fitted {\n",
=======
              "#sk-container-id-1 div.sk-label.fitted:hover label.sk-toggleable__label.fitted {\n",
>>>>>>> e3dfe9a (Initial push: Add churn_predictor.ipynb)
              "  color: var(--sklearn-color-text);\n",
              "  background-color: var(--sklearn-color-fitted-level-2);\n",
              "}\n",
              "\n",
              "/* Estimator label */\n",
              "\n",
<<<<<<< HEAD
              "#sk-container-id-4 div.sk-label label {\n",
=======
              "#sk-container-id-1 div.sk-label label {\n",
>>>>>>> e3dfe9a (Initial push: Add churn_predictor.ipynb)
              "  font-family: monospace;\n",
              "  font-weight: bold;\n",
              "  display: inline-block;\n",
              "  line-height: 1.2em;\n",
              "}\n",
              "\n",
<<<<<<< HEAD
              "#sk-container-id-4 div.sk-label-container {\n",
=======
              "#sk-container-id-1 div.sk-label-container {\n",
>>>>>>> e3dfe9a (Initial push: Add churn_predictor.ipynb)
              "  text-align: center;\n",
              "}\n",
              "\n",
              "/* Estimator-specific */\n",
<<<<<<< HEAD
              "#sk-container-id-4 div.sk-estimator {\n",
=======
              "#sk-container-id-1 div.sk-estimator {\n",
>>>>>>> e3dfe9a (Initial push: Add churn_predictor.ipynb)
              "  font-family: monospace;\n",
              "  border: 1px dotted var(--sklearn-color-border-box);\n",
              "  border-radius: 0.25em;\n",
              "  box-sizing: border-box;\n",
              "  margin-bottom: 0.5em;\n",
              "  /* unfitted */\n",
              "  background-color: var(--sklearn-color-unfitted-level-0);\n",
              "}\n",
              "\n",
<<<<<<< HEAD
              "#sk-container-id-4 div.sk-estimator.fitted {\n",
=======
              "#sk-container-id-1 div.sk-estimator.fitted {\n",
>>>>>>> e3dfe9a (Initial push: Add churn_predictor.ipynb)
              "  /* fitted */\n",
              "  background-color: var(--sklearn-color-fitted-level-0);\n",
              "}\n",
              "\n",
              "/* on hover */\n",
<<<<<<< HEAD
              "#sk-container-id-4 div.sk-estimator:hover {\n",
=======
              "#sk-container-id-1 div.sk-estimator:hover {\n",
>>>>>>> e3dfe9a (Initial push: Add churn_predictor.ipynb)
              "  /* unfitted */\n",
              "  background-color: var(--sklearn-color-unfitted-level-2);\n",
              "}\n",
              "\n",
<<<<<<< HEAD
              "#sk-container-id-4 div.sk-estimator.fitted:hover {\n",
=======
              "#sk-container-id-1 div.sk-estimator.fitted:hover {\n",
>>>>>>> e3dfe9a (Initial push: Add churn_predictor.ipynb)
              "  /* fitted */\n",
              "  background-color: var(--sklearn-color-fitted-level-2);\n",
              "}\n",
              "\n",
              "/* Specification for estimator info (e.g. \"i\" and \"?\") */\n",
              "\n",
              "/* Common style for \"i\" and \"?\" */\n",
              "\n",
              ".sk-estimator-doc-link,\n",
              "a:link.sk-estimator-doc-link,\n",
              "a:visited.sk-estimator-doc-link {\n",
              "  float: right;\n",
              "  font-size: smaller;\n",
              "  line-height: 1em;\n",
              "  font-family: monospace;\n",
              "  background-color: var(--sklearn-color-background);\n",
              "  border-radius: 1em;\n",
              "  height: 1em;\n",
              "  width: 1em;\n",
              "  text-decoration: none !important;\n",
              "  margin-left: 0.5em;\n",
              "  text-align: center;\n",
              "  /* unfitted */\n",
              "  border: var(--sklearn-color-unfitted-level-1) 1pt solid;\n",
              "  color: var(--sklearn-color-unfitted-level-1);\n",
              "}\n",
              "\n",
              ".sk-estimator-doc-link.fitted,\n",
              "a:link.sk-estimator-doc-link.fitted,\n",
              "a:visited.sk-estimator-doc-link.fitted {\n",
              "  /* fitted */\n",
              "  border: var(--sklearn-color-fitted-level-1) 1pt solid;\n",
              "  color: var(--sklearn-color-fitted-level-1);\n",
              "}\n",
              "\n",
              "/* On hover */\n",
              "div.sk-estimator:hover .sk-estimator-doc-link:hover,\n",
              ".sk-estimator-doc-link:hover,\n",
              "div.sk-label-container:hover .sk-estimator-doc-link:hover,\n",
              ".sk-estimator-doc-link:hover {\n",
              "  /* unfitted */\n",
              "  background-color: var(--sklearn-color-unfitted-level-3);\n",
              "  color: var(--sklearn-color-background);\n",
              "  text-decoration: none;\n",
              "}\n",
              "\n",
              "div.sk-estimator.fitted:hover .sk-estimator-doc-link.fitted:hover,\n",
              ".sk-estimator-doc-link.fitted:hover,\n",
              "div.sk-label-container:hover .sk-estimator-doc-link.fitted:hover,\n",
              ".sk-estimator-doc-link.fitted:hover {\n",
              "  /* fitted */\n",
              "  background-color: var(--sklearn-color-fitted-level-3);\n",
              "  color: var(--sklearn-color-background);\n",
              "  text-decoration: none;\n",
              "}\n",
              "\n",
              "/* Span, style for the box shown on hovering the info icon */\n",
              ".sk-estimator-doc-link span {\n",
              "  display: none;\n",
              "  z-index: 9999;\n",
              "  position: relative;\n",
              "  font-weight: normal;\n",
              "  right: .2ex;\n",
              "  padding: .5ex;\n",
              "  margin: .5ex;\n",
              "  width: min-content;\n",
              "  min-width: 20ex;\n",
              "  max-width: 50ex;\n",
              "  color: var(--sklearn-color-text);\n",
              "  box-shadow: 2pt 2pt 4pt #999;\n",
              "  /* unfitted */\n",
              "  background: var(--sklearn-color-unfitted-level-0);\n",
              "  border: .5pt solid var(--sklearn-color-unfitted-level-3);\n",
              "}\n",
              "\n",
              ".sk-estimator-doc-link.fitted span {\n",
              "  /* fitted */\n",
              "  background: var(--sklearn-color-fitted-level-0);\n",
              "  border: var(--sklearn-color-fitted-level-3);\n",
              "}\n",
              "\n",
              ".sk-estimator-doc-link:hover span {\n",
              "  display: block;\n",
              "}\n",
              "\n",
              "/* \"?\"-specific style due to the `<a>` HTML tag */\n",
              "\n",
<<<<<<< HEAD
              "#sk-container-id-4 a.estimator_doc_link {\n",
=======
              "#sk-container-id-1 a.estimator_doc_link {\n",
>>>>>>> e3dfe9a (Initial push: Add churn_predictor.ipynb)
              "  float: right;\n",
              "  font-size: 1rem;\n",
              "  line-height: 1em;\n",
              "  font-family: monospace;\n",
              "  background-color: var(--sklearn-color-background);\n",
              "  border-radius: 1rem;\n",
              "  height: 1rem;\n",
              "  width: 1rem;\n",
              "  text-decoration: none;\n",
              "  /* unfitted */\n",
              "  color: var(--sklearn-color-unfitted-level-1);\n",
              "  border: var(--sklearn-color-unfitted-level-1) 1pt solid;\n",
              "}\n",
              "\n",
<<<<<<< HEAD
              "#sk-container-id-4 a.estimator_doc_link.fitted {\n",
=======
              "#sk-container-id-1 a.estimator_doc_link.fitted {\n",
>>>>>>> e3dfe9a (Initial push: Add churn_predictor.ipynb)
              "  /* fitted */\n",
              "  border: var(--sklearn-color-fitted-level-1) 1pt solid;\n",
              "  color: var(--sklearn-color-fitted-level-1);\n",
              "}\n",
              "\n",
              "/* On hover */\n",
<<<<<<< HEAD
              "#sk-container-id-4 a.estimator_doc_link:hover {\n",
=======
              "#sk-container-id-1 a.estimator_doc_link:hover {\n",
>>>>>>> e3dfe9a (Initial push: Add churn_predictor.ipynb)
              "  /* unfitted */\n",
              "  background-color: var(--sklearn-color-unfitted-level-3);\n",
              "  color: var(--sklearn-color-background);\n",
              "  text-decoration: none;\n",
              "}\n",
              "\n",
<<<<<<< HEAD
              "#sk-container-id-4 a.estimator_doc_link.fitted:hover {\n",
              "  /* fitted */\n",
              "  background-color: var(--sklearn-color-fitted-level-3);\n",
              "}\n",
              "</style><div id=\"sk-container-id-4\" class=\"sk-top-container\"><div class=\"sk-text-repr-fallback\"><pre>LogisticRegression()</pre><b>In a Jupyter environment, please rerun this cell to show the HTML representation or trust the notebook. <br />On GitHub, the HTML representation is unable to render, please try loading this page with nbviewer.org.</b></div><div class=\"sk-container\" hidden><div class=\"sk-item\"><div class=\"sk-estimator fitted sk-toggleable\"><input class=\"sk-toggleable__control sk-hidden--visually\" id=\"sk-estimator-id-4\" type=\"checkbox\" checked><label for=\"sk-estimator-id-4\" class=\"sk-toggleable__label fitted sk-toggleable__label-arrow\"><div><div>LogisticRegression</div></div><div><a class=\"sk-estimator-doc-link fitted\" rel=\"noreferrer\" target=\"_blank\" href=\"https://scikit-learn.org/1.6/modules/generated/sklearn.linear_model.LogisticRegression.html\">?<span>Documentation for LogisticRegression</span></a><span class=\"sk-estimator-doc-link fitted\">i<span>Fitted</span></span></div></label><div class=\"sk-toggleable__content fitted\"><pre>LogisticRegression()</pre></div> </div></div></div></div>"
            ]
          },
          "metadata": {},
          "execution_count": 78
        }
=======
              "#sk-container-id-1 a.estimator_doc_link.fitted:hover {\n",
              "  /* fitted */\n",
              "  background-color: var(--sklearn-color-fitted-level-3);\n",
              "}\n",
              "</style><div id=\"sk-container-id-1\" class=\"sk-top-container\"><div class=\"sk-text-repr-fallback\"><pre>LogisticRegression()</pre><b>In a Jupyter environment, please rerun this cell to show the HTML representation or trust the notebook. <br />On GitHub, the HTML representation is unable to render, please try loading this page with nbviewer.org.</b></div><div class=\"sk-container\" hidden><div class=\"sk-item\"><div class=\"sk-estimator fitted sk-toggleable\"><input class=\"sk-toggleable__control sk-hidden--visually\" id=\"sk-estimator-id-1\" type=\"checkbox\" checked><label for=\"sk-estimator-id-1\" class=\"sk-toggleable__label fitted sk-toggleable__label-arrow\"><div><div>LogisticRegression</div></div><div><a class=\"sk-estimator-doc-link fitted\" rel=\"noreferrer\" target=\"_blank\" href=\"https://scikit-learn.org/1.6/modules/generated/sklearn.linear_model.LogisticRegression.html\">?<span>Documentation for LogisticRegression</span></a><span class=\"sk-estimator-doc-link fitted\">i<span>Fitted</span></span></div></label><div class=\"sk-toggleable__content fitted\"><pre>LogisticRegression()</pre></div> </div></div></div></div>"
            ],
            "text/plain": [
              "LogisticRegression()"
            ]
          },
          "execution_count": 16,
          "metadata": {},
          "output_type": "execute_result"
        }
      ],
      "source": [
        "# Train a Logistic Regression Model\n",
        "# Logistic Regression is simple, easy to interpret, and works well for binary outcomes like churn.\n",
        "from sklearn.linear_model import LogisticRegression\n",
        "\n",
        "# Create and train the model\n",
        "model = LogisticRegression()\n",
        "model.fit(X_train, y_train)\n"
>>>>>>> e3dfe9a (Initial push: Add churn_predictor.ipynb)
      ]
    },
    {
      "cell_type": "code",
<<<<<<< HEAD
=======
      "execution_count": 17,
      "metadata": {
        "colab": {
          "base_uri": "https://localhost:8080/"
        },
        "id": "VS_C6Az0KtCN",
        "outputId": "5ee65223-5146-43d4-dc17-dd5e09b5a9bf"
      },
      "outputs": [
        {
          "name": "stdout",
          "output_type": "stream",
          "text": [
            "Accuracy: 0.94\n",
            "Precision: 0.6666666666666666\n",
            "Recall: 0.2857142857142857\n"
          ]
        }
      ],
>>>>>>> e3dfe9a (Initial push: Add churn_predictor.ipynb)
      "source": [
        "# Evaluate Model Performance\n",
        "# These metrics tell you how well your model performs. For churn prediction, recall is especially important (how many churners we catch).\n",
        "\n",
        "from sklearn.metrics import accuracy_score, precision_score, recall_score, confusion_matrix\n",
        "\n",
        "# Predict on test set\n",
        "y_pred = model.predict(X_test)\n",
        "\n",
        "# Print metrics\n",
        "print(\"Accuracy:\", accuracy_score(y_test, y_pred))\n",
        "print(\"Precision:\", precision_score(y_test, y_pred))\n",
        "print(\"Recall:\", recall_score(y_test, y_pred))\n"
<<<<<<< HEAD
      ],
      "metadata": {
        "colab": {
          "base_uri": "https://localhost:8080/"
        },
        "id": "VS_C6Az0KtCN",
        "outputId": "5ee65223-5146-43d4-dc17-dd5e09b5a9bf"
      },
      "execution_count": 79,
      "outputs": [
        {
          "output_type": "stream",
          "name": "stdout",
          "text": [
            "Accuracy: 0.94\n",
            "Precision: 0.6666666666666666\n",
            "Recall: 0.2857142857142857\n"
          ]
        }
=======
      ]
    },
    {
      "cell_type": "code",
      "execution_count": 18,
      "metadata": {},
      "outputs": [
        {
          "data": {
            "image/png": "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",
            "text/plain": [
              "<Figure size 640x480 with 2 Axes>"
            ]
          },
          "metadata": {},
          "output_type": "display_data"
        }
      ],
      "source": [
        "# Confusion Matrix Display\n",
        "from sklearn.metrics import ConfusionMatrixDisplay\n",
        "\n",
        "ConfusionMatrixDisplay.from_estimator(model, X_test, y_test, cmap=\"Blues\")\n",
        "plt.title(\"Confusion Matrix – Logistic Regression\")\n",
        "plt.grid(False)\n",
        "plt.show()\n"
>>>>>>> e3dfe9a (Initial push: Add churn_predictor.ipynb)
      ]
    },
    {
      "cell_type": "markdown",
<<<<<<< HEAD
=======
      "metadata": {},
      "source": [
        "**Model Performance Analysis**\n",
        "\n",
        "The model is very precise (0.66), meaning when it predicts churn, it’s often right.\n",
        "However, the recall is lower (0.28), which means it misses some churners.\n",
        "Rather than push for a perfectly balanced model from the start, I chose to focus on realistic CRM behavior:\n",
        "In actual business settings, false positives can lead to unnecessary outreach or discounts to loyal clients.\n",
        "That’s why the model plays it safe and prioritizes precision over recall — especially useful for small teams with limited resources."
      ]
    },
    {
      "cell_type": "markdown",
      "metadata": {
        "id": "yqH9XNlIP03f"
      },
>>>>>>> e3dfe9a (Initial push: Add churn_predictor.ipynb)
      "source": [
        " **Feature Importance**\n",
        "\n",
        "We use Logistic Regression coefficients to understand which features drive churn.  \n",
        "Positive values = higher churn risk, negative = lower churn risk.  \n",
        "This helps explain the model’s logic to business stakeholders."
<<<<<<< HEAD
      ],
      "metadata": {
        "id": "yqH9XNlIP03f"
      }
    },
    {
      "cell_type": "code",
=======
      ]
    },
    {
      "cell_type": "code",
      "execution_count": 19,
      "metadata": {
        "colab": {
          "base_uri": "https://localhost:8080/",
          "height": 496
        },
        "id": "-wKNrYzaPZEl",
        "outputId": "88737c67-9e74-470f-bbd1-4a84b29ce7aa"
      },
      "outputs": [
        {
          "data": {
            "image/png": "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",
            "text/plain": [
              "<Figure size 800x500 with 1 Axes>"
            ]
          },
          "metadata": {},
          "output_type": "display_data"
        }
      ],
>>>>>>> e3dfe9a (Initial push: Add churn_predictor.ipynb)
      "source": [
        "# Feature Importance (Logistic Regression Coefficients)\n",
        "# Create a DataFrame for feature importance\n",
        "importance_df = pd.DataFrame({\n",
        "    \"Feature\": X.columns,\n",
        "    \"Coefficient\": model.coef_[0]\n",
        "}).sort_values(by=\"Coefficient\", ascending=False)\n",
        "\n",
        "# Plot with hue to future-proof the code\n",
        "plt.figure(figsize=(8, 5))\n",
        "sns.barplot(\n",
        "    x=\"Coefficient\",\n",
        "    y=\"Feature\",\n",
        "    data=importance_df,\n",
        "    hue=\"Feature\",     # Add hue\n",
        "    palette=\"crest\",\n",
        "    legend=False       # Hide redundant legend\n",
        ")\n",
        "plt.title(\"Feature Importance (Logistic Regression Coefficients)\")\n",
        "plt.xlabel(\"Impact on Churn (positive = more likely to churn)\")\n",
        "plt.ylabel(\"Feature\")\n",
        "plt.axvline(0, color='gray', linestyle='--')\n",
        "plt.show()\n",
        "\n",
        "\n",
        "# Positive values → These features make churn more likely.\n",
        "# Negative values → These features reduce the chance of churn.\n",
        "# The bigger the absolute value, the stronger the effect.\n",
        "# Ex: \"A higher number of support tickets and larger usage drop are strong indicators that a customer will churn.\""
<<<<<<< HEAD
      ],
      "metadata": {
        "colab": {
          "base_uri": "https://localhost:8080/",
          "height": 496
        },
        "id": "-wKNrYzaPZEl",
        "outputId": "88737c67-9e74-470f-bbd1-4a84b29ce7aa"
      },
      "execution_count": 80,
      "outputs": [
        {
          "output_type": "display_data",
          "data": {
            "text/plain": [
              "<Figure size 800x500 with 1 Axes>"
            ],
            "image/png": "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\n"
          },
          "metadata": {}
        }
=======
>>>>>>> e3dfe9a (Initial push: Add churn_predictor.ipynb)
      ]
    },
    {
      "cell_type": "code",
<<<<<<< HEAD
=======
      "execution_count": 20,
      "metadata": {
        "id": "V0LNrUYZRJVG"
      },
      "outputs": [],
>>>>>>> e3dfe9a (Initial push: Add churn_predictor.ipynb)
      "source": [
        "# Predict churn probabilities for all customers\n",
        "# This gives each customer a score between 0 and 1 — higher = more likely to churn.\n",
        "# We multiply by 100 to show percentage churn probablity as a percentage %\n",
        "df[\"ChurnProbability\"] = (model.predict_proba(X)[:, 1] * 100).round(1)\n"
<<<<<<< HEAD
      ],
      "metadata": {
        "id": "V0LNrUYZRJVG"
      },
      "execution_count": 81,
      "outputs": []
    },
    {
      "cell_type": "code",
      "source": [
        "df[\"ChurnProbability\"]"
      ],
=======
      ]
    },
    {
      "cell_type": "code",
      "execution_count": 21,
>>>>>>> e3dfe9a (Initial push: Add churn_predictor.ipynb)
      "metadata": {
        "colab": {
          "base_uri": "https://localhost:8080/",
          "height": 458
        },
        "id": "TsUuftk_Ts_x",
        "outputId": "3f8eea9f-359c-4b5b-a737-26580da489dc"
      },
<<<<<<< HEAD
      "execution_count": 82,
      "outputs": [
        {
          "output_type": "execute_result",
=======
      "outputs": [
        {
>>>>>>> e3dfe9a (Initial push: Add churn_predictor.ipynb)
          "data": {
            "text/plain": [
              "0       0.0\n",
              "1      23.9\n",
              "2       0.3\n",
              "3       0.1\n",
              "4       9.8\n",
              "       ... \n",
              "495     0.0\n",
              "496     0.0\n",
              "497     0.1\n",
              "498     2.0\n",
              "499    21.8\n",
              "Name: ChurnProbability, Length: 500, dtype: float64"
<<<<<<< HEAD
            ],
            "text/html": [
              "<div>\n",
              "<style scoped>\n",
              "    .dataframe tbody tr th:only-of-type {\n",
              "        vertical-align: middle;\n",
              "    }\n",
              "\n",
              "    .dataframe tbody tr th {\n",
              "        vertical-align: top;\n",
              "    }\n",
              "\n",
              "    .dataframe thead th {\n",
              "        text-align: right;\n",
              "    }\n",
              "</style>\n",
              "<table border=\"1\" class=\"dataframe\">\n",
              "  <thead>\n",
              "    <tr style=\"text-align: right;\">\n",
              "      <th></th>\n",
              "      <th>ChurnProbability</th>\n",
              "    </tr>\n",
              "  </thead>\n",
              "  <tbody>\n",
              "    <tr>\n",
              "      <th>0</th>\n",
              "      <td>0.0</td>\n",
              "    </tr>\n",
              "    <tr>\n",
              "      <th>1</th>\n",
              "      <td>23.9</td>\n",
              "    </tr>\n",
              "    <tr>\n",
              "      <th>2</th>\n",
              "      <td>0.3</td>\n",
              "    </tr>\n",
              "    <tr>\n",
              "      <th>3</th>\n",
              "      <td>0.1</td>\n",
              "    </tr>\n",
              "    <tr>\n",
              "      <th>4</th>\n",
              "      <td>9.8</td>\n",
              "    </tr>\n",
              "    <tr>\n",
              "      <th>...</th>\n",
              "      <td>...</td>\n",
              "    </tr>\n",
              "    <tr>\n",
              "      <th>495</th>\n",
              "      <td>0.0</td>\n",
              "    </tr>\n",
              "    <tr>\n",
              "      <th>496</th>\n",
              "      <td>0.0</td>\n",
              "    </tr>\n",
              "    <tr>\n",
              "      <th>497</th>\n",
              "      <td>0.1</td>\n",
              "    </tr>\n",
              "    <tr>\n",
              "      <th>498</th>\n",
              "      <td>2.0</td>\n",
              "    </tr>\n",
              "    <tr>\n",
              "      <th>499</th>\n",
              "      <td>21.8</td>\n",
              "    </tr>\n",
              "  </tbody>\n",
              "</table>\n",
              "<p>500 rows × 1 columns</p>\n",
              "</div><br><label><b>dtype:</b> float64</label>"
            ]
          },
          "metadata": {},
          "execution_count": 82
        }
=======
            ]
          },
          "execution_count": 21,
          "metadata": {},
          "output_type": "execute_result"
        }
      ],
      "source": [
        "df[\"ChurnProbability\"]"
>>>>>>> e3dfe9a (Initial push: Add churn_predictor.ipynb)
      ]
    },
    {
      "cell_type": "code",
<<<<<<< HEAD
=======
      "execution_count": 22,
      "metadata": {
        "id": "zoh4vBmcRbAH"
      },
      "outputs": [],
>>>>>>> e3dfe9a (Initial push: Add churn_predictor.ipynb)
      "source": [
        "# We create a Retention Strategy\n",
        "# First we’ll define: Low Risk = probability < 0.3, Medium Risk = 0.3 to 0.6, High Risk = > 0.6\n",
        "# Second we'll recommend actions like: \"No Action\", \"Send Promo\"\"Call & Retain\"\n",
        "\n",
        "def retention_action(prob):\n",
        "    if prob > 0.6:\n",
        "        return \"Call & Retain\"\n",
        "    elif prob > 0.3:\n",
        "        return \"Send Promo\"\n",
        "    else:\n",
        "        return \"No Action\"\n",
        "\n",
        "df[\"RecommendedAction\"] = df[\"ChurnProbability\"].apply(retention_action)\n",
        "\n"
<<<<<<< HEAD
      ],
      "metadata": {
        "id": "zoh4vBmcRbAH"
      },
      "execution_count": 83,
      "outputs": []
    },
    {
      "cell_type": "code",
      "source": [
        "df.head()"
      ],
=======
      ]
    },
    {
      "cell_type": "code",
      "execution_count": 23,
>>>>>>> e3dfe9a (Initial push: Add churn_predictor.ipynb)
      "metadata": {
        "colab": {
          "base_uri": "https://localhost:8080/",
          "height": 206
        },
        "id": "L9tCOnqfUrgW",
        "outputId": "fe4c0d32-1d2a-461c-c915-43ed719719e6"
      },
<<<<<<< HEAD
      "execution_count": 84,
      "outputs": [
        {
          "output_type": "execute_result",
          "data": {
            "text/plain": [
              "   CustomerID    Industry  TenureMonths  LastLoginDaysAgo  SupportTickets  \\\n",
              "0        1001     Finance            20                30               1   \n",
              "1        1002   Education            48                39               3   \n",
              "2        1003  Healthcare            25                36               1   \n",
              "3        1004   Education            22                35               2   \n",
              "4        1005   Education            13                23               4   \n",
              "\n",
              "   AvgUsage  UsageDropPct  ContractEndsIn  Churned  ChurnProbability  \\\n",
              "0     98.42         24.81              20        0               0.0   \n",
              "1     67.23         58.54              18        1              23.9   \n",
              "2     39.51         51.25              21        0               0.3   \n",
              "3     36.95         33.28              10        0               0.1   \n",
              "4     44.62         60.73              15        0               9.8   \n",
              "\n",
              "  RecommendedAction  \n",
              "0         No Action  \n",
              "1     Call & Retain  \n",
              "2         No Action  \n",
              "3         No Action  \n",
              "4     Call & Retain  "
            ],
            "text/html": [
              "\n",
              "  <div id=\"df-b03a4470-85a4-46e6-abda-e72a188078b9\" class=\"colab-df-container\">\n",
              "    <div>\n",
=======
      "outputs": [
        {
          "data": {
            "text/html": [
              "<div>\n",
>>>>>>> e3dfe9a (Initial push: Add churn_predictor.ipynb)
              "<style scoped>\n",
              "    .dataframe tbody tr th:only-of-type {\n",
              "        vertical-align: middle;\n",
              "    }\n",
              "\n",
              "    .dataframe tbody tr th {\n",
              "        vertical-align: top;\n",
              "    }\n",
              "\n",
              "    .dataframe thead th {\n",
              "        text-align: right;\n",
              "    }\n",
              "</style>\n",
              "<table border=\"1\" class=\"dataframe\">\n",
              "  <thead>\n",
              "    <tr style=\"text-align: right;\">\n",
              "      <th></th>\n",
              "      <th>CustomerID</th>\n",
              "      <th>Industry</th>\n",
              "      <th>TenureMonths</th>\n",
              "      <th>LastLoginDaysAgo</th>\n",
              "      <th>SupportTickets</th>\n",
              "      <th>AvgUsage</th>\n",
              "      <th>UsageDropPct</th>\n",
              "      <th>ContractEndsIn</th>\n",
              "      <th>Churned</th>\n",
              "      <th>ChurnProbability</th>\n",
              "      <th>RecommendedAction</th>\n",
              "    </tr>\n",
              "  </thead>\n",
              "  <tbody>\n",
              "    <tr>\n",
              "      <th>0</th>\n",
              "      <td>1001</td>\n",
              "      <td>Finance</td>\n",
              "      <td>20</td>\n",
              "      <td>30</td>\n",
              "      <td>1</td>\n",
              "      <td>98.42</td>\n",
              "      <td>24.81</td>\n",
              "      <td>20</td>\n",
              "      <td>0</td>\n",
              "      <td>0.0</td>\n",
              "      <td>No Action</td>\n",
              "    </tr>\n",
              "    <tr>\n",
              "      <th>1</th>\n",
              "      <td>1002</td>\n",
              "      <td>Education</td>\n",
              "      <td>48</td>\n",
              "      <td>39</td>\n",
              "      <td>3</td>\n",
              "      <td>67.23</td>\n",
              "      <td>58.54</td>\n",
              "      <td>18</td>\n",
              "      <td>1</td>\n",
              "      <td>23.9</td>\n",
              "      <td>Call &amp; Retain</td>\n",
              "    </tr>\n",
              "    <tr>\n",
              "      <th>2</th>\n",
              "      <td>1003</td>\n",
              "      <td>Healthcare</td>\n",
              "      <td>25</td>\n",
              "      <td>36</td>\n",
              "      <td>1</td>\n",
              "      <td>39.51</td>\n",
              "      <td>51.25</td>\n",
              "      <td>21</td>\n",
              "      <td>0</td>\n",
              "      <td>0.3</td>\n",
              "      <td>No Action</td>\n",
              "    </tr>\n",
              "    <tr>\n",
              "      <th>3</th>\n",
              "      <td>1004</td>\n",
              "      <td>Education</td>\n",
              "      <td>22</td>\n",
              "      <td>35</td>\n",
              "      <td>2</td>\n",
              "      <td>36.95</td>\n",
              "      <td>33.28</td>\n",
              "      <td>10</td>\n",
              "      <td>0</td>\n",
              "      <td>0.1</td>\n",
              "      <td>No Action</td>\n",
              "    </tr>\n",
              "    <tr>\n",
              "      <th>4</th>\n",
              "      <td>1005</td>\n",
              "      <td>Education</td>\n",
              "      <td>13</td>\n",
              "      <td>23</td>\n",
              "      <td>4</td>\n",
              "      <td>44.62</td>\n",
              "      <td>60.73</td>\n",
              "      <td>15</td>\n",
              "      <td>0</td>\n",
              "      <td>9.8</td>\n",
              "      <td>Call &amp; Retain</td>\n",
              "    </tr>\n",
              "  </tbody>\n",
              "</table>\n",
<<<<<<< HEAD
              "</div>\n",
              "    <div class=\"colab-df-buttons\">\n",
              "\n",
              "  <div class=\"colab-df-container\">\n",
              "    <button class=\"colab-df-convert\" onclick=\"convertToInteractive('df-b03a4470-85a4-46e6-abda-e72a188078b9')\"\n",
              "            title=\"Convert this dataframe to an interactive table.\"\n",
              "            style=\"display:none;\">\n",
              "\n",
              "  <svg xmlns=\"http://www.w3.org/2000/svg\" height=\"24px\" viewBox=\"0 -960 960 960\">\n",
              "    <path d=\"M120-120v-720h720v720H120Zm60-500h600v-160H180v160Zm220 220h160v-160H400v160Zm0 220h160v-160H400v160ZM180-400h160v-160H180v160Zm440 0h160v-160H620v160ZM180-180h160v-160H180v160Zm440 0h160v-160H620v160Z\"/>\n",
              "  </svg>\n",
              "    </button>\n",
              "\n",
              "  <style>\n",
              "    .colab-df-container {\n",
              "      display:flex;\n",
              "      gap: 12px;\n",
              "    }\n",
              "\n",
              "    .colab-df-convert {\n",
              "      background-color: #E8F0FE;\n",
              "      border: none;\n",
              "      border-radius: 50%;\n",
              "      cursor: pointer;\n",
              "      display: none;\n",
              "      fill: #1967D2;\n",
              "      height: 32px;\n",
              "      padding: 0 0 0 0;\n",
              "      width: 32px;\n",
              "    }\n",
              "\n",
              "    .colab-df-convert:hover {\n",
              "      background-color: #E2EBFA;\n",
              "      box-shadow: 0px 1px 2px rgba(60, 64, 67, 0.3), 0px 1px 3px 1px rgba(60, 64, 67, 0.15);\n",
              "      fill: #174EA6;\n",
              "    }\n",
              "\n",
              "    .colab-df-buttons div {\n",
              "      margin-bottom: 4px;\n",
              "    }\n",
              "\n",
              "    [theme=dark] .colab-df-convert {\n",
              "      background-color: #3B4455;\n",
              "      fill: #D2E3FC;\n",
              "    }\n",
              "\n",
              "    [theme=dark] .colab-df-convert:hover {\n",
              "      background-color: #434B5C;\n",
              "      box-shadow: 0px 1px 3px 1px rgba(0, 0, 0, 0.15);\n",
              "      filter: drop-shadow(0px 1px 2px rgba(0, 0, 0, 0.3));\n",
              "      fill: #FFFFFF;\n",
              "    }\n",
              "  </style>\n",
              "\n",
              "    <script>\n",
              "      const buttonEl =\n",
              "        document.querySelector('#df-b03a4470-85a4-46e6-abda-e72a188078b9 button.colab-df-convert');\n",
              "      buttonEl.style.display =\n",
              "        google.colab.kernel.accessAllowed ? 'block' : 'none';\n",
              "\n",
              "      async function convertToInteractive(key) {\n",
              "        const element = document.querySelector('#df-b03a4470-85a4-46e6-abda-e72a188078b9');\n",
              "        const dataTable =\n",
              "          await google.colab.kernel.invokeFunction('convertToInteractive',\n",
              "                                                    [key], {});\n",
              "        if (!dataTable) return;\n",
              "\n",
              "        const docLinkHtml = 'Like what you see? Visit the ' +\n",
              "          '<a target=\"_blank\" href=https://colab.research.google.com/notebooks/data_table.ipynb>data table notebook</a>'\n",
              "          + ' to learn more about interactive tables.';\n",
              "        element.innerHTML = '';\n",
              "        dataTable['output_type'] = 'display_data';\n",
              "        await google.colab.output.renderOutput(dataTable, element);\n",
              "        const docLink = document.createElement('div');\n",
              "        docLink.innerHTML = docLinkHtml;\n",
              "        element.appendChild(docLink);\n",
              "      }\n",
              "    </script>\n",
              "  </div>\n",
              "\n",
              "\n",
              "    <div id=\"df-7154c116-ac7b-4a90-bbb8-3a32d2eeddeb\">\n",
              "      <button class=\"colab-df-quickchart\" onclick=\"quickchart('df-7154c116-ac7b-4a90-bbb8-3a32d2eeddeb')\"\n",
              "                title=\"Suggest charts\"\n",
              "                style=\"display:none;\">\n",
              "\n",
              "<svg xmlns=\"http://www.w3.org/2000/svg\" height=\"24px\"viewBox=\"0 0 24 24\"\n",
              "     width=\"24px\">\n",
              "    <g>\n",
              "        <path d=\"M19 3H5c-1.1 0-2 .9-2 2v14c0 1.1.9 2 2 2h14c1.1 0 2-.9 2-2V5c0-1.1-.9-2-2-2zM9 17H7v-7h2v7zm4 0h-2V7h2v10zm4 0h-2v-4h2v4z\"/>\n",
              "    </g>\n",
              "</svg>\n",
              "      </button>\n",
              "\n",
              "<style>\n",
              "  .colab-df-quickchart {\n",
              "      --bg-color: #E8F0FE;\n",
              "      --fill-color: #1967D2;\n",
              "      --hover-bg-color: #E2EBFA;\n",
              "      --hover-fill-color: #174EA6;\n",
              "      --disabled-fill-color: #AAA;\n",
              "      --disabled-bg-color: #DDD;\n",
              "  }\n",
              "\n",
              "  [theme=dark] .colab-df-quickchart {\n",
              "      --bg-color: #3B4455;\n",
              "      --fill-color: #D2E3FC;\n",
              "      --hover-bg-color: #434B5C;\n",
              "      --hover-fill-color: #FFFFFF;\n",
              "      --disabled-bg-color: #3B4455;\n",
              "      --disabled-fill-color: #666;\n",
              "  }\n",
              "\n",
              "  .colab-df-quickchart {\n",
              "    background-color: var(--bg-color);\n",
              "    border: none;\n",
              "    border-radius: 50%;\n",
              "    cursor: pointer;\n",
              "    display: none;\n",
              "    fill: var(--fill-color);\n",
              "    height: 32px;\n",
              "    padding: 0;\n",
              "    width: 32px;\n",
              "  }\n",
              "\n",
              "  .colab-df-quickchart:hover {\n",
              "    background-color: var(--hover-bg-color);\n",
              "    box-shadow: 0 1px 2px rgba(60, 64, 67, 0.3), 0 1px 3px 1px rgba(60, 64, 67, 0.15);\n",
              "    fill: var(--button-hover-fill-color);\n",
              "  }\n",
              "\n",
              "  .colab-df-quickchart-complete:disabled,\n",
              "  .colab-df-quickchart-complete:disabled:hover {\n",
              "    background-color: var(--disabled-bg-color);\n",
              "    fill: var(--disabled-fill-color);\n",
              "    box-shadow: none;\n",
              "  }\n",
              "\n",
              "  .colab-df-spinner {\n",
              "    border: 2px solid var(--fill-color);\n",
              "    border-color: transparent;\n",
              "    border-bottom-color: var(--fill-color);\n",
              "    animation:\n",
              "      spin 1s steps(1) infinite;\n",
              "  }\n",
              "\n",
              "  @keyframes spin {\n",
              "    0% {\n",
              "      border-color: transparent;\n",
              "      border-bottom-color: var(--fill-color);\n",
              "      border-left-color: var(--fill-color);\n",
              "    }\n",
              "    20% {\n",
              "      border-color: transparent;\n",
              "      border-left-color: var(--fill-color);\n",
              "      border-top-color: var(--fill-color);\n",
              "    }\n",
              "    30% {\n",
              "      border-color: transparent;\n",
              "      border-left-color: var(--fill-color);\n",
              "      border-top-color: var(--fill-color);\n",
              "      border-right-color: var(--fill-color);\n",
              "    }\n",
              "    40% {\n",
              "      border-color: transparent;\n",
              "      border-right-color: var(--fill-color);\n",
              "      border-top-color: var(--fill-color);\n",
              "    }\n",
              "    60% {\n",
              "      border-color: transparent;\n",
              "      border-right-color: var(--fill-color);\n",
              "    }\n",
              "    80% {\n",
              "      border-color: transparent;\n",
              "      border-right-color: var(--fill-color);\n",
              "      border-bottom-color: var(--fill-color);\n",
              "    }\n",
              "    90% {\n",
              "      border-color: transparent;\n",
              "      border-bottom-color: var(--fill-color);\n",
              "    }\n",
              "  }\n",
              "</style>\n",
              "\n",
              "      <script>\n",
              "        async function quickchart(key) {\n",
              "          const quickchartButtonEl =\n",
              "            document.querySelector('#' + key + ' button');\n",
              "          quickchartButtonEl.disabled = true;  // To prevent multiple clicks.\n",
              "          quickchartButtonEl.classList.add('colab-df-spinner');\n",
              "          try {\n",
              "            const charts = await google.colab.kernel.invokeFunction(\n",
              "                'suggestCharts', [key], {});\n",
              "          } catch (error) {\n",
              "            console.error('Error during call to suggestCharts:', error);\n",
              "          }\n",
              "          quickchartButtonEl.classList.remove('colab-df-spinner');\n",
              "          quickchartButtonEl.classList.add('colab-df-quickchart-complete');\n",
              "        }\n",
              "        (() => {\n",
              "          let quickchartButtonEl =\n",
              "            document.querySelector('#df-7154c116-ac7b-4a90-bbb8-3a32d2eeddeb button');\n",
              "          quickchartButtonEl.style.display =\n",
              "            google.colab.kernel.accessAllowed ? 'block' : 'none';\n",
              "        })();\n",
              "      </script>\n",
              "    </div>\n",
              "\n",
              "    </div>\n",
              "  </div>\n"
            ],
            "application/vnd.google.colaboratory.intrinsic+json": {
              "type": "dataframe",
              "variable_name": "df",
              "summary": "{\n  \"name\": \"df\",\n  \"rows\": 500,\n  \"fields\": [\n    {\n      \"column\": \"CustomerID\",\n      \"properties\": {\n        \"dtype\": \"number\",\n        \"std\": 144,\n        \"min\": 1001,\n        \"max\": 1500,\n        \"num_unique_values\": 500,\n        \"samples\": [\n          1362,\n          1074,\n          1375\n        ],\n        \"semantic_type\": \"\",\n        \"description\": \"\"\n      }\n    },\n    {\n      \"column\": \"Industry\",\n      \"properties\": {\n        \"dtype\": \"category\",\n        \"num_unique_values\": 5,\n        \"samples\": [\n          \"Education\",\n          \"Tech\",\n          \"Healthcare\"\n        ],\n        \"semantic_type\": \"\",\n        \"description\": \"\"\n      }\n    },\n    {\n      \"column\": \"TenureMonths\",\n      \"properties\": {\n        \"dtype\": \"number\",\n        \"std\": 17,\n        \"min\": 1,\n        \"max\": 59,\n        \"num_unique_values\": 59,\n        \"samples\": [\n          20,\n          59,\n          44\n        ],\n        \"semantic_type\": \"\",\n        \"description\": \"\"\n      }\n    },\n    {\n      \"column\": \"LastLoginDaysAgo\",\n      \"properties\": {\n        \"dtype\": \"number\",\n        \"std\": 17,\n        \"min\": 0,\n        \"max\": 59,\n        \"num_unique_values\": 60,\n        \"samples\": [\n          30,\n          5,\n          8\n        ],\n        \"semantic_type\": \"\",\n        \"description\": \"\"\n      }\n    },\n    {\n      \"column\": \"SupportTickets\",\n      \"properties\": {\n        \"dtype\": \"number\",\n        \"std\": 1,\n        \"min\": 0,\n        \"max\": 8,\n        \"num_unique_values\": 9,\n        \"samples\": [\n          5,\n          3,\n          0\n        ],\n        \"semantic_type\": \"\",\n        \"description\": \"\"\n      }\n    },\n    {\n      \"column\": \"AvgUsage\",\n      \"properties\": {\n        \"dtype\": \"number\",\n        \"std\": 20.40017823093975,\n        \"min\": 30.03,\n        \"max\": 99.98,\n        \"num_unique_values\": 482,\n        \"samples\": [\n          36.35,\n          71.33,\n          94.18\n        ],\n        \"semantic_type\": \"\",\n        \"description\": \"\"\n      }\n    },\n    {\n      \"column\": \"UsageDropPct\",\n      \"properties\": {\n        \"dtype\": \"number\",\n        \"std\": 22.149537935087395,\n        \"min\": 0.16,\n        \"max\": 79.96,\n        \"num_unique_values\": 482,\n        \"samples\": [\n          57.02,\n          74.69,\n          39.84\n        ],\n        \"semantic_type\": \"\",\n        \"description\": \"\"\n      }\n    },\n    {\n      \"column\": \"ContractEndsIn\",\n      \"properties\": {\n        \"dtype\": \"number\",\n        \"std\": 6,\n        \"min\": 0,\n        \"max\": 23,\n        \"num_unique_values\": 24,\n        \"samples\": [\n          23,\n          1,\n          20\n        ],\n        \"semantic_type\": \"\",\n        \"description\": \"\"\n      }\n    },\n    {\n      \"column\": \"Churned\",\n      \"properties\": {\n        \"dtype\": \"number\",\n        \"std\": 0,\n        \"min\": 0,\n        \"max\": 1,\n        \"num_unique_values\": 2,\n        \"samples\": [\n          1,\n          0\n        ],\n        \"semantic_type\": \"\",\n        \"description\": \"\"\n      }\n    },\n    {\n      \"column\": \"ChurnProbability\",\n      \"properties\": {\n        \"dtype\": \"number\",\n        \"std\": 17.546540374621912,\n        \"min\": 0.0,\n        \"max\": 96.4,\n        \"num_unique_values\": 128,\n        \"samples\": [\n          2.3,\n          73.8\n        ],\n        \"semantic_type\": \"\",\n        \"description\": \"\"\n      }\n    },\n    {\n      \"column\": \"RecommendedAction\",\n      \"properties\": {\n        \"dtype\": \"category\",\n        \"num_unique_values\": 3,\n        \"samples\": [\n          \"No Action\",\n          \"Call & Retain\"\n        ],\n        \"semantic_type\": \"\",\n        \"description\": \"\"\n      }\n    }\n  ]\n}"
            }
          },
          "metadata": {},
          "execution_count": 84
        }
=======
              "</div>"
            ],
            "text/plain": [
              "   CustomerID    Industry  TenureMonths  LastLoginDaysAgo  SupportTickets  \\\n",
              "0        1001     Finance            20                30               1   \n",
              "1        1002   Education            48                39               3   \n",
              "2        1003  Healthcare            25                36               1   \n",
              "3        1004   Education            22                35               2   \n",
              "4        1005   Education            13                23               4   \n",
              "\n",
              "   AvgUsage  UsageDropPct  ContractEndsIn  Churned  ChurnProbability  \\\n",
              "0     98.42         24.81              20        0               0.0   \n",
              "1     67.23         58.54              18        1              23.9   \n",
              "2     39.51         51.25              21        0               0.3   \n",
              "3     36.95         33.28              10        0               0.1   \n",
              "4     44.62         60.73              15        0               9.8   \n",
              "\n",
              "  RecommendedAction  \n",
              "0         No Action  \n",
              "1     Call & Retain  \n",
              "2         No Action  \n",
              "3         No Action  \n",
              "4     Call & Retain  "
            ]
          },
          "execution_count": 23,
          "metadata": {},
          "output_type": "execute_result"
        }
      ],
      "source": [
        "df.head()"
>>>>>>> e3dfe9a (Initial push: Add churn_predictor.ipynb)
      ]
    },
    {
      "cell_type": "code",
<<<<<<< HEAD
      "source": [
        "# Show top 10 most at-risk customers\n",
        "df[[\"CustomerID\", \"ChurnProbability\", \"RecommendedAction\"]].sort_values(by=\"ChurnProbability\", ascending=False).head(10)\n"
      ],
=======
      "execution_count": 24,
>>>>>>> e3dfe9a (Initial push: Add churn_predictor.ipynb)
      "metadata": {
        "colab": {
          "base_uri": "https://localhost:8080/",
          "height": 363
        },
        "id": "UPRify99UzE2",
        "outputId": "4f11d367-e824-4a7f-e53e-8931602bd7aa"
      },
<<<<<<< HEAD
      "execution_count": 85,
      "outputs": [
        {
          "output_type": "execute_result",
          "data": {
            "text/plain": [
              "     CustomerID  ChurnProbability RecommendedAction\n",
              "480        1481              96.4     Call & Retain\n",
              "262        1263              95.2     Call & Retain\n",
              "32         1033              94.2     Call & Retain\n",
              "20         1021              93.3     Call & Retain\n",
              "466        1467              92.4     Call & Retain\n",
              "179        1180              82.9     Call & Retain\n",
              "28         1029              82.2     Call & Retain\n",
              "235        1236              77.5     Call & Retain\n",
              "265        1266              77.1     Call & Retain\n",
              "340        1341              76.8     Call & Retain"
            ],
            "text/html": [
              "\n",
              "  <div id=\"df-be524ea0-1bc9-4e7e-84d1-07f748ade130\" class=\"colab-df-container\">\n",
              "    <div>\n",
=======
      "outputs": [
        {
          "data": {
            "text/html": [
              "<div>\n",
>>>>>>> e3dfe9a (Initial push: Add churn_predictor.ipynb)
              "<style scoped>\n",
              "    .dataframe tbody tr th:only-of-type {\n",
              "        vertical-align: middle;\n",
              "    }\n",
              "\n",
              "    .dataframe tbody tr th {\n",
              "        vertical-align: top;\n",
              "    }\n",
              "\n",
              "    .dataframe thead th {\n",
              "        text-align: right;\n",
              "    }\n",
              "</style>\n",
              "<table border=\"1\" class=\"dataframe\">\n",
              "  <thead>\n",
              "    <tr style=\"text-align: right;\">\n",
              "      <th></th>\n",
              "      <th>CustomerID</th>\n",
              "      <th>ChurnProbability</th>\n",
              "      <th>RecommendedAction</th>\n",
              "    </tr>\n",
              "  </thead>\n",
              "  <tbody>\n",
              "    <tr>\n",
              "      <th>480</th>\n",
              "      <td>1481</td>\n",
              "      <td>96.4</td>\n",
              "      <td>Call &amp; Retain</td>\n",
              "    </tr>\n",
              "    <tr>\n",
              "      <th>262</th>\n",
              "      <td>1263</td>\n",
              "      <td>95.2</td>\n",
              "      <td>Call &amp; Retain</td>\n",
              "    </tr>\n",
              "    <tr>\n",
              "      <th>32</th>\n",
              "      <td>1033</td>\n",
              "      <td>94.2</td>\n",
              "      <td>Call &amp; Retain</td>\n",
              "    </tr>\n",
              "    <tr>\n",
              "      <th>20</th>\n",
              "      <td>1021</td>\n",
              "      <td>93.3</td>\n",
              "      <td>Call &amp; Retain</td>\n",
              "    </tr>\n",
              "    <tr>\n",
              "      <th>466</th>\n",
              "      <td>1467</td>\n",
              "      <td>92.4</td>\n",
              "      <td>Call &amp; Retain</td>\n",
              "    </tr>\n",
              "    <tr>\n",
              "      <th>179</th>\n",
              "      <td>1180</td>\n",
              "      <td>82.9</td>\n",
              "      <td>Call &amp; Retain</td>\n",
              "    </tr>\n",
              "    <tr>\n",
              "      <th>28</th>\n",
              "      <td>1029</td>\n",
              "      <td>82.2</td>\n",
              "      <td>Call &amp; Retain</td>\n",
              "    </tr>\n",
              "    <tr>\n",
              "      <th>235</th>\n",
              "      <td>1236</td>\n",
              "      <td>77.5</td>\n",
              "      <td>Call &amp; Retain</td>\n",
              "    </tr>\n",
              "    <tr>\n",
              "      <th>265</th>\n",
              "      <td>1266</td>\n",
              "      <td>77.1</td>\n",
              "      <td>Call &amp; Retain</td>\n",
              "    </tr>\n",
              "    <tr>\n",
              "      <th>340</th>\n",
              "      <td>1341</td>\n",
              "      <td>76.8</td>\n",
              "      <td>Call &amp; Retain</td>\n",
              "    </tr>\n",
              "  </tbody>\n",
              "</table>\n",
<<<<<<< HEAD
              "</div>\n",
              "    <div class=\"colab-df-buttons\">\n",
              "\n",
              "  <div class=\"colab-df-container\">\n",
              "    <button class=\"colab-df-convert\" onclick=\"convertToInteractive('df-be524ea0-1bc9-4e7e-84d1-07f748ade130')\"\n",
              "            title=\"Convert this dataframe to an interactive table.\"\n",
              "            style=\"display:none;\">\n",
              "\n",
              "  <svg xmlns=\"http://www.w3.org/2000/svg\" height=\"24px\" viewBox=\"0 -960 960 960\">\n",
              "    <path d=\"M120-120v-720h720v720H120Zm60-500h600v-160H180v160Zm220 220h160v-160H400v160Zm0 220h160v-160H400v160ZM180-400h160v-160H180v160Zm440 0h160v-160H620v160ZM180-180h160v-160H180v160Zm440 0h160v-160H620v160Z\"/>\n",
              "  </svg>\n",
              "    </button>\n",
              "\n",
              "  <style>\n",
              "    .colab-df-container {\n",
              "      display:flex;\n",
              "      gap: 12px;\n",
              "    }\n",
              "\n",
              "    .colab-df-convert {\n",
              "      background-color: #E8F0FE;\n",
              "      border: none;\n",
              "      border-radius: 50%;\n",
              "      cursor: pointer;\n",
              "      display: none;\n",
              "      fill: #1967D2;\n",
              "      height: 32px;\n",
              "      padding: 0 0 0 0;\n",
              "      width: 32px;\n",
              "    }\n",
              "\n",
              "    .colab-df-convert:hover {\n",
              "      background-color: #E2EBFA;\n",
              "      box-shadow: 0px 1px 2px rgba(60, 64, 67, 0.3), 0px 1px 3px 1px rgba(60, 64, 67, 0.15);\n",
              "      fill: #174EA6;\n",
              "    }\n",
              "\n",
              "    .colab-df-buttons div {\n",
              "      margin-bottom: 4px;\n",
              "    }\n",
              "\n",
              "    [theme=dark] .colab-df-convert {\n",
              "      background-color: #3B4455;\n",
              "      fill: #D2E3FC;\n",
              "    }\n",
              "\n",
              "    [theme=dark] .colab-df-convert:hover {\n",
              "      background-color: #434B5C;\n",
              "      box-shadow: 0px 1px 3px 1px rgba(0, 0, 0, 0.15);\n",
              "      filter: drop-shadow(0px 1px 2px rgba(0, 0, 0, 0.3));\n",
              "      fill: #FFFFFF;\n",
              "    }\n",
              "  </style>\n",
              "\n",
              "    <script>\n",
              "      const buttonEl =\n",
              "        document.querySelector('#df-be524ea0-1bc9-4e7e-84d1-07f748ade130 button.colab-df-convert');\n",
              "      buttonEl.style.display =\n",
              "        google.colab.kernel.accessAllowed ? 'block' : 'none';\n",
              "\n",
              "      async function convertToInteractive(key) {\n",
              "        const element = document.querySelector('#df-be524ea0-1bc9-4e7e-84d1-07f748ade130');\n",
              "        const dataTable =\n",
              "          await google.colab.kernel.invokeFunction('convertToInteractive',\n",
              "                                                    [key], {});\n",
              "        if (!dataTable) return;\n",
              "\n",
              "        const docLinkHtml = 'Like what you see? Visit the ' +\n",
              "          '<a target=\"_blank\" href=https://colab.research.google.com/notebooks/data_table.ipynb>data table notebook</a>'\n",
              "          + ' to learn more about interactive tables.';\n",
              "        element.innerHTML = '';\n",
              "        dataTable['output_type'] = 'display_data';\n",
              "        await google.colab.output.renderOutput(dataTable, element);\n",
              "        const docLink = document.createElement('div');\n",
              "        docLink.innerHTML = docLinkHtml;\n",
              "        element.appendChild(docLink);\n",
              "      }\n",
              "    </script>\n",
              "  </div>\n",
              "\n",
              "\n",
              "    <div id=\"df-ffc86985-b9f0-4949-9099-a14f62e7d3d3\">\n",
              "      <button class=\"colab-df-quickchart\" onclick=\"quickchart('df-ffc86985-b9f0-4949-9099-a14f62e7d3d3')\"\n",
              "                title=\"Suggest charts\"\n",
              "                style=\"display:none;\">\n",
              "\n",
              "<svg xmlns=\"http://www.w3.org/2000/svg\" height=\"24px\"viewBox=\"0 0 24 24\"\n",
              "     width=\"24px\">\n",
              "    <g>\n",
              "        <path d=\"M19 3H5c-1.1 0-2 .9-2 2v14c0 1.1.9 2 2 2h14c1.1 0 2-.9 2-2V5c0-1.1-.9-2-2-2zM9 17H7v-7h2v7zm4 0h-2V7h2v10zm4 0h-2v-4h2v4z\"/>\n",
              "    </g>\n",
              "</svg>\n",
              "      </button>\n",
              "\n",
              "<style>\n",
              "  .colab-df-quickchart {\n",
              "      --bg-color: #E8F0FE;\n",
              "      --fill-color: #1967D2;\n",
              "      --hover-bg-color: #E2EBFA;\n",
              "      --hover-fill-color: #174EA6;\n",
              "      --disabled-fill-color: #AAA;\n",
              "      --disabled-bg-color: #DDD;\n",
              "  }\n",
              "\n",
              "  [theme=dark] .colab-df-quickchart {\n",
              "      --bg-color: #3B4455;\n",
              "      --fill-color: #D2E3FC;\n",
              "      --hover-bg-color: #434B5C;\n",
              "      --hover-fill-color: #FFFFFF;\n",
              "      --disabled-bg-color: #3B4455;\n",
              "      --disabled-fill-color: #666;\n",
              "  }\n",
              "\n",
              "  .colab-df-quickchart {\n",
              "    background-color: var(--bg-color);\n",
              "    border: none;\n",
              "    border-radius: 50%;\n",
              "    cursor: pointer;\n",
              "    display: none;\n",
              "    fill: var(--fill-color);\n",
              "    height: 32px;\n",
              "    padding: 0;\n",
              "    width: 32px;\n",
              "  }\n",
              "\n",
              "  .colab-df-quickchart:hover {\n",
              "    background-color: var(--hover-bg-color);\n",
              "    box-shadow: 0 1px 2px rgba(60, 64, 67, 0.3), 0 1px 3px 1px rgba(60, 64, 67, 0.15);\n",
              "    fill: var(--button-hover-fill-color);\n",
              "  }\n",
              "\n",
              "  .colab-df-quickchart-complete:disabled,\n",
              "  .colab-df-quickchart-complete:disabled:hover {\n",
              "    background-color: var(--disabled-bg-color);\n",
              "    fill: var(--disabled-fill-color);\n",
              "    box-shadow: none;\n",
              "  }\n",
              "\n",
              "  .colab-df-spinner {\n",
              "    border: 2px solid var(--fill-color);\n",
              "    border-color: transparent;\n",
              "    border-bottom-color: var(--fill-color);\n",
              "    animation:\n",
              "      spin 1s steps(1) infinite;\n",
              "  }\n",
              "\n",
              "  @keyframes spin {\n",
              "    0% {\n",
              "      border-color: transparent;\n",
              "      border-bottom-color: var(--fill-color);\n",
              "      border-left-color: var(--fill-color);\n",
              "    }\n",
              "    20% {\n",
              "      border-color: transparent;\n",
              "      border-left-color: var(--fill-color);\n",
              "      border-top-color: var(--fill-color);\n",
              "    }\n",
              "    30% {\n",
              "      border-color: transparent;\n",
              "      border-left-color: var(--fill-color);\n",
              "      border-top-color: var(--fill-color);\n",
              "      border-right-color: var(--fill-color);\n",
              "    }\n",
              "    40% {\n",
              "      border-color: transparent;\n",
              "      border-right-color: var(--fill-color);\n",
              "      border-top-color: var(--fill-color);\n",
              "    }\n",
              "    60% {\n",
              "      border-color: transparent;\n",
              "      border-right-color: var(--fill-color);\n",
              "    }\n",
              "    80% {\n",
              "      border-color: transparent;\n",
              "      border-right-color: var(--fill-color);\n",
              "      border-bottom-color: var(--fill-color);\n",
              "    }\n",
              "    90% {\n",
              "      border-color: transparent;\n",
              "      border-bottom-color: var(--fill-color);\n",
              "    }\n",
              "  }\n",
              "</style>\n",
              "\n",
              "      <script>\n",
              "        async function quickchart(key) {\n",
              "          const quickchartButtonEl =\n",
              "            document.querySelector('#' + key + ' button');\n",
              "          quickchartButtonEl.disabled = true;  // To prevent multiple clicks.\n",
              "          quickchartButtonEl.classList.add('colab-df-spinner');\n",
              "          try {\n",
              "            const charts = await google.colab.kernel.invokeFunction(\n",
              "                'suggestCharts', [key], {});\n",
              "          } catch (error) {\n",
              "            console.error('Error during call to suggestCharts:', error);\n",
              "          }\n",
              "          quickchartButtonEl.classList.remove('colab-df-spinner');\n",
              "          quickchartButtonEl.classList.add('colab-df-quickchart-complete');\n",
              "        }\n",
              "        (() => {\n",
              "          let quickchartButtonEl =\n",
              "            document.querySelector('#df-ffc86985-b9f0-4949-9099-a14f62e7d3d3 button');\n",
              "          quickchartButtonEl.style.display =\n",
              "            google.colab.kernel.accessAllowed ? 'block' : 'none';\n",
              "        })();\n",
              "      </script>\n",
              "    </div>\n",
              "\n",
              "    </div>\n",
              "  </div>\n"
            ],
            "application/vnd.google.colaboratory.intrinsic+json": {
              "type": "dataframe",
              "summary": "{\n  \"name\": \"df[[\\\"CustomerID\\\", \\\"ChurnProbability\\\", \\\"RecommendedAction\\\"]]\",\n  \"rows\": 10,\n  \"fields\": [\n    {\n      \"column\": \"CustomerID\",\n      \"properties\": {\n        \"dtype\": \"number\",\n        \"std\": 169,\n        \"min\": 1021,\n        \"max\": 1481,\n        \"num_unique_values\": 10,\n        \"samples\": [\n          1266,\n          1263,\n          1180\n        ],\n        \"semantic_type\": \"\",\n        \"description\": \"\"\n      }\n    },\n    {\n      \"column\": \"ChurnProbability\",\n      \"properties\": {\n        \"dtype\": \"number\",\n        \"std\": 8.219489035213808,\n        \"min\": 76.8,\n        \"max\": 96.4,\n        \"num_unique_values\": 10,\n        \"samples\": [\n          77.1,\n          95.2,\n          82.9\n        ],\n        \"semantic_type\": \"\",\n        \"description\": \"\"\n      }\n    },\n    {\n      \"column\": \"RecommendedAction\",\n      \"properties\": {\n        \"dtype\": \"category\",\n        \"num_unique_values\": 1,\n        \"samples\": [\n          \"Call & Retain\"\n        ],\n        \"semantic_type\": \"\",\n        \"description\": \"\"\n      }\n    }\n  ]\n}"
            }
          },
          "metadata": {},
          "execution_count": 85
        }
=======
              "</div>"
            ],
            "text/plain": [
              "     CustomerID  ChurnProbability RecommendedAction\n",
              "480        1481              96.4     Call & Retain\n",
              "262        1263              95.2     Call & Retain\n",
              "32         1033              94.2     Call & Retain\n",
              "20         1021              93.3     Call & Retain\n",
              "466        1467              92.4     Call & Retain\n",
              "179        1180              82.9     Call & Retain\n",
              "28         1029              82.2     Call & Retain\n",
              "235        1236              77.5     Call & Retain\n",
              "265        1266              77.1     Call & Retain\n",
              "340        1341              76.8     Call & Retain"
            ]
          },
          "execution_count": 24,
          "metadata": {},
          "output_type": "execute_result"
        }
      ],
      "source": [
        "# Show top 10 most at-risk customers\n",
        "df[[\"CustomerID\", \"ChurnProbability\", \"RecommendedAction\"]].sort_values(by=\"ChurnProbability\", ascending=False).head(10)\n"
>>>>>>> e3dfe9a (Initial push: Add churn_predictor.ipynb)
      ]
    },
    {
      "cell_type": "code",
<<<<<<< HEAD
      "source": [
        "# Export the most relevant final columns to a CSV file\n",
        "df[[\"CustomerID\", \"ChurnProbability\", \"RecommendedAction\"]].to_csv(\"churn_predictions.csv\", index=False)\n"
      ],
      "metadata": {
        "id": "siy31ZIIYYeO"
      },
      "execution_count": 86,
      "outputs": []
    }
  ]
}
=======
      "execution_count": 25,
      "metadata": {
        "id": "siy31ZIIYYeO"
      },
      "outputs": [],
      "source": [
        "# Export the most relevant final columns to a CSV file\n",
        "df[[\"CustomerID\", \"ChurnProbability\", \"RecommendedAction\"]].to_csv(\"churn_predictions.csv\", index=False)\n"
      ]
    }
  ],
  "metadata": {
    "colab": {
      "provenance": []
    },
    "kernelspec": {
      "display_name": "Python 3",
      "name": "python3"
    },
    "language_info": {
      "codemirror_mode": {
        "name": "ipython",
        "version": 3
      },
      "file_extension": ".py",
      "mimetype": "text/x-python",
      "name": "python",
      "nbconvert_exporter": "python",
      "pygments_lexer": "ipython3",
      "version": "3.13.1"
    }
  },
  "nbformat": 4,
  "nbformat_minor": 0
}
>>>>>>> e3dfe9a (Initial push: Add churn_predictor.ipynb)
